{
  "nbformat": 4,
  "nbformat_minor": 0,
  "metadata": {
    "accelerator": "GPU",
    "colab": {
      "name": "Copy of v3.6 SimCLR + Linear evaluation + SC + FineTune.ipynb",
      "provenance": [],
      "collapsed_sections": [],
      "machine_shape": "hm"
    },
    "kernelspec": {
      "display_name": "Python 3",
      "name": "python3"
    },
    "language_info": {
      "name": "python"
    },
    "widgets": {
      "application/vnd.jupyter.widget-state+json": {
        "b9c1bfd955a14b12baa35583f5574ba1": {
          "model_module": "@jupyter-widgets/controls",
          "model_name": "HBoxModel",
          "model_module_version": "1.5.0",
          "state": {
            "_view_name": "HBoxView",
            "_dom_classes": [],
            "_model_name": "HBoxModel",
            "_view_module": "@jupyter-widgets/controls",
            "_model_module_version": "1.5.0",
            "_view_count": null,
            "_view_module_version": "1.5.0",
            "box_style": "",
            "layout": "IPY_MODEL_8ea276450fab4527b731562b097e7264",
            "_model_module": "@jupyter-widgets/controls",
            "children": [
              "IPY_MODEL_a9f12e1181f14915ad03d02ac30eefa6",
              "IPY_MODEL_cac254eb975448099bebf0445b09d92e",
              "IPY_MODEL_bbc1b3f075cf4e12a0455f097efa5079"
            ]
          }
        },
        "8ea276450fab4527b731562b097e7264": {
          "model_module": "@jupyter-widgets/base",
          "model_name": "LayoutModel",
          "model_module_version": "1.2.0",
          "state": {
            "_view_name": "LayoutView",
            "grid_template_rows": null,
            "right": null,
            "justify_content": null,
            "_view_module": "@jupyter-widgets/base",
            "overflow": null,
            "_model_module_version": "1.2.0",
            "_view_count": null,
            "flex_flow": null,
            "width": null,
            "min_width": null,
            "border": null,
            "align_items": null,
            "bottom": null,
            "_model_module": "@jupyter-widgets/base",
            "top": null,
            "grid_column": null,
            "overflow_y": null,
            "overflow_x": null,
            "grid_auto_flow": null,
            "grid_area": null,
            "grid_template_columns": null,
            "flex": null,
            "_model_name": "LayoutModel",
            "justify_items": null,
            "grid_row": null,
            "max_height": null,
            "align_content": null,
            "visibility": null,
            "align_self": null,
            "height": null,
            "min_height": null,
            "padding": null,
            "grid_auto_rows": null,
            "grid_gap": null,
            "max_width": null,
            "order": null,
            "_view_module_version": "1.2.0",
            "grid_template_areas": null,
            "object_position": null,
            "object_fit": null,
            "grid_auto_columns": null,
            "margin": null,
            "display": null,
            "left": null
          }
        },
        "a9f12e1181f14915ad03d02ac30eefa6": {
          "model_module": "@jupyter-widgets/controls",
          "model_name": "HTMLModel",
          "model_module_version": "1.5.0",
          "state": {
            "_view_name": "HTMLView",
            "style": "IPY_MODEL_8d8f3d0de9544b3c84d3cb2668c1dbb9",
            "_dom_classes": [],
            "description": "",
            "_model_name": "HTMLModel",
            "placeholder": "​",
            "_view_module": "@jupyter-widgets/controls",
            "_model_module_version": "1.5.0",
            "value": "100%",
            "_view_count": null,
            "_view_module_version": "1.5.0",
            "description_tooltip": null,
            "_model_module": "@jupyter-widgets/controls",
            "layout": "IPY_MODEL_4843493905f3438fbcb0e3011ae6cbba"
          }
        },
        "cac254eb975448099bebf0445b09d92e": {
          "model_module": "@jupyter-widgets/controls",
          "model_name": "FloatProgressModel",
          "model_module_version": "1.5.0",
          "state": {
            "_view_name": "ProgressView",
            "style": "IPY_MODEL_3573332ed28547639932fc244b65af5f",
            "_dom_classes": [],
            "description": "",
            "_model_name": "FloatProgressModel",
            "bar_style": "success",
            "max": 50,
            "_view_module": "@jupyter-widgets/controls",
            "_model_module_version": "1.5.0",
            "value": 50,
            "_view_count": null,
            "_view_module_version": "1.5.0",
            "orientation": "horizontal",
            "min": 0,
            "description_tooltip": null,
            "_model_module": "@jupyter-widgets/controls",
            "layout": "IPY_MODEL_725f7a7a82c74630a0a1517fab0a0e96"
          }
        },
        "bbc1b3f075cf4e12a0455f097efa5079": {
          "model_module": "@jupyter-widgets/controls",
          "model_name": "HTMLModel",
          "model_module_version": "1.5.0",
          "state": {
            "_view_name": "HTMLView",
            "style": "IPY_MODEL_495b18e9b45d4a969a1d45db0ecb6860",
            "_dom_classes": [],
            "description": "",
            "_model_name": "HTMLModel",
            "placeholder": "​",
            "_view_module": "@jupyter-widgets/controls",
            "_model_module_version": "1.5.0",
            "value": " 50/50 [02:00&lt;00:00,  2.41s/it]",
            "_view_count": null,
            "_view_module_version": "1.5.0",
            "description_tooltip": null,
            "_model_module": "@jupyter-widgets/controls",
            "layout": "IPY_MODEL_dedf25997ee844ce9ebc32b723be99b6"
          }
        },
        "8d8f3d0de9544b3c84d3cb2668c1dbb9": {
          "model_module": "@jupyter-widgets/controls",
          "model_name": "DescriptionStyleModel",
          "model_module_version": "1.5.0",
          "state": {
            "_view_name": "StyleView",
            "_model_name": "DescriptionStyleModel",
            "description_width": "",
            "_view_module": "@jupyter-widgets/base",
            "_model_module_version": "1.5.0",
            "_view_count": null,
            "_view_module_version": "1.2.0",
            "_model_module": "@jupyter-widgets/controls"
          }
        },
        "4843493905f3438fbcb0e3011ae6cbba": {
          "model_module": "@jupyter-widgets/base",
          "model_name": "LayoutModel",
          "model_module_version": "1.2.0",
          "state": {
            "_view_name": "LayoutView",
            "grid_template_rows": null,
            "right": null,
            "justify_content": null,
            "_view_module": "@jupyter-widgets/base",
            "overflow": null,
            "_model_module_version": "1.2.0",
            "_view_count": null,
            "flex_flow": null,
            "width": null,
            "min_width": null,
            "border": null,
            "align_items": null,
            "bottom": null,
            "_model_module": "@jupyter-widgets/base",
            "top": null,
            "grid_column": null,
            "overflow_y": null,
            "overflow_x": null,
            "grid_auto_flow": null,
            "grid_area": null,
            "grid_template_columns": null,
            "flex": null,
            "_model_name": "LayoutModel",
            "justify_items": null,
            "grid_row": null,
            "max_height": null,
            "align_content": null,
            "visibility": null,
            "align_self": null,
            "height": null,
            "min_height": null,
            "padding": null,
            "grid_auto_rows": null,
            "grid_gap": null,
            "max_width": null,
            "order": null,
            "_view_module_version": "1.2.0",
            "grid_template_areas": null,
            "object_position": null,
            "object_fit": null,
            "grid_auto_columns": null,
            "margin": null,
            "display": null,
            "left": null
          }
        },
        "3573332ed28547639932fc244b65af5f": {
          "model_module": "@jupyter-widgets/controls",
          "model_name": "ProgressStyleModel",
          "model_module_version": "1.5.0",
          "state": {
            "_view_name": "StyleView",
            "_model_name": "ProgressStyleModel",
            "description_width": "",
            "_view_module": "@jupyter-widgets/base",
            "_model_module_version": "1.5.0",
            "_view_count": null,
            "_view_module_version": "1.2.0",
            "bar_color": null,
            "_model_module": "@jupyter-widgets/controls"
          }
        },
        "725f7a7a82c74630a0a1517fab0a0e96": {
          "model_module": "@jupyter-widgets/base",
          "model_name": "LayoutModel",
          "model_module_version": "1.2.0",
          "state": {
            "_view_name": "LayoutView",
            "grid_template_rows": null,
            "right": null,
            "justify_content": null,
            "_view_module": "@jupyter-widgets/base",
            "overflow": null,
            "_model_module_version": "1.2.0",
            "_view_count": null,
            "flex_flow": null,
            "width": null,
            "min_width": null,
            "border": null,
            "align_items": null,
            "bottom": null,
            "_model_module": "@jupyter-widgets/base",
            "top": null,
            "grid_column": null,
            "overflow_y": null,
            "overflow_x": null,
            "grid_auto_flow": null,
            "grid_area": null,
            "grid_template_columns": null,
            "flex": null,
            "_model_name": "LayoutModel",
            "justify_items": null,
            "grid_row": null,
            "max_height": null,
            "align_content": null,
            "visibility": null,
            "align_self": null,
            "height": null,
            "min_height": null,
            "padding": null,
            "grid_auto_rows": null,
            "grid_gap": null,
            "max_width": null,
            "order": null,
            "_view_module_version": "1.2.0",
            "grid_template_areas": null,
            "object_position": null,
            "object_fit": null,
            "grid_auto_columns": null,
            "margin": null,
            "display": null,
            "left": null
          }
        },
        "495b18e9b45d4a969a1d45db0ecb6860": {
          "model_module": "@jupyter-widgets/controls",
          "model_name": "DescriptionStyleModel",
          "model_module_version": "1.5.0",
          "state": {
            "_view_name": "StyleView",
            "_model_name": "DescriptionStyleModel",
            "description_width": "",
            "_view_module": "@jupyter-widgets/base",
            "_model_module_version": "1.5.0",
            "_view_count": null,
            "_view_module_version": "1.2.0",
            "_model_module": "@jupyter-widgets/controls"
          }
        },
        "dedf25997ee844ce9ebc32b723be99b6": {
          "model_module": "@jupyter-widgets/base",
          "model_name": "LayoutModel",
          "model_module_version": "1.2.0",
          "state": {
            "_view_name": "LayoutView",
            "grid_template_rows": null,
            "right": null,
            "justify_content": null,
            "_view_module": "@jupyter-widgets/base",
            "overflow": null,
            "_model_module_version": "1.2.0",
            "_view_count": null,
            "flex_flow": null,
            "width": null,
            "min_width": null,
            "border": null,
            "align_items": null,
            "bottom": null,
            "_model_module": "@jupyter-widgets/base",
            "top": null,
            "grid_column": null,
            "overflow_y": null,
            "overflow_x": null,
            "grid_auto_flow": null,
            "grid_area": null,
            "grid_template_columns": null,
            "flex": null,
            "_model_name": "LayoutModel",
            "justify_items": null,
            "grid_row": null,
            "max_height": null,
            "align_content": null,
            "visibility": null,
            "align_self": null,
            "height": null,
            "min_height": null,
            "padding": null,
            "grid_auto_rows": null,
            "grid_gap": null,
            "max_width": null,
            "order": null,
            "_view_module_version": "1.2.0",
            "grid_template_areas": null,
            "object_position": null,
            "object_fit": null,
            "grid_auto_columns": null,
            "margin": null,
            "display": null,
            "left": null
          }
        },
        "8316f05bbb314b55bcc269b75892d9ce": {
          "model_module": "@jupyter-widgets/controls",
          "model_name": "HBoxModel",
          "model_module_version": "1.5.0",
          "state": {
            "_view_name": "HBoxView",
            "_dom_classes": [],
            "_model_name": "HBoxModel",
            "_view_module": "@jupyter-widgets/controls",
            "_model_module_version": "1.5.0",
            "_view_count": null,
            "_view_module_version": "1.5.0",
            "box_style": "",
            "layout": "IPY_MODEL_b2dc766b06414d37a4535e5f0d0ae8b0",
            "_model_module": "@jupyter-widgets/controls",
            "children": [
              "IPY_MODEL_17810385e86549c38cdb0e7bebe76aeb",
              "IPY_MODEL_fa4418c11c314cb6a017f7736052025b",
              "IPY_MODEL_f1d392b39c584ede84f4d563b9e271ea"
            ]
          }
        },
        "b2dc766b06414d37a4535e5f0d0ae8b0": {
          "model_module": "@jupyter-widgets/base",
          "model_name": "LayoutModel",
          "model_module_version": "1.2.0",
          "state": {
            "_view_name": "LayoutView",
            "grid_template_rows": null,
            "right": null,
            "justify_content": null,
            "_view_module": "@jupyter-widgets/base",
            "overflow": null,
            "_model_module_version": "1.2.0",
            "_view_count": null,
            "flex_flow": null,
            "width": null,
            "min_width": null,
            "border": null,
            "align_items": null,
            "bottom": null,
            "_model_module": "@jupyter-widgets/base",
            "top": null,
            "grid_column": null,
            "overflow_y": null,
            "overflow_x": null,
            "grid_auto_flow": null,
            "grid_area": null,
            "grid_template_columns": null,
            "flex": null,
            "_model_name": "LayoutModel",
            "justify_items": null,
            "grid_row": null,
            "max_height": null,
            "align_content": null,
            "visibility": null,
            "align_self": null,
            "height": null,
            "min_height": null,
            "padding": null,
            "grid_auto_rows": null,
            "grid_gap": null,
            "max_width": null,
            "order": null,
            "_view_module_version": "1.2.0",
            "grid_template_areas": null,
            "object_position": null,
            "object_fit": null,
            "grid_auto_columns": null,
            "margin": null,
            "display": null,
            "left": null
          }
        },
        "17810385e86549c38cdb0e7bebe76aeb": {
          "model_module": "@jupyter-widgets/controls",
          "model_name": "HTMLModel",
          "model_module_version": "1.5.0",
          "state": {
            "_view_name": "HTMLView",
            "style": "IPY_MODEL_334bfec5f9a54de79b12dc725eef629b",
            "_dom_classes": [],
            "description": "",
            "_model_name": "HTMLModel",
            "placeholder": "​",
            "_view_module": "@jupyter-widgets/controls",
            "_model_module_version": "1.5.0",
            "value": "100%",
            "_view_count": null,
            "_view_module_version": "1.5.0",
            "description_tooltip": null,
            "_model_module": "@jupyter-widgets/controls",
            "layout": "IPY_MODEL_32b18348155e4c648bb02c3303340572"
          }
        },
        "fa4418c11c314cb6a017f7736052025b": {
          "model_module": "@jupyter-widgets/controls",
          "model_name": "FloatProgressModel",
          "model_module_version": "1.5.0",
          "state": {
            "_view_name": "ProgressView",
            "style": "IPY_MODEL_88cee4c142e14c33bbe73fb4101895e7",
            "_dom_classes": [],
            "description": "",
            "_model_name": "FloatProgressModel",
            "bar_style": "success",
            "max": 20,
            "_view_module": "@jupyter-widgets/controls",
            "_model_module_version": "1.5.0",
            "value": 20,
            "_view_count": null,
            "_view_module_version": "1.5.0",
            "orientation": "horizontal",
            "min": 0,
            "description_tooltip": null,
            "_model_module": "@jupyter-widgets/controls",
            "layout": "IPY_MODEL_78a0e186cc9e4cd78bac23763ca06011"
          }
        },
        "f1d392b39c584ede84f4d563b9e271ea": {
          "model_module": "@jupyter-widgets/controls",
          "model_name": "HTMLModel",
          "model_module_version": "1.5.0",
          "state": {
            "_view_name": "HTMLView",
            "style": "IPY_MODEL_798c6cda94fb400ba4ad32a124a0c443",
            "_dom_classes": [],
            "description": "",
            "_model_name": "HTMLModel",
            "placeholder": "​",
            "_view_module": "@jupyter-widgets/controls",
            "_model_module_version": "1.5.0",
            "value": " 20/20 [00:05&lt;00:00,  3.53it/s]",
            "_view_count": null,
            "_view_module_version": "1.5.0",
            "description_tooltip": null,
            "_model_module": "@jupyter-widgets/controls",
            "layout": "IPY_MODEL_312d87fb1f7a45e385c68cb6ba5cb2ab"
          }
        },
        "334bfec5f9a54de79b12dc725eef629b": {
          "model_module": "@jupyter-widgets/controls",
          "model_name": "DescriptionStyleModel",
          "model_module_version": "1.5.0",
          "state": {
            "_view_name": "StyleView",
            "_model_name": "DescriptionStyleModel",
            "description_width": "",
            "_view_module": "@jupyter-widgets/base",
            "_model_module_version": "1.5.0",
            "_view_count": null,
            "_view_module_version": "1.2.0",
            "_model_module": "@jupyter-widgets/controls"
          }
        },
        "32b18348155e4c648bb02c3303340572": {
          "model_module": "@jupyter-widgets/base",
          "model_name": "LayoutModel",
          "model_module_version": "1.2.0",
          "state": {
            "_view_name": "LayoutView",
            "grid_template_rows": null,
            "right": null,
            "justify_content": null,
            "_view_module": "@jupyter-widgets/base",
            "overflow": null,
            "_model_module_version": "1.2.0",
            "_view_count": null,
            "flex_flow": null,
            "width": null,
            "min_width": null,
            "border": null,
            "align_items": null,
            "bottom": null,
            "_model_module": "@jupyter-widgets/base",
            "top": null,
            "grid_column": null,
            "overflow_y": null,
            "overflow_x": null,
            "grid_auto_flow": null,
            "grid_area": null,
            "grid_template_columns": null,
            "flex": null,
            "_model_name": "LayoutModel",
            "justify_items": null,
            "grid_row": null,
            "max_height": null,
            "align_content": null,
            "visibility": null,
            "align_self": null,
            "height": null,
            "min_height": null,
            "padding": null,
            "grid_auto_rows": null,
            "grid_gap": null,
            "max_width": null,
            "order": null,
            "_view_module_version": "1.2.0",
            "grid_template_areas": null,
            "object_position": null,
            "object_fit": null,
            "grid_auto_columns": null,
            "margin": null,
            "display": null,
            "left": null
          }
        },
        "88cee4c142e14c33bbe73fb4101895e7": {
          "model_module": "@jupyter-widgets/controls",
          "model_name": "ProgressStyleModel",
          "model_module_version": "1.5.0",
          "state": {
            "_view_name": "StyleView",
            "_model_name": "ProgressStyleModel",
            "description_width": "",
            "_view_module": "@jupyter-widgets/base",
            "_model_module_version": "1.5.0",
            "_view_count": null,
            "_view_module_version": "1.2.0",
            "bar_color": null,
            "_model_module": "@jupyter-widgets/controls"
          }
        },
        "78a0e186cc9e4cd78bac23763ca06011": {
          "model_module": "@jupyter-widgets/base",
          "model_name": "LayoutModel",
          "model_module_version": "1.2.0",
          "state": {
            "_view_name": "LayoutView",
            "grid_template_rows": null,
            "right": null,
            "justify_content": null,
            "_view_module": "@jupyter-widgets/base",
            "overflow": null,
            "_model_module_version": "1.2.0",
            "_view_count": null,
            "flex_flow": null,
            "width": null,
            "min_width": null,
            "border": null,
            "align_items": null,
            "bottom": null,
            "_model_module": "@jupyter-widgets/base",
            "top": null,
            "grid_column": null,
            "overflow_y": null,
            "overflow_x": null,
            "grid_auto_flow": null,
            "grid_area": null,
            "grid_template_columns": null,
            "flex": null,
            "_model_name": "LayoutModel",
            "justify_items": null,
            "grid_row": null,
            "max_height": null,
            "align_content": null,
            "visibility": null,
            "align_self": null,
            "height": null,
            "min_height": null,
            "padding": null,
            "grid_auto_rows": null,
            "grid_gap": null,
            "max_width": null,
            "order": null,
            "_view_module_version": "1.2.0",
            "grid_template_areas": null,
            "object_position": null,
            "object_fit": null,
            "grid_auto_columns": null,
            "margin": null,
            "display": null,
            "left": null
          }
        },
        "798c6cda94fb400ba4ad32a124a0c443": {
          "model_module": "@jupyter-widgets/controls",
          "model_name": "DescriptionStyleModel",
          "model_module_version": "1.5.0",
          "state": {
            "_view_name": "StyleView",
            "_model_name": "DescriptionStyleModel",
            "description_width": "",
            "_view_module": "@jupyter-widgets/base",
            "_model_module_version": "1.5.0",
            "_view_count": null,
            "_view_module_version": "1.2.0",
            "_model_module": "@jupyter-widgets/controls"
          }
        },
        "312d87fb1f7a45e385c68cb6ba5cb2ab": {
          "model_module": "@jupyter-widgets/base",
          "model_name": "LayoutModel",
          "model_module_version": "1.2.0",
          "state": {
            "_view_name": "LayoutView",
            "grid_template_rows": null,
            "right": null,
            "justify_content": null,
            "_view_module": "@jupyter-widgets/base",
            "overflow": null,
            "_model_module_version": "1.2.0",
            "_view_count": null,
            "flex_flow": null,
            "width": null,
            "min_width": null,
            "border": null,
            "align_items": null,
            "bottom": null,
            "_model_module": "@jupyter-widgets/base",
            "top": null,
            "grid_column": null,
            "overflow_y": null,
            "overflow_x": null,
            "grid_auto_flow": null,
            "grid_area": null,
            "grid_template_columns": null,
            "flex": null,
            "_model_name": "LayoutModel",
            "justify_items": null,
            "grid_row": null,
            "max_height": null,
            "align_content": null,
            "visibility": null,
            "align_self": null,
            "height": null,
            "min_height": null,
            "padding": null,
            "grid_auto_rows": null,
            "grid_gap": null,
            "max_width": null,
            "order": null,
            "_view_module_version": "1.2.0",
            "grid_template_areas": null,
            "object_position": null,
            "object_fit": null,
            "grid_auto_columns": null,
            "margin": null,
            "display": null,
            "left": null
          }
        },
        "ec14aa6a92f541c9a29669a1f3accf8a": {
          "model_module": "@jupyter-widgets/controls",
          "model_name": "HBoxModel",
          "model_module_version": "1.5.0",
          "state": {
            "_view_name": "HBoxView",
            "_dom_classes": [],
            "_model_name": "HBoxModel",
            "_view_module": "@jupyter-widgets/controls",
            "_model_module_version": "1.5.0",
            "_view_count": null,
            "_view_module_version": "1.5.0",
            "box_style": "",
            "layout": "IPY_MODEL_79ec554858f24b7dadfb0775f153fdf7",
            "_model_module": "@jupyter-widgets/controls",
            "children": [
              "IPY_MODEL_38ecd11b5628482483e40e6039025e85",
              "IPY_MODEL_ede210b40eeb41cd83cb9a336efaacb5",
              "IPY_MODEL_08bd7582b77646d9ae58cb191fa7077f"
            ]
          }
        },
        "79ec554858f24b7dadfb0775f153fdf7": {
          "model_module": "@jupyter-widgets/base",
          "model_name": "LayoutModel",
          "model_module_version": "1.2.0",
          "state": {
            "_view_name": "LayoutView",
            "grid_template_rows": null,
            "right": null,
            "justify_content": null,
            "_view_module": "@jupyter-widgets/base",
            "overflow": null,
            "_model_module_version": "1.2.0",
            "_view_count": null,
            "flex_flow": null,
            "width": null,
            "min_width": null,
            "border": null,
            "align_items": null,
            "bottom": null,
            "_model_module": "@jupyter-widgets/base",
            "top": null,
            "grid_column": null,
            "overflow_y": null,
            "overflow_x": null,
            "grid_auto_flow": null,
            "grid_area": null,
            "grid_template_columns": null,
            "flex": null,
            "_model_name": "LayoutModel",
            "justify_items": null,
            "grid_row": null,
            "max_height": null,
            "align_content": null,
            "visibility": null,
            "align_self": null,
            "height": null,
            "min_height": null,
            "padding": null,
            "grid_auto_rows": null,
            "grid_gap": null,
            "max_width": null,
            "order": null,
            "_view_module_version": "1.2.0",
            "grid_template_areas": null,
            "object_position": null,
            "object_fit": null,
            "grid_auto_columns": null,
            "margin": null,
            "display": null,
            "left": null
          }
        },
        "38ecd11b5628482483e40e6039025e85": {
          "model_module": "@jupyter-widgets/controls",
          "model_name": "HTMLModel",
          "model_module_version": "1.5.0",
          "state": {
            "_view_name": "HTMLView",
            "style": "IPY_MODEL_87128d03635240a480a9ed4405254c7e",
            "_dom_classes": [],
            "description": "",
            "_model_name": "HTMLModel",
            "placeholder": "​",
            "_view_module": "@jupyter-widgets/controls",
            "_model_module_version": "1.5.0",
            "value": "100%",
            "_view_count": null,
            "_view_module_version": "1.5.0",
            "description_tooltip": null,
            "_model_module": "@jupyter-widgets/controls",
            "layout": "IPY_MODEL_0c151d4842034534bde6aed4b9fe40bc"
          }
        },
        "ede210b40eeb41cd83cb9a336efaacb5": {
          "model_module": "@jupyter-widgets/controls",
          "model_name": "FloatProgressModel",
          "model_module_version": "1.5.0",
          "state": {
            "_view_name": "ProgressView",
            "style": "IPY_MODEL_504f1b68b51e4253ad28c54ea780464b",
            "_dom_classes": [],
            "description": "",
            "_model_name": "FloatProgressModel",
            "bar_style": "success",
            "max": 150,
            "_view_module": "@jupyter-widgets/controls",
            "_model_module_version": "1.5.0",
            "value": 150,
            "_view_count": null,
            "_view_module_version": "1.5.0",
            "orientation": "horizontal",
            "min": 0,
            "description_tooltip": null,
            "_model_module": "@jupyter-widgets/controls",
            "layout": "IPY_MODEL_24d4587a91f44456ab3086f08ddacfa1"
          }
        },
        "08bd7582b77646d9ae58cb191fa7077f": {
          "model_module": "@jupyter-widgets/controls",
          "model_name": "HTMLModel",
          "model_module_version": "1.5.0",
          "state": {
            "_view_name": "HTMLView",
            "style": "IPY_MODEL_ccb2f0f11b124fb487ac291d5bd9328f",
            "_dom_classes": [],
            "description": "",
            "_model_name": "HTMLModel",
            "placeholder": "​",
            "_view_module": "@jupyter-widgets/controls",
            "_model_module_version": "1.5.0",
            "value": " 150/150 [05:18&lt;00:00,  2.15s/it]",
            "_view_count": null,
            "_view_module_version": "1.5.0",
            "description_tooltip": null,
            "_model_module": "@jupyter-widgets/controls",
            "layout": "IPY_MODEL_c6c6b0a250f7457a98f5f0eb51f54cc7"
          }
        },
        "87128d03635240a480a9ed4405254c7e": {
          "model_module": "@jupyter-widgets/controls",
          "model_name": "DescriptionStyleModel",
          "model_module_version": "1.5.0",
          "state": {
            "_view_name": "StyleView",
            "_model_name": "DescriptionStyleModel",
            "description_width": "",
            "_view_module": "@jupyter-widgets/base",
            "_model_module_version": "1.5.0",
            "_view_count": null,
            "_view_module_version": "1.2.0",
            "_model_module": "@jupyter-widgets/controls"
          }
        },
        "0c151d4842034534bde6aed4b9fe40bc": {
          "model_module": "@jupyter-widgets/base",
          "model_name": "LayoutModel",
          "model_module_version": "1.2.0",
          "state": {
            "_view_name": "LayoutView",
            "grid_template_rows": null,
            "right": null,
            "justify_content": null,
            "_view_module": "@jupyter-widgets/base",
            "overflow": null,
            "_model_module_version": "1.2.0",
            "_view_count": null,
            "flex_flow": null,
            "width": null,
            "min_width": null,
            "border": null,
            "align_items": null,
            "bottom": null,
            "_model_module": "@jupyter-widgets/base",
            "top": null,
            "grid_column": null,
            "overflow_y": null,
            "overflow_x": null,
            "grid_auto_flow": null,
            "grid_area": null,
            "grid_template_columns": null,
            "flex": null,
            "_model_name": "LayoutModel",
            "justify_items": null,
            "grid_row": null,
            "max_height": null,
            "align_content": null,
            "visibility": null,
            "align_self": null,
            "height": null,
            "min_height": null,
            "padding": null,
            "grid_auto_rows": null,
            "grid_gap": null,
            "max_width": null,
            "order": null,
            "_view_module_version": "1.2.0",
            "grid_template_areas": null,
            "object_position": null,
            "object_fit": null,
            "grid_auto_columns": null,
            "margin": null,
            "display": null,
            "left": null
          }
        },
        "504f1b68b51e4253ad28c54ea780464b": {
          "model_module": "@jupyter-widgets/controls",
          "model_name": "ProgressStyleModel",
          "model_module_version": "1.5.0",
          "state": {
            "_view_name": "StyleView",
            "_model_name": "ProgressStyleModel",
            "description_width": "",
            "_view_module": "@jupyter-widgets/base",
            "_model_module_version": "1.5.0",
            "_view_count": null,
            "_view_module_version": "1.2.0",
            "bar_color": null,
            "_model_module": "@jupyter-widgets/controls"
          }
        },
        "24d4587a91f44456ab3086f08ddacfa1": {
          "model_module": "@jupyter-widgets/base",
          "model_name": "LayoutModel",
          "model_module_version": "1.2.0",
          "state": {
            "_view_name": "LayoutView",
            "grid_template_rows": null,
            "right": null,
            "justify_content": null,
            "_view_module": "@jupyter-widgets/base",
            "overflow": null,
            "_model_module_version": "1.2.0",
            "_view_count": null,
            "flex_flow": null,
            "width": null,
            "min_width": null,
            "border": null,
            "align_items": null,
            "bottom": null,
            "_model_module": "@jupyter-widgets/base",
            "top": null,
            "grid_column": null,
            "overflow_y": null,
            "overflow_x": null,
            "grid_auto_flow": null,
            "grid_area": null,
            "grid_template_columns": null,
            "flex": null,
            "_model_name": "LayoutModel",
            "justify_items": null,
            "grid_row": null,
            "max_height": null,
            "align_content": null,
            "visibility": null,
            "align_self": null,
            "height": null,
            "min_height": null,
            "padding": null,
            "grid_auto_rows": null,
            "grid_gap": null,
            "max_width": null,
            "order": null,
            "_view_module_version": "1.2.0",
            "grid_template_areas": null,
            "object_position": null,
            "object_fit": null,
            "grid_auto_columns": null,
            "margin": null,
            "display": null,
            "left": null
          }
        },
        "ccb2f0f11b124fb487ac291d5bd9328f": {
          "model_module": "@jupyter-widgets/controls",
          "model_name": "DescriptionStyleModel",
          "model_module_version": "1.5.0",
          "state": {
            "_view_name": "StyleView",
            "_model_name": "DescriptionStyleModel",
            "description_width": "",
            "_view_module": "@jupyter-widgets/base",
            "_model_module_version": "1.5.0",
            "_view_count": null,
            "_view_module_version": "1.2.0",
            "_model_module": "@jupyter-widgets/controls"
          }
        },
        "c6c6b0a250f7457a98f5f0eb51f54cc7": {
          "model_module": "@jupyter-widgets/base",
          "model_name": "LayoutModel",
          "model_module_version": "1.2.0",
          "state": {
            "_view_name": "LayoutView",
            "grid_template_rows": null,
            "right": null,
            "justify_content": null,
            "_view_module": "@jupyter-widgets/base",
            "overflow": null,
            "_model_module_version": "1.2.0",
            "_view_count": null,
            "flex_flow": null,
            "width": null,
            "min_width": null,
            "border": null,
            "align_items": null,
            "bottom": null,
            "_model_module": "@jupyter-widgets/base",
            "top": null,
            "grid_column": null,
            "overflow_y": null,
            "overflow_x": null,
            "grid_auto_flow": null,
            "grid_area": null,
            "grid_template_columns": null,
            "flex": null,
            "_model_name": "LayoutModel",
            "justify_items": null,
            "grid_row": null,
            "max_height": null,
            "align_content": null,
            "visibility": null,
            "align_self": null,
            "height": null,
            "min_height": null,
            "padding": null,
            "grid_auto_rows": null,
            "grid_gap": null,
            "max_width": null,
            "order": null,
            "_view_module_version": "1.2.0",
            "grid_template_areas": null,
            "object_position": null,
            "object_fit": null,
            "grid_auto_columns": null,
            "margin": null,
            "display": null,
            "left": null
          }
        },
        "211f879656604a11b2fa4de489920902": {
          "model_module": "@jupyter-widgets/controls",
          "model_name": "HBoxModel",
          "model_module_version": "1.5.0",
          "state": {
            "_view_name": "HBoxView",
            "_dom_classes": [],
            "_model_name": "HBoxModel",
            "_view_module": "@jupyter-widgets/controls",
            "_model_module_version": "1.5.0",
            "_view_count": null,
            "_view_module_version": "1.5.0",
            "box_style": "",
            "layout": "IPY_MODEL_9123e79e5711430aa0eab440cf53516f",
            "_model_module": "@jupyter-widgets/controls",
            "children": [
              "IPY_MODEL_b97535f54d5a4ae38563996e8799d83a",
              "IPY_MODEL_8d28c444627a473ca5e020329d353ef8",
              "IPY_MODEL_8a4b6240e9d7472b81b482dced06e349"
            ]
          }
        },
        "9123e79e5711430aa0eab440cf53516f": {
          "model_module": "@jupyter-widgets/base",
          "model_name": "LayoutModel",
          "model_module_version": "1.2.0",
          "state": {
            "_view_name": "LayoutView",
            "grid_template_rows": null,
            "right": null,
            "justify_content": null,
            "_view_module": "@jupyter-widgets/base",
            "overflow": null,
            "_model_module_version": "1.2.0",
            "_view_count": null,
            "flex_flow": null,
            "width": null,
            "min_width": null,
            "border": null,
            "align_items": null,
            "bottom": null,
            "_model_module": "@jupyter-widgets/base",
            "top": null,
            "grid_column": null,
            "overflow_y": null,
            "overflow_x": null,
            "grid_auto_flow": null,
            "grid_area": null,
            "grid_template_columns": null,
            "flex": null,
            "_model_name": "LayoutModel",
            "justify_items": null,
            "grid_row": null,
            "max_height": null,
            "align_content": null,
            "visibility": null,
            "align_self": null,
            "height": null,
            "min_height": null,
            "padding": null,
            "grid_auto_rows": null,
            "grid_gap": null,
            "max_width": null,
            "order": null,
            "_view_module_version": "1.2.0",
            "grid_template_areas": null,
            "object_position": null,
            "object_fit": null,
            "grid_auto_columns": null,
            "margin": null,
            "display": null,
            "left": null
          }
        },
        "b97535f54d5a4ae38563996e8799d83a": {
          "model_module": "@jupyter-widgets/controls",
          "model_name": "HTMLModel",
          "model_module_version": "1.5.0",
          "state": {
            "_view_name": "HTMLView",
            "style": "IPY_MODEL_25192aa8c98a4ae199840dee64c4cd53",
            "_dom_classes": [],
            "description": "",
            "_model_name": "HTMLModel",
            "placeholder": "​",
            "_view_module": "@jupyter-widgets/controls",
            "_model_module_version": "1.5.0",
            "value": "100%",
            "_view_count": null,
            "_view_module_version": "1.5.0",
            "description_tooltip": null,
            "_model_module": "@jupyter-widgets/controls",
            "layout": "IPY_MODEL_32cab6ccdf9e487f896f8ee827b7cae6"
          }
        },
        "8d28c444627a473ca5e020329d353ef8": {
          "model_module": "@jupyter-widgets/controls",
          "model_name": "FloatProgressModel",
          "model_module_version": "1.5.0",
          "state": {
            "_view_name": "ProgressView",
            "style": "IPY_MODEL_995183981b314c8a9f1c222da4a8f009",
            "_dom_classes": [],
            "description": "",
            "_model_name": "FloatProgressModel",
            "bar_style": "success",
            "max": 20,
            "_view_module": "@jupyter-widgets/controls",
            "_model_module_version": "1.5.0",
            "value": 20,
            "_view_count": null,
            "_view_module_version": "1.5.0",
            "orientation": "horizontal",
            "min": 0,
            "description_tooltip": null,
            "_model_module": "@jupyter-widgets/controls",
            "layout": "IPY_MODEL_4db8a0d9e2644b43bfdf8bbac2f435ba"
          }
        },
        "8a4b6240e9d7472b81b482dced06e349": {
          "model_module": "@jupyter-widgets/controls",
          "model_name": "HTMLModel",
          "model_module_version": "1.5.0",
          "state": {
            "_view_name": "HTMLView",
            "style": "IPY_MODEL_5f53d1ee3aa04a68ac8ec1609dacd693",
            "_dom_classes": [],
            "description": "",
            "_model_name": "HTMLModel",
            "placeholder": "​",
            "_view_module": "@jupyter-widgets/controls",
            "_model_module_version": "1.5.0",
            "value": " 20/20 [00:08&lt;00:00,  3.26it/s]",
            "_view_count": null,
            "_view_module_version": "1.5.0",
            "description_tooltip": null,
            "_model_module": "@jupyter-widgets/controls",
            "layout": "IPY_MODEL_ed416ccb423245d1a96bfe8e7c9e4d1d"
          }
        },
        "25192aa8c98a4ae199840dee64c4cd53": {
          "model_module": "@jupyter-widgets/controls",
          "model_name": "DescriptionStyleModel",
          "model_module_version": "1.5.0",
          "state": {
            "_view_name": "StyleView",
            "_model_name": "DescriptionStyleModel",
            "description_width": "",
            "_view_module": "@jupyter-widgets/base",
            "_model_module_version": "1.5.0",
            "_view_count": null,
            "_view_module_version": "1.2.0",
            "_model_module": "@jupyter-widgets/controls"
          }
        },
        "32cab6ccdf9e487f896f8ee827b7cae6": {
          "model_module": "@jupyter-widgets/base",
          "model_name": "LayoutModel",
          "model_module_version": "1.2.0",
          "state": {
            "_view_name": "LayoutView",
            "grid_template_rows": null,
            "right": null,
            "justify_content": null,
            "_view_module": "@jupyter-widgets/base",
            "overflow": null,
            "_model_module_version": "1.2.0",
            "_view_count": null,
            "flex_flow": null,
            "width": null,
            "min_width": null,
            "border": null,
            "align_items": null,
            "bottom": null,
            "_model_module": "@jupyter-widgets/base",
            "top": null,
            "grid_column": null,
            "overflow_y": null,
            "overflow_x": null,
            "grid_auto_flow": null,
            "grid_area": null,
            "grid_template_columns": null,
            "flex": null,
            "_model_name": "LayoutModel",
            "justify_items": null,
            "grid_row": null,
            "max_height": null,
            "align_content": null,
            "visibility": null,
            "align_self": null,
            "height": null,
            "min_height": null,
            "padding": null,
            "grid_auto_rows": null,
            "grid_gap": null,
            "max_width": null,
            "order": null,
            "_view_module_version": "1.2.0",
            "grid_template_areas": null,
            "object_position": null,
            "object_fit": null,
            "grid_auto_columns": null,
            "margin": null,
            "display": null,
            "left": null
          }
        },
        "995183981b314c8a9f1c222da4a8f009": {
          "model_module": "@jupyter-widgets/controls",
          "model_name": "ProgressStyleModel",
          "model_module_version": "1.5.0",
          "state": {
            "_view_name": "StyleView",
            "_model_name": "ProgressStyleModel",
            "description_width": "",
            "_view_module": "@jupyter-widgets/base",
            "_model_module_version": "1.5.0",
            "_view_count": null,
            "_view_module_version": "1.2.0",
            "bar_color": null,
            "_model_module": "@jupyter-widgets/controls"
          }
        },
        "4db8a0d9e2644b43bfdf8bbac2f435ba": {
          "model_module": "@jupyter-widgets/base",
          "model_name": "LayoutModel",
          "model_module_version": "1.2.0",
          "state": {
            "_view_name": "LayoutView",
            "grid_template_rows": null,
            "right": null,
            "justify_content": null,
            "_view_module": "@jupyter-widgets/base",
            "overflow": null,
            "_model_module_version": "1.2.0",
            "_view_count": null,
            "flex_flow": null,
            "width": null,
            "min_width": null,
            "border": null,
            "align_items": null,
            "bottom": null,
            "_model_module": "@jupyter-widgets/base",
            "top": null,
            "grid_column": null,
            "overflow_y": null,
            "overflow_x": null,
            "grid_auto_flow": null,
            "grid_area": null,
            "grid_template_columns": null,
            "flex": null,
            "_model_name": "LayoutModel",
            "justify_items": null,
            "grid_row": null,
            "max_height": null,
            "align_content": null,
            "visibility": null,
            "align_self": null,
            "height": null,
            "min_height": null,
            "padding": null,
            "grid_auto_rows": null,
            "grid_gap": null,
            "max_width": null,
            "order": null,
            "_view_module_version": "1.2.0",
            "grid_template_areas": null,
            "object_position": null,
            "object_fit": null,
            "grid_auto_columns": null,
            "margin": null,
            "display": null,
            "left": null
          }
        },
        "5f53d1ee3aa04a68ac8ec1609dacd693": {
          "model_module": "@jupyter-widgets/controls",
          "model_name": "DescriptionStyleModel",
          "model_module_version": "1.5.0",
          "state": {
            "_view_name": "StyleView",
            "_model_name": "DescriptionStyleModel",
            "description_width": "",
            "_view_module": "@jupyter-widgets/base",
            "_model_module_version": "1.5.0",
            "_view_count": null,
            "_view_module_version": "1.2.0",
            "_model_module": "@jupyter-widgets/controls"
          }
        },
        "ed416ccb423245d1a96bfe8e7c9e4d1d": {
          "model_module": "@jupyter-widgets/base",
          "model_name": "LayoutModel",
          "model_module_version": "1.2.0",
          "state": {
            "_view_name": "LayoutView",
            "grid_template_rows": null,
            "right": null,
            "justify_content": null,
            "_view_module": "@jupyter-widgets/base",
            "overflow": null,
            "_model_module_version": "1.2.0",
            "_view_count": null,
            "flex_flow": null,
            "width": null,
            "min_width": null,
            "border": null,
            "align_items": null,
            "bottom": null,
            "_model_module": "@jupyter-widgets/base",
            "top": null,
            "grid_column": null,
            "overflow_y": null,
            "overflow_x": null,
            "grid_auto_flow": null,
            "grid_area": null,
            "grid_template_columns": null,
            "flex": null,
            "_model_name": "LayoutModel",
            "justify_items": null,
            "grid_row": null,
            "max_height": null,
            "align_content": null,
            "visibility": null,
            "align_self": null,
            "height": null,
            "min_height": null,
            "padding": null,
            "grid_auto_rows": null,
            "grid_gap": null,
            "max_width": null,
            "order": null,
            "_view_module_version": "1.2.0",
            "grid_template_areas": null,
            "object_position": null,
            "object_fit": null,
            "grid_auto_columns": null,
            "margin": null,
            "display": null,
            "left": null
          }
        }
      }
    }
  },
  "cells": [
    {
      "cell_type": "markdown",
      "metadata": {
        "id": "OoBrT-4o_r_f"
      },
      "source": [
        "**0. Set environment**"
      ]
    },
    {
      "cell_type": "code",
      "metadata": {
        "colab": {
          "base_uri": "https://localhost:8080/"
        },
        "id": "q0YW70Zw-S3I",
        "outputId": "45fd952e-a0f3-4879-cb97-a268545609f3"
      },
      "source": [
        "#===============================\n",
        "# 0.0 set google drive\n",
        "#===============================\n",
        "from google.colab import drive\n",
        "drive.mount('/content/drive')       "
      ],
      "execution_count": null,
      "outputs": [
        {
          "name": "stdout",
          "output_type": "stream",
          "text": [
            "Drive already mounted at /content/drive; to attempt to forcibly remount, call drive.mount(\"/content/drive\", force_remount=True).\n"
          ]
        }
      ]
    },
    {
      "cell_type": "code",
      "metadata": {
        "colab": {
          "base_uri": "https://localhost:8080/"
        },
        "id": "ZUZhEOKD-_UF",
        "outputId": "ca543281-9901-4d1e-c255-c55f02d79c42"
      },
      "source": [
        "#===================================\n",
        "# 0.1 additional packages to install if in google colab\n",
        "#===================================\n",
        "!pip install efficientnet_pytorch==0.7.0\n",
        "!pip install --upgrade matplotlib"
      ],
      "execution_count": null,
      "outputs": [
        {
          "name": "stdout",
          "output_type": "stream",
          "text": [
            "Requirement already satisfied: efficientnet_pytorch==0.7.0 in /usr/local/lib/python3.7/dist-packages (0.7.0)\n",
            "Requirement already satisfied: torch in /usr/local/lib/python3.7/dist-packages (from efficientnet_pytorch==0.7.0) (1.9.0+cu102)\n",
            "Requirement already satisfied: typing-extensions in /usr/local/lib/python3.7/dist-packages (from torch->efficientnet_pytorch==0.7.0) (3.7.4.3)\n",
            "Requirement already satisfied: matplotlib in /usr/local/lib/python3.7/dist-packages (3.4.3)\n",
            "Requirement already satisfied: kiwisolver>=1.0.1 in /usr/local/lib/python3.7/dist-packages (from matplotlib) (1.3.1)\n",
            "Requirement already satisfied: cycler>=0.10 in /usr/local/lib/python3.7/dist-packages (from matplotlib) (0.10.0)\n",
            "Requirement already satisfied: numpy>=1.16 in /usr/local/lib/python3.7/dist-packages (from matplotlib) (1.19.5)\n",
            "Requirement already satisfied: pillow>=6.2.0 in /usr/local/lib/python3.7/dist-packages (from matplotlib) (7.1.2)\n",
            "Requirement already satisfied: pyparsing>=2.2.1 in /usr/local/lib/python3.7/dist-packages (from matplotlib) (2.4.7)\n",
            "Requirement already satisfied: python-dateutil>=2.7 in /usr/local/lib/python3.7/dist-packages (from matplotlib) (2.8.2)\n",
            "Requirement already satisfied: six in /usr/local/lib/python3.7/dist-packages (from cycler>=0.10->matplotlib) (1.15.0)\n"
          ]
        }
      ]
    },
    {
      "cell_type": "code",
      "metadata": {
        "colab": {
          "base_uri": "https://localhost:8080/"
        },
        "id": "u2e6CDr8AxcV",
        "outputId": "abfa1f85-8b01-427e-bb78-72343299fe20"
      },
      "source": [
        "#===================================\n",
        "# 0.2 import helper functions\n",
        "#===================================\n",
        "exec(open('drive/My Drive/CL/ion_images/v3.5/external.py').read())\n",
        "exec(open('drive/My Drive/CL/ion_images/v3.5/models.py').read())\n",
        "exec(open('drive/My Drive/CL/ion_images/v3.5/utils.py').read())\n",
        "\n",
        "print('all done')"
      ],
      "execution_count": null,
      "outputs": [
        {
          "output_type": "stream",
          "name": "stdout",
          "text": [
            "all done\n"
          ]
        }
      ]
    },
    {
      "cell_type": "markdown",
      "metadata": {
        "id": "iP3FJqq0AJ5w"
      },
      "source": [
        "**1. Data Preparation**"
      ]
    },
    {
      "cell_type": "code",
      "metadata": {
        "colab": {
          "base_uri": "https://localhost:8080/"
        },
        "id": "SlGHppCPAJUB",
        "outputId": "4ef1a071-1631-470b-d9c7-62cc93341ca6"
      },
      "source": [
        "#===================================\n",
        "# 1.0 load data\n",
        "#===================================\n",
        "'''\n",
        "1. training_data: 1. list of tuples: ((img_size, img_size, 3), label). 2. or (n, img_size, img_size, 3).\n",
        "2. labeling_data: (n, img_size, img_size, 3) average images for linear evaluation.\n",
        "3. mask (img_size, img_size): on-tissue: 0, off-tissue: 1.\n",
        "'''\n",
        "## load data\n",
        "training_data = np.load('drive/My Drive/ion_image_clustering/0_key_data_results/uterine_benchmark_0419_367/training_data_96x96(367).npy', allow_pickle=True)\n",
        "labeling_data = np.load('drive/My Drive/ion_image_clustering/0_key_data_results/uterine_benchmark_0419_367/labeling_data_96x96(13).npy', allow_pickle=True)\n",
        "\n",
        "## load mass list\n",
        "MassList = np.load('drive/My Drive/ion_image_clustering/0_key_data_results/uterine_benchmark_0419_367/MassList(367).npy', allow_pickle=True)\n",
        "\n",
        "## load mask\n",
        "mask = np.load('drive/My Drive/ion_image_clustering/0_key_data_results/uterine_benchmark_0419_367/mask_96x96.npy', allow_pickle=True)\n",
        "\n",
        "## process data for output\n",
        "# parse training data\n",
        "imgs = []\n",
        "for i in range(training_data.shape[0]):\n",
        "    img = training_data[i][0]\n",
        "    imgs.append(img)\n",
        "imgs = np.array(imgs)\n",
        "\n",
        "# process mass list\n",
        "mzs = []\n",
        "for i in range(MassList.shape[0]):\n",
        "    mz = MassList[i][0] + '  ' + MassList[i][1]\n",
        "    mzs.append(mz)\n",
        "mzs = np.array(mzs)\n",
        "\n",
        "print(training_data.shape)"
      ],
      "execution_count": null,
      "outputs": [
        {
          "output_type": "stream",
          "name": "stdout",
          "text": [
            "(367, 2)\n"
          ]
        }
      ]
    },
    {
      "cell_type": "code",
      "metadata": {
        "colab": {
          "base_uri": "https://localhost:8080/"
        },
        "id": "lrfu5fLBBDkp",
        "outputId": "abf01bd9-8794-4a23-ddfd-8e37cf0a79de"
      },
      "source": [
        "#===================================\n",
        "# 1.1 organize npy data into PIL to work with DatasetWrapper\n",
        "#===================================\n",
        "'''\n",
        "1. randomize data, 2. get PIL set and labels, 3. get dataloader for evaluation \n",
        "'''\n",
        "# 1. randomize the source training data\n",
        "training_data, imgs, mzs = shuffle(training_data, imgs, mzs)\n",
        "\n",
        "# 2. PIL set and labels\n",
        "training_PIL_set, training_labels = get_PIL_set(training_data)\n",
        "labeling_PIL_set, labeling_labels = get_PIL_set(labeling_data)\n",
        "\n",
        "# 3. get dataloader\n",
        "dataset = get_torch_dataset(training_data)\n",
        "dataloader = DataLoader(dataset, batch_size=128)\n",
        "\n",
        "print(len(training_PIL_set), len(labeling_PIL_set), len(dataset))"
      ],
      "execution_count": null,
      "outputs": [
        {
          "output_type": "stream",
          "name": "stdout",
          "text": [
            "367 13 367\n"
          ]
        }
      ]
    },
    {
      "cell_type": "markdown",
      "metadata": {
        "id": "UCUUDXpLDuZv"
      },
      "source": [
        "**2. Data augmentation**"
      ]
    },
    {
      "cell_type": "code",
      "metadata": {
        "colab": {
          "base_uri": "https://localhost:8080/"
        },
        "id": "hr-XTTv0A85d",
        "outputId": "ca233bfc-5498-4e5e-d3a4-56351daebe71"
      },
      "source": [
        "#==========================================\n",
        "# 2.0 wrap up image augmentation functions\n",
        "#==========================================\n",
        "## priors\n",
        "'''\n",
        "several img_aug functions depend on the image size.\n",
        "'''\n",
        "#mask\n",
        "target_size = (96, 96)\n",
        "blur_kernel_size = 9\n",
        "translation_pad_size = 3\n",
        "\n",
        "## import basic functions\n",
        "exec(open('drive/My Drive/CL/ion_images/v3.4/augmentations.py').read())\n",
        "\n",
        "## wrap up img aug combos\n",
        "trans_weak = transforms.Compose(trans_blur2 + trans_color1 + trans_noise2_mask)\n",
        "trans_medium = transforms.Compose(trans_blur2 + trans_color2 + trans_noise2)\n",
        "trans_strong = transforms.Compose(trans_blur3 + trans_color2 + trans_noise3_mask)\n",
        "\n",
        "print('all done')"
      ],
      "execution_count": null,
      "outputs": [
        {
          "output_type": "stream",
          "name": "stdout",
          "text": [
            "all done\n"
          ]
        }
      ]
    },
    {
      "cell_type": "code",
      "metadata": {
        "colab": {
          "base_uri": "https://localhost:8080/",
          "height": 305
        },
        "id": "TsaAoYmPEDbY",
        "outputId": "8aaf9821-f268-460f-9b89-9102d20503f0"
      },
      "source": [
        "#===================================\n",
        "# 2.1 test data augmentation on PIL set\n",
        "#===================================\n",
        "# randomly select idx\n",
        "idx = 196\n",
        "\n",
        "# data wrapper\n",
        "ds = DatasetWrapper_SimCLR(training_PIL_set, trans_strong)\n",
        "\n",
        "# original img\n",
        "display(training_PIL_set[idx])\n",
        "# augmented img 1 in pairs\n",
        "display(tvf.to_pil_image(ds.raw(idx)[0]))\n",
        "# augmented img 2 in pairs\n",
        "display(tvf.to_pil_image(ds.raw(idx)[1]))"
      ],
      "execution_count": null,
      "outputs": [
        {
          "output_type": "display_data",
          "data": {
            "image/png": "[encoded data removed]",
            "text/plain": [
              "<PIL.Image.Image image mode=RGB size=96x96 at 0x7F3D43F90050>"
            ]
          },
          "metadata": {}
        },
        {
          "output_type": "display_data",
          "data": {
            "image/png": "[encoded data removed]",
            "text/plain": [
              "<PIL.Image.Image image mode=RGB size=96x96 at 0x7F3D43EEF8D0>"
            ]
          },
          "metadata": {}
        },
        {
          "output_type": "display_data",
          "data": {
            "image/png": "[encoded data removed]",
            "text/plain": [
              "<PIL.Image.Image image mode=RGB size=96x96 at 0x7F3D43EEF9D0>"
            ]
          },
          "metadata": {}
        }
      ]
    },
    {
      "cell_type": "markdown",
      "metadata": {
        "id": "lxVEn4FmEikQ"
      },
      "source": [
        "**3. Pretrained CNN Model**\n",
        "\n",
        "*   EfficientNet-B0"
      ]
    },
    {
      "cell_type": "code",
      "metadata": {
        "colab": {
          "base_uri": "https://localhost:8080/",
          "height": 535
        },
        "id": "dzuHbqN8EhW3",
        "outputId": "5eab746a-1843-42e7-a597-4f54c85c3896"
      },
      "source": [
        "#===================================\n",
        "# 3.1 Run data through pretrained EfficientNet-B0\n",
        "#===================================\n",
        "## 3.1.0 run EfficientNet model without learning\n",
        "# get model\n",
        "model_effnet = effnet_model_fc0()\n",
        "# run thru model for embeddings\n",
        "effnet_feat = run_thru_NN(model_effnet, dataloader, 'others')\n",
        "effnet_feat = effnet_feat.cpu().numpy()\n",
        "\n",
        "\n",
        "## 3.1.1 tsne visualization \n",
        "tsne = TSNE()\n",
        "tsne_effnet = tsne.fit_transform(effnet_feat)\n",
        "plot_2d_scatter(tsne_effnet, training_labels, 'EfficientNet') "
      ],
      "execution_count": null,
      "outputs": [
        {
          "output_type": "stream",
          "name": "stdout",
          "text": [
            "Loaded pretrained weights for efficientnet-b0\n"
          ]
        },
        {
          "output_type": "display_data",
          "data": {
            "text/html": [
              "<html>\n",
              "<head><meta charset=\"utf-8\" /></head>\n",
              "<body>\n",
              "    <div>\n",
              "            <script src=\"https://cdnjs.cloudflare.com/ajax/libs/mathjax/2.7.5/MathJax.js?config=TeX-AMS-MML_SVG\"></script><script type=\"text/javascript\">if (window.MathJax) {MathJax.Hub.Config({SVG: {font: \"STIX-Web\"}});}</script>\n",
              "                <script type=\"text/javascript\">window.PlotlyConfig = {MathJaxConfig: 'local'};</script>\n",
              "        <script src=\"https://cdn.plot.ly/plotly-latest.min.js\"></script>    \n",
              "            <div id=\"87155fa9-e3ad-4d64-b78e-72c63634dfdc\" class=\"plotly-graph-div\" style=\"height:500px; width:800px;\"></div>\n",
              "            <script type=\"text/javascript\">\n",
              "                \n",
              "                    window.PLOTLYENV=window.PLOTLYENV || {};\n",
              "                    \n",
              "                if (document.getElementById(\"87155fa9-e3ad-4d64-b78e-72c63634dfdc\")) {\n",
              "                    Plotly.newPlot(\n",
              "                        '87155fa9-e3ad-4d64-b78e-72c63634dfdc',\n",
              "                        [{\"customdata\": [[\"0\", 11.88, 11.44, 0.0], [\"0\", 13.43, 11.42, 242.0], [\"0\", 9.22, 8.17, 244.0], [\"0\", 13.35, 12.97, 249.0], [\"0\", 15.07, 7.69, 60.0], [\"0\", 11.92, 12.58, 277.0], [\"0\", 10.85, 9.77, 176.0], [\"0\", 10.16, 8.58, 72.0], [\"0\", 14.06, 13.2, 303.0], [\"0\", 13.26, 10.99, 171.0], [\"0\", 9.43, 9.27, 49.0], [\"0\", 12.61, 9.94, 158.0], [\"0\", 9.68, 10.33, 21.0], [\"0\", 10.45, 7.28, 85.0], [\"0\", 14.21, 15.57, 18.0], [\"0\", 11.49, 8.69, 155.0], [\"0\", 15.12, 12.35, 79.0], [\"0\", 10.26, 17.5, 14.0], [\"0\", 10.32, 12.2, 339.0], [\"0\", 15.18, 7.23, 1.0], [\"0\", 11.36, 13.53, 112.0], [\"0\", 11.75, 9.87, 16.0], [\"0\", 12.75, 12.23, 348.0], [\"0\", 14.12, 7.31, 100.0], [\"0\", 11.11, 11.12, 122.0], [\"0\", 10.5, 6.47, 94.0]], \"hoverlabel\": {\"namelength\": 0}, \"hovertemplate\": \"labels=%{customdata[0]}<br>emb1=%{customdata[1]}<br>emb2=%{customdata[2]}<br>index=%{customdata[3]}\", \"legendgroup\": \"labels=0\", \"marker\": {\"color\": \"black\", \"opacity\": 0.5, \"symbol\": \"circle\"}, \"mode\": \"markers\", \"name\": \"labels=0\", \"showlegend\": true, \"type\": \"scatter\", \"x\": [11.88, 13.43, 9.22, 13.35, 15.07, 11.92, 10.85, 10.16, 14.06, 13.26, 9.43, 12.61, 9.68, 10.45, 14.21, 11.49, 15.12, 10.26, 10.32, 15.18, 11.36, 11.75, 12.75, 14.12, 11.11, 10.5], \"xaxis\": \"x\", \"y\": [11.44, 11.42, 8.17, 12.97, 7.69, 12.58, 9.77, 8.58, 13.2, 10.99, 9.27, 9.94, 10.33, 7.28, 15.57, 8.69, 12.35, 17.5, 12.2, 7.23, 13.53, 9.87, 12.23, 7.31, 11.12, 6.47], \"yaxis\": \"y\"}, {\"customdata\": [[\"1\", 21.67, -9.06, 149.0], [\"1\", 7.84, -0.46, 64.0], [\"1\", 12.2, -4.98, 198.0], [\"1\", 7.69, 13.89, 119.0], [\"1\", 17.93, -7.09, 200.0], [\"1\", 18.56, -6.27, 214.0], [\"1\", 17.69, -12.58, 231.0], [\"1\", 10.17, -1.03, 235.0], [\"1\", 20.45, -8.48, 62.0], [\"1\", 12.13, -3.63, 191.0], [\"1\", 11.17, -5.32, 182.0], [\"1\", 16.38, -9.93, 184.0], [\"1\", 12.18, 5.45, 124.0], [\"1\", 19.76, -6.42, 172.0], [\"1\", 14.7, -12.07, 137.0], [\"1\", 7.95, -1.19, 76.0], [\"1\", 14.46, 2.76, 165.0], [\"1\", 12.96, 5.63, 90.0], [\"1\", 14.19, -0.79, 80.0], [\"1\", 7.85, 3.12, 81.0], [\"1\", 12.56, -5.01, 146.0], [\"1\", 14.36, 1.78, 147.0], [\"1\", 18.35, -6.33, 157.0], [\"1\", 19.42, -7.41, 187.0], [\"1\", 12.45, -6.11, 238.0], [\"1\", 15.54, -11.15, 239.0], [\"1\", 15.5, 10.99, 26.0], [\"1\", 16.35, -10.16, 306.0], [\"1\", 14.76, -12.01, 110.0], [\"1\", 16.23, 1.96, 24.0], [\"1\", 11.73, -2.87, 318.0], [\"1\", 20.09, -8.91, 320.0], [\"1\", 21.07, -6.88, 326.0], [\"1\", 13.33, 1.68, 329.0], [\"1\", 7.35, 14.23, 302.0], [\"1\", 19.02, -4.94, 332.0], [\"1\", 15.57, 2.05, 347.0], [\"1\", 12.39, 4.42, 9.0], [\"1\", 12.91, -5.64, 8.0], [\"1\", 21.31, -8.61, 7.0], [\"1\", 15.19, -0.4, 355.0], [\"1\", 16.87, 1.09, 357.0], [\"1\", 14.78, 1.19, 364.0], [\"1\", 8.91, -1.19, 341.0], [\"1\", 16.07, -0.04, 291.0], [\"1\", 13.82, 0.72, 108.0], [\"1\", 17.73, -12.7, 247.0], [\"1\", 17.29, -0.04, 33.0], [\"1\", 13.56, -1.95, 290.0], [\"1\", 6.72, -2.29, 45.0], [\"1\", 16.12, 0.68, 287.0], [\"1\", 8.6, -0.07, 42.0], [\"1\", 20.52, -8.06, 43.0], [\"1\", 7.58, 3.36, 280.0], [\"1\", 2.26, 5.13, 254.0], [\"1\", 12.69, -1.23, 257.0], [\"1\", 8.87, 2.53, 270.0]], \"hoverlabel\": {\"namelength\": 0}, \"hovertemplate\": \"labels=%{customdata[0]}<br>emb1=%{customdata[1]}<br>emb2=%{customdata[2]}<br>index=%{customdata[3]}\", \"legendgroup\": \"labels=1\", \"marker\": {\"color\": \"gray\", \"opacity\": 0.5, \"symbol\": \"circle\"}, \"mode\": \"markers\", \"name\": \"labels=1\", \"showlegend\": true, \"type\": \"scatter\", \"x\": [21.67, 7.84, 12.2, 7.69, 17.93, 18.56, 17.69, 10.17, 20.45, 12.13, 11.17, 16.38, 12.18, 19.76, 14.7, 7.95, 14.46, 12.96, 14.19, 7.85, 12.56, 14.36, 18.35, 19.42, 12.45, 15.54, 15.5, 16.35, 14.76, 16.23, 11.73, 20.09, 21.07, 13.33, 7.35, 19.02, 15.57, 12.39, 12.91, 21.31, 15.19, 16.87, 14.78, 8.91, 16.07, 13.82, 17.73, 17.29, 13.56, 6.72, 16.12, 8.6, 20.52, 7.58, 2.26, 12.69, 8.87], \"xaxis\": \"x\", \"y\": [-9.06, -0.46, -4.98, 13.89, -7.09, -6.27, -12.58, -1.03, -8.48, -3.63, -5.32, -9.93, 5.45, -6.42, -12.07, -1.19, 2.76, 5.63, -0.79, 3.12, -5.01, 1.78, -6.33, -7.41, -6.11, -11.15, 10.99, -10.16, -12.01, 1.96, -2.87, -8.91, -6.88, 1.68, 14.23, -4.94, 2.05, 4.42, -5.64, -8.61, -0.4, 1.09, 1.19, -1.19, -0.04, 0.72, -12.7, -0.04, -1.95, -2.29, 0.68, -0.07, -8.06, 3.36, 5.13, -1.23, 2.53], \"yaxis\": \"y\"}, {\"customdata\": [[\"2\", 6.35, -6.88, 299.0], [\"2\", -1.21, 11.78, 354.0], [\"2\", 5.08, -4.09, 215.0], [\"2\", 6.35, -5.03, 205.0], [\"2\", 0.19, -17.14, 221.0], [\"2\", 2.47, -2.97, 114.0], [\"2\", -3.81, -18.04, 126.0], [\"2\", 0.81, 13.01, 139.0], [\"2\", 3.7, -8.34, 333.0], [\"2\", -1.38, -5.04, 201.0], [\"2\", 0.71, -3.11, 345.0], [\"2\", 2.75, -8.83, 177.0], [\"2\", 5.18, -7.78, 273.0], [\"2\", 2.75, -9.83, 161.0], [\"2\", 0.89, 12.1, 197.0], [\"2\", -0.64, 11.05, 316.0], [\"2\", -0.53, -7.32, 162.0], [\"2\", -3.86, -18.81, 308.0], [\"2\", 4.25, -8.48, 175.0], [\"2\", -0.62, -5.71, 140.0], [\"2\", 6.85, -4.74, 240.0], [\"2\", 4.17, -9.2, 183.0], [\"2\", 4.66, -3.68, 71.0], [\"2\", 8.12, 1.47, 41.0], [\"2\", -0.63, 10.88, 104.0], [\"2\", 1.09, -3.28, 89.0], [\"2\", -0.24, -7.82, 84.0], [\"2\", 5.66, -7.49, 5.0]], \"hoverlabel\": {\"namelength\": 0}, \"hovertemplate\": \"labels=%{customdata[0]}<br>emb1=%{customdata[1]}<br>emb2=%{customdata[2]}<br>index=%{customdata[3]}\", \"legendgroup\": \"labels=2\", \"marker\": {\"color\": \"silver\", \"opacity\": 0.5, \"symbol\": \"circle\"}, \"mode\": \"markers\", \"name\": \"labels=2\", \"showlegend\": true, \"type\": \"scatter\", \"x\": [6.35, -1.21, 5.08, 6.35, 0.19, 2.47, -3.81, 0.81, 3.7, -1.38, 0.71, 2.75, 5.18, 2.75, 0.89, -0.64, -0.53, -3.86, 4.25, -0.62, 6.85, 4.17, 4.66, 8.12, -0.63, 1.09, -0.24, 5.66], \"xaxis\": \"x\", \"y\": [-6.88, 11.78, -4.09, -5.03, -17.14, -2.97, -18.04, 13.01, -8.34, -5.04, -3.11, -8.83, -7.78, -9.83, 12.1, 11.05, -7.32, -18.81, -8.48, -5.71, -4.74, -9.2, -3.68, 1.47, 10.88, -3.28, -7.82, -7.49], \"yaxis\": \"y\"}, {\"customdata\": [[\"3\", -15.89, -1.69, 134.0], [\"3\", -5.47, -3.28, 325.0], [\"3\", -3.73, -4.22, 283.0], [\"3\", -14.13, 0.08, 23.0], [\"3\", -16.53, -1.68, 275.0], [\"3\", -2.82, 18.25, 88.0], [\"3\", -16.31, -1.17, 87.0], [\"3\", -15.1, -2.3, 75.0], [\"3\", -13.68, -2.18, 311.0], [\"3\", 3.06, 6.52, 167.0], [\"3\", -14.54, 0.13, 178.0], [\"3\", -13.33, -2.61, 262.0], [\"3\", -13.65, 0.99, 82.0], [\"3\", -2.81, 18.2, 213.0], [\"3\", -14.98, -1.31, 117.0], [\"3\", -13.89, 0.98, 6.0]], \"hoverlabel\": {\"namelength\": 0}, \"hovertemplate\": \"labels=%{customdata[0]}<br>emb1=%{customdata[1]}<br>emb2=%{customdata[2]}<br>index=%{customdata[3]}\", \"legendgroup\": \"labels=3\", \"marker\": {\"color\": \"rosybrown\", \"opacity\": 0.5, \"symbol\": \"circle\"}, \"mode\": \"markers\", \"name\": \"labels=3\", \"showlegend\": true, \"type\": \"scatter\", \"x\": [-15.89, -5.47, -3.73, -14.13, -16.53, -2.82, -16.31, -15.1, -13.68, 3.06, -14.54, -13.33, -13.65, -2.81, -14.98, -13.89], \"xaxis\": \"x\", \"y\": [-1.69, -3.28, -4.22, 0.08, -1.68, 18.25, -1.17, -2.3, -2.18, 6.52, 0.13, -2.61, 0.99, 18.2, -1.31, 0.98], \"yaxis\": \"y\"}, {\"customdata\": [[\"4\", 3.96, 9.4, 286.0], [\"4\", -8.83, 0.89, 44.0], [\"4\", -4.53, 14.89, 52.0], [\"4\", -6.76, 4.18, 224.0], [\"4\", 4.22, 0.74, 74.0], [\"4\", -0.66, 6.26, 236.0], [\"4\", -15.06, 5.61, 227.0], [\"4\", -1.52, 14.43, 293.0], [\"4\", 5.76, -0.75, 228.0], [\"4\", 6.36, 2.72, 232.0], [\"4\", -5.78, 2.36, 234.0], [\"4\", 10.15, -3.31, 295.0], [\"4\", -14.64, 4.44, 31.0], [\"4\", 8.22, 7.06, 57.0], [\"4\", 0.91, 4.11, 285.0], [\"4\", -19.26, 4.87, 256.0], [\"4\", 8.68, 6.11, 284.0], [\"4\", -14.46, 4.46, 282.0], [\"4\", 5.01, -2.01, 279.0], [\"4\", -18.19, 4.51, 37.0], [\"4\", -5.09, 12.97, 210.0], [\"4\", 4.77, 9.05, 209.0], [\"4\", 5.13, -1.0, 188.0], [\"4\", 6.42, 8.53, 189.0], [\"4\", 4.22, 1.37, 66.0], [\"4\", -17.72, 4.52, 192.0], [\"4\", -16.7, 4.79, 195.0], [\"4\", -5.47, 13.8, 63.0], [\"4\", 8.31, 8.81, 265.0], [\"4\", 6.33, 1.54, 61.0], [\"4\", 5.72, 3.81, 258.0], [\"4\", 5.17, 5.89, 105.0], [\"4\", 4.09, 3.34, 168.0], [\"4\", -7.21, 3.72, 15.0], [\"4\", 8.03, 6.12, 22.0], [\"4\", 2.28, 1.09, 129.0], [\"4\", -3.83, 4.84, 159.0], [\"4\", -2.12, 5.18, 338.0], [\"4\", 4.53, 12.26, 13.0], [\"4\", -10.82, 4.78, 340.0], [\"4\", -12.22, 5.81, 344.0], [\"4\", -15.5, 3.89, 10.0], [\"4\", 1.07, 2.48, 116.0], [\"4\", 3.69, 4.79, 115.0], [\"4\", -5.38, 15.08, 4.0], [\"4\", -13.74, 4.41, 356.0], [\"4\", -1.4, 1.83, 358.0], [\"4\", -1.86, 3.1, 102.0], [\"4\", 2.81, 1.44, 359.0], [\"4\", -19.49, 4.77, 319.0], [\"4\", -4.31, 12.28, 142.0], [\"4\", -4.83, 1.58, 54.0], [\"4\", -16.91, 4.0, 148.0], [\"4\", -16.81, 2.79, 83.0], [\"4\", -11.83, 7.15, 317.0], [\"4\", 3.11, -2.35, 156.0], [\"4\", 2.29, 2.7, 28.0], [\"4\", 4.93, 6.77, 301.0]], \"hoverlabel\": {\"namelength\": 0}, \"hovertemplate\": \"labels=%{customdata[0]}<br>emb1=%{customdata[1]}<br>emb2=%{customdata[2]}<br>index=%{customdata[3]}\", \"legendgroup\": \"labels=4\", \"marker\": {\"color\": \"lightcoral\", \"opacity\": 0.5, \"symbol\": \"circle\"}, \"mode\": \"markers\", \"name\": \"labels=4\", \"showlegend\": true, \"type\": \"scatter\", \"x\": [3.96, -8.83, -4.53, -6.76, 4.22, -0.66, -15.06, -1.52, 5.76, 6.36, -5.78, 10.15, -14.64, 8.22, 0.91, -19.26, 8.68, -14.46, 5.01, -18.19, -5.09, 4.77, 5.13, 6.42, 4.22, -17.72, -16.7, -5.47, 8.31, 6.33, 5.72, 5.17, 4.09, -7.21, 8.03, 2.28, -3.83, -2.12, 4.53, -10.82, -12.22, -15.5, 1.07, 3.69, -5.38, -13.74, -1.4, -1.86, 2.81, -19.49, -4.31, -4.83, -16.91, -16.81, -11.83, 3.11, 2.29, 4.93], \"xaxis\": \"x\", \"y\": [9.4, 0.89, 14.89, 4.18, 0.74, 6.26, 5.61, 14.43, -0.75, 2.72, 2.36, -3.31, 4.44, 7.06, 4.11, 4.87, 6.11, 4.46, -2.01, 4.51, 12.97, 9.05, -1.0, 8.53, 1.37, 4.52, 4.79, 13.8, 8.81, 1.54, 3.81, 5.89, 3.34, 3.72, 6.12, 1.09, 4.84, 5.18, 12.26, 4.78, 5.81, 3.89, 2.48, 4.79, 15.08, 4.41, 1.83, 3.1, 1.44, 4.77, 12.28, 1.58, 4.0, 2.79, 7.15, -2.35, 2.7, 6.77], \"yaxis\": \"y\"}, {\"customdata\": [[\"5\", -2.39, -6.54, 144.0], [\"5\", -2.73, -4.15, 203.0], [\"5\", -5.75, -4.17, 255.0], [\"5\", -1.06, 5.37, 120.0], [\"5\", 2.58, 14.62, 98.0], [\"5\", -10.32, 1.83, 211.0], [\"5\", 2.74, 14.84, 86.0], [\"5\", 1.61, 14.62, 251.0], [\"5\", -4.52, 4.77, 250.0], [\"5\", 7.43, 10.25, 77.0], [\"5\", 1.88, 8.3, 296.0], [\"5\", 6.08, 11.07, 78.0], [\"5\", -11.5, -6.57, 109.0], [\"5\", -5.47, 7.44, 107.0], [\"5\", 6.88, 6.32, 342.0], [\"5\", -0.18, 3.91, 59.0], [\"5\", 1.23, 8.73, 300.0], [\"5\", -0.69, 5.0, 315.0], [\"5\", 6.67, 11.73, 145.0], [\"5\", -3.69, 14.76, 35.0], [\"5\", -8.19, 5.74, 321.0], [\"5\", -8.26, 5.58, 68.0], [\"5\", -7.35, 6.2, 185.0], [\"5\", 4.33, 3.9, 323.0], [\"5\", -5.29, -3.38, 133.0], [\"5\", -5.72, 7.5, 328.0], [\"5\", -10.32, 1.85, 67.0], [\"5\", 2.46, -2.3, 288.0], [\"5\", 5.85, 8.2, 34.0], [\"5\", 5.52, 7.6, 194.0]], \"hoverlabel\": {\"namelength\": 0}, \"hovertemplate\": \"labels=%{customdata[0]}<br>emb1=%{customdata[1]}<br>emb2=%{customdata[2]}<br>index=%{customdata[3]}\", \"legendgroup\": \"labels=5\", \"marker\": {\"color\": \"firebrick\", \"opacity\": 0.5, \"symbol\": \"circle\"}, \"mode\": \"markers\", \"name\": \"labels=5\", \"showlegend\": true, \"type\": \"scatter\", \"x\": [-2.39, -2.73, -5.75, -1.06, 2.58, -10.32, 2.74, 1.61, -4.52, 7.43, 1.88, 6.08, -11.5, -5.47, 6.88, -0.18, 1.23, -0.69, 6.67, -3.69, -8.19, -8.26, -7.35, 4.33, -5.29, -5.72, -10.32, 2.46, 5.85, 5.52], \"xaxis\": \"x\", \"y\": [-6.54, -4.15, -4.17, 5.37, 14.62, 1.83, 14.84, 14.62, 4.77, 10.25, 8.3, 11.07, -6.57, 7.44, 6.32, 3.91, 8.73, 5.0, 11.73, 14.76, 5.74, 5.58, 6.2, 3.9, -3.38, 7.5, 1.85, -2.3, 8.2, 7.6], \"yaxis\": \"y\"}, {\"customdata\": [[\"6\", -9.94, -22.54, 252.0], [\"6\", -13.97, -13.72, 363.0], [\"6\", -15.42, -16.46, 271.0], [\"6\", -14.09, -14.26, 312.0], [\"6\", -11.85, -13.71, 38.0], [\"6\", -13.43, -15.96, 322.0], [\"6\", -7.09, -19.57, 51.0], [\"6\", -9.38, -21.99, 50.0], [\"6\", -12.61, -13.62, 241.0], [\"6\", -12.29, -15.77, 48.0], [\"6\", -14.77, -13.2, 47.0], [\"6\", -9.55, -20.8, 274.0], [\"6\", -13.72, -17.7, 32.0], [\"6\", -6.8, -21.28, 20.0], [\"6\", -11.76, -16.63, 327.0], [\"6\", -12.45, -20.47, 352.0], [\"6\", -10.54, -13.28, 40.0], [\"6\", -13.07, -16.98, 53.0], [\"6\", -11.68, -12.78, 163.0], [\"6\", -11.57, -14.36, 95.0], [\"6\", -17.18, -13.64, 190.0], [\"6\", -10.81, -21.34, 125.0], [\"6\", -12.42, -14.68, 151.0], [\"6\", -12.29, -17.72, 216.0], [\"6\", -11.56, -19.07, 218.0], [\"6\", -10.91, -13.75, 219.0], [\"6\", -14.72, -17.08, 180.0], [\"6\", -7.39, -22.09, 92.0], [\"6\", -11.89, -21.21, 106.0], [\"6\", -11.31, -19.63, 141.0], [\"6\", -11.28, -17.49, 135.0]], \"hoverlabel\": {\"namelength\": 0}, \"hovertemplate\": \"labels=%{customdata[0]}<br>emb1=%{customdata[1]}<br>emb2=%{customdata[2]}<br>index=%{customdata[3]}\", \"legendgroup\": \"labels=6\", \"marker\": {\"color\": \"maroon\", \"opacity\": 0.5, \"symbol\": \"circle\"}, \"mode\": \"markers\", \"name\": \"labels=6\", \"showlegend\": true, \"type\": \"scatter\", \"x\": [-9.94, -13.97, -15.42, -14.09, -11.85, -13.43, -7.09, -9.38, -12.61, -12.29, -14.77, -9.55, -13.72, -6.8, -11.76, -12.45, -10.54, -13.07, -11.68, -11.57, -17.18, -10.81, -12.42, -12.29, -11.56, -10.91, -14.72, -7.39, -11.89, -11.31, -11.28], \"xaxis\": \"x\", \"y\": [-22.54, -13.72, -16.46, -14.26, -13.71, -15.96, -19.57, -21.99, -13.62, -15.77, -13.2, -20.8, -17.7, -21.28, -16.63, -20.47, -13.28, -16.98, -12.78, -14.36, -13.64, -21.34, -14.68, -17.72, -19.07, -13.75, -17.08, -22.09, -21.21, -19.63, -17.49], \"yaxis\": \"y\"}, {\"customdata\": [[\"7\", -15.6, -9.69, 25.0], [\"7\", -16.44, -8.34, 289.0], [\"7\", -18.83, -9.19, 276.0], [\"7\", -17.21, -8.46, 225.0], [\"7\", -7.78, -19.91, 336.0], [\"7\", -11.41, -22.18, 96.0], [\"7\", -11.28, -7.14, 11.0], [\"7\", -16.39, -8.96, 346.0], [\"7\", -15.77, -10.6, 261.0], [\"7\", -17.75, -9.21, 305.0], [\"7\", -16.92, -11.56, 259.0], [\"7\", -17.66, -9.77, 130.0], [\"7\", -6.12, -18.32, 58.0], [\"7\", -14.37, -10.68, 206.0], [\"7\", -6.88, -18.15, 111.0], [\"7\", -16.86, -10.6, 152.0], [\"7\", -9.01, -19.54, 118.0], [\"7\", -17.59, -10.73, 353.0], [\"7\", -10.23, -8.59, 99.0], [\"7\", -4.94, -18.98, 179.0], [\"7\", -18.59, -10.49, 46.0], [\"7\", -16.95, -9.6, 313.0]], \"hoverlabel\": {\"namelength\": 0}, \"hovertemplate\": \"labels=%{customdata[0]}<br>emb1=%{customdata[1]}<br>emb2=%{customdata[2]}<br>index=%{customdata[3]}\", \"legendgroup\": \"labels=7\", \"marker\": {\"color\": \"red\", \"opacity\": 0.5, \"symbol\": \"circle\"}, \"mode\": \"markers\", \"name\": \"labels=7\", \"showlegend\": true, \"type\": \"scatter\", \"x\": [-15.6, -16.44, -18.83, -17.21, -7.78, -11.41, -11.28, -16.39, -15.77, -17.75, -16.92, -17.66, -6.12, -14.37, -6.88, -16.86, -9.01, -17.59, -10.23, -4.94, -18.59, -16.95], \"xaxis\": \"x\", \"y\": [-9.69, -8.34, -9.19, -8.46, -19.91, -22.18, -7.14, -8.96, -10.6, -9.21, -11.56, -9.77, -18.32, -10.68, -18.15, -10.6, -19.54, -10.73, -8.59, -18.98, -10.49, -9.6], \"yaxis\": \"y\"}, {\"customdata\": [[\"8\", -6.36, 10.33, 70.0], [\"8\", -10.01, 10.67, 174.0], [\"8\", -14.25, 11.85, 143.0], [\"8\", -0.43, 8.93, 314.0], [\"8\", -7.67, 9.79, 91.0], [\"8\", -18.89, 8.44, 170.0], [\"8\", -1.26, 15.32, 164.0], [\"8\", -17.74, 8.35, 298.0], [\"8\", -3.46, 8.79, 335.0], [\"8\", 0.32, 16.73, 334.0], [\"8\", -9.75, 9.14, 30.0], [\"8\", -5.17, 9.96, 132.0], [\"8\", -19.02, 8.22, 307.0], [\"8\", -17.59, 8.65, 337.0], [\"8\", -9.17, 9.12, 17.0], [\"8\", -16.39, 10.03, 186.0], [\"8\", -12.66, 7.42, 69.0], [\"8\", -14.9, 11.42, 229.0], [\"8\", -18.07, 6.74, 2.0], [\"8\", -14.74, 8.12, 237.0], [\"8\", 10.59, 20.16, 361.0], [\"8\", 11.87, 19.68, 360.0], [\"8\", 11.82, 20.51, 245.0], [\"8\", -9.12, 9.75, 56.0], [\"8\", -15.78, 7.04, 253.0], [\"8\", -4.1, 9.06, 121.0], [\"8\", -10.04, 9.71, 97.0], [\"8\", 7.36, 7.51, 181.0], [\"8\", 1.6, 7.27, 264.0], [\"8\", -16.13, 7.08, 199.0], [\"8\", -16.24, 10.26, 202.0], [\"8\", -0.43, 14.75, 281.0], [\"8\", -14.74, 6.77, 365.0], [\"8\", -7.93, 10.51, 12.0], [\"8\", -14.23, 11.85, 278.0], [\"8\", -11.52, -8.32, 272.0], [\"8\", -17.46, 7.38, 193.0]], \"hoverlabel\": {\"namelength\": 0}, \"hovertemplate\": \"labels=%{customdata[0]}<br>emb1=%{customdata[1]}<br>emb2=%{customdata[2]}<br>index=%{customdata[3]}\", \"legendgroup\": \"labels=8\", \"marker\": {\"color\": \"coral\", \"opacity\": 0.5, \"symbol\": \"circle\"}, \"mode\": \"markers\", \"name\": \"labels=8\", \"showlegend\": true, \"type\": \"scatter\", \"x\": [-6.36, -10.01, -14.25, -0.43, -7.67, -18.89, -1.26, -17.74, -3.46, 0.32, -9.75, -5.17, -19.02, -17.59, -9.17, -16.39, -12.66, -14.9, -18.07, -14.74, 10.59, 11.87, 11.82, -9.12, -15.78, -4.1, -10.04, 7.36, 1.6, -16.13, -16.24, -0.43, -14.74, -7.93, -14.23, -11.52, -17.46], \"xaxis\": \"x\", \"y\": [10.33, 10.67, 11.85, 8.93, 9.79, 8.44, 15.32, 8.35, 8.79, 16.73, 9.14, 9.96, 8.22, 8.65, 9.12, 10.03, 7.42, 11.42, 6.74, 8.12, 20.16, 19.68, 20.51, 9.75, 7.04, 9.06, 9.71, 7.51, 7.27, 7.08, 10.26, 14.75, 6.77, 10.51, 11.85, -8.32, 7.38], \"yaxis\": \"y\"}, {\"customdata\": [[\"9\", 8.27, 21.47, 267.0], [\"9\", 10.03, 23.24, 73.0], [\"9\", 8.34, 22.95, 362.0], [\"9\", 11.11, 16.06, 324.0], [\"9\", 12.2, 14.52, 173.0], [\"9\", 11.21, 24.09, 350.0], [\"9\", 13.21, 14.72, 131.0], [\"9\", 9.02, 17.4, 27.0], [\"9\", 10.89, 23.94, 294.0], [\"9\", 8.66, 19.41, 260.0], [\"9\", 11.43, 24.39, 19.0], [\"9\", 11.77, 15.43, 65.0], [\"9\", 12.13, 16.45, 154.0], [\"9\", 8.45, 18.34, 297.0], [\"9\", 7.46, 19.55, 268.0]], \"hoverlabel\": {\"namelength\": 0}, \"hovertemplate\": \"labels=%{customdata[0]}<br>emb1=%{customdata[1]}<br>emb2=%{customdata[2]}<br>index=%{customdata[3]}\", \"legendgroup\": \"labels=9\", \"marker\": {\"color\": \"chocolate\", \"opacity\": 0.5, \"symbol\": \"circle\"}, \"mode\": \"markers\", \"name\": \"labels=9\", \"showlegend\": true, \"type\": \"scatter\", \"x\": [8.27, 10.03, 8.34, 11.11, 12.2, 11.21, 13.21, 9.02, 10.89, 8.66, 11.43, 11.77, 12.13, 8.45, 7.46], \"xaxis\": \"x\", \"y\": [21.47, 23.24, 22.95, 16.06, 14.52, 24.09, 14.72, 17.4, 23.94, 19.41, 24.39, 15.43, 16.45, 18.34, 19.55], \"yaxis\": \"y\"}, {\"customdata\": [[\"10\", 5.8, 18.31, 127.0], [\"10\", 5.3, 18.07, 113.0], [\"10\", 8.82, 16.74, 136.0], [\"10\", 3.81, 18.17, 233.0], [\"10\", 7.2, 18.43, 266.0], [\"10\", 4.97, 19.8, 196.0], [\"10\", 3.66, 18.63, 230.0], [\"10\", 5.51, 19.79, 29.0], [\"10\", 7.86, 20.89, 160.0], [\"10\", 4.51, 18.33, 223.0], [\"10\", 13.71, 8.9, 150.0]], \"hoverlabel\": {\"namelength\": 0}, \"hovertemplate\": \"labels=%{customdata[0]}<br>emb1=%{customdata[1]}<br>emb2=%{customdata[2]}<br>index=%{customdata[3]}\", \"legendgroup\": \"labels=10\", \"marker\": {\"color\": \"saddlebrown\", \"opacity\": 0.5, \"symbol\": \"circle\"}, \"mode\": \"markers\", \"name\": \"labels=10\", \"showlegend\": true, \"type\": \"scatter\", \"x\": [5.8, 5.3, 8.82, 3.81, 7.2, 4.97, 3.66, 5.51, 7.86, 4.51, 13.71], \"xaxis\": \"x\", \"y\": [18.31, 18.07, 16.74, 18.17, 18.43, 19.8, 18.63, 19.79, 20.89, 18.33, 8.9], \"yaxis\": \"y\"}, {\"customdata\": [[\"11\", -3.43, -26.21, 220.0], [\"11\", 15.09, -9.28, 243.0], [\"11\", -4.4, -24.69, 3.0], [\"11\", -1.5, -27.57, 101.0], [\"11\", -4.59, -26.5, 263.0], [\"11\", -2.56, -24.37, 226.0], [\"11\", -0.64, -25.35, 246.0], [\"11\", -4.8, -25.95, 248.0], [\"11\", -2.44, -25.9, 351.0], [\"11\", -5.42, -27.24, 349.0], [\"11\", -1.82, -25.08, 207.0], [\"11\", -1.41, -24.47, 204.0], [\"11\", -3.42, -24.11, 55.0], [\"11\", -4.21, -22.54, 93.0], [\"11\", -4.62, -27.72, 138.0], [\"11\", -3.52, -26.92, 343.0], [\"11\", -0.89, -23.68, 310.0], [\"11\", -3.46, -25.38, 309.0], [\"11\", -3.35, -22.97, 304.0], [\"11\", -2.78, -25.06, 330.0], [\"11\", -3.63, -20.95, 331.0], [\"11\", -5.36, -22.77, 123.0], [\"11\", -2.46, -26.97, 166.0], [\"11\", -0.62, -26.51, 128.0], [\"11\", -3.02, -27.75, 269.0], [\"11\", -1.8, -26.44, 366.0]], \"hoverlabel\": {\"namelength\": 0}, \"hovertemplate\": \"labels=%{customdata[0]}<br>emb1=%{customdata[1]}<br>emb2=%{customdata[2]}<br>index=%{customdata[3]}\", \"legendgroup\": \"labels=11\", \"marker\": {\"color\": \"darkorange\", \"opacity\": 0.5, \"symbol\": \"circle\"}, \"mode\": \"markers\", \"name\": \"labels=11\", \"showlegend\": true, \"type\": \"scatter\", \"x\": [-3.43, 15.09, -4.4, -1.5, -4.59, -2.56, -0.64, -4.8, -2.44, -5.42, -1.82, -1.41, -3.42, -4.21, -4.62, -3.52, -0.89, -3.46, -3.35, -2.78, -3.63, -5.36, -2.46, -0.62, -3.02, -1.8], \"xaxis\": \"x\", \"y\": [-26.21, -9.28, -24.69, -27.57, -26.5, -24.37, -25.35, -25.95, -25.9, -27.24, -25.08, -24.47, -24.11, -22.54, -27.72, -26.92, -23.68, -25.38, -22.97, -25.06, -20.95, -22.77, -26.97, -26.51, -27.75, -26.44], \"yaxis\": \"y\"}, {\"customdata\": [[\"12\", 13.0, 7.65, 217.0], [\"12\", -1.83, -21.89, 212.0], [\"12\", -1.04, -20.85, 292.0], [\"12\", -2.16, -20.21, 208.0], [\"12\", -0.41, -19.76, 103.0], [\"12\", -0.23, -20.42, 36.0], [\"12\", -0.28, -19.27, 153.0], [\"12\", -2.19, -22.71, 222.0], [\"12\", -1.19, -19.49, 39.0], [\"12\", 14.44, 4.7, 169.0]], \"hoverlabel\": {\"namelength\": 0}, \"hovertemplate\": \"labels=%{customdata[0]}<br>emb1=%{customdata[1]}<br>emb2=%{customdata[2]}<br>index=%{customdata[3]}\", \"legendgroup\": \"labels=12\", \"marker\": {\"color\": \"orange\", \"opacity\": 0.5, \"symbol\": \"circle\"}, \"mode\": \"markers\", \"name\": \"labels=12\", \"showlegend\": true, \"type\": \"scatter\", \"x\": [13.0, -1.83, -1.04, -2.16, -0.41, -0.23, -0.28, -2.19, -1.19, 14.44], \"xaxis\": \"x\", \"y\": [7.65, -21.89, -20.85, -20.21, -19.76, -20.42, -19.27, -22.71, -19.49, 4.7], \"yaxis\": \"y\"}],\n",
              "                        {\"height\": 500, \"legend\": {\"tracegroupgap\": 0}, \"template\": {\"data\": {\"bar\": [{\"error_x\": {\"color\": \"#2a3f5f\"}, \"error_y\": {\"color\": \"#2a3f5f\"}, \"marker\": {\"line\": {\"color\": \"#E5ECF6\", \"width\": 0.5}}, \"type\": \"bar\"}], \"barpolar\": [{\"marker\": {\"line\": {\"color\": \"#E5ECF6\", \"width\": 0.5}}, \"type\": \"barpolar\"}], \"carpet\": [{\"aaxis\": {\"endlinecolor\": \"#2a3f5f\", \"gridcolor\": \"white\", \"linecolor\": \"white\", \"minorgridcolor\": \"white\", \"startlinecolor\": \"#2a3f5f\"}, \"baxis\": {\"endlinecolor\": \"#2a3f5f\", \"gridcolor\": \"white\", \"linecolor\": \"white\", \"minorgridcolor\": \"white\", \"startlinecolor\": \"#2a3f5f\"}, \"type\": \"carpet\"}], \"choropleth\": [{\"colorbar\": {\"outlinewidth\": 0, \"ticks\": \"\"}, \"type\": \"choropleth\"}], \"contour\": [{\"colorbar\": {\"outlinewidth\": 0, \"ticks\": \"\"}, \"colorscale\": [[0.0, \"#0d0887\"], [0.1111111111111111, \"#46039f\"], [0.2222222222222222, \"#7201a8\"], [0.3333333333333333, \"#9c179e\"], [0.4444444444444444, \"#bd3786\"], [0.5555555555555556, \"#d8576b\"], [0.6666666666666666, \"#ed7953\"], [0.7777777777777778, \"#fb9f3a\"], [0.8888888888888888, \"#fdca26\"], [1.0, \"#f0f921\"]], \"type\": \"contour\"}], \"contourcarpet\": [{\"colorbar\": {\"outlinewidth\": 0, \"ticks\": \"\"}, \"type\": \"contourcarpet\"}], \"heatmap\": [{\"colorbar\": {\"outlinewidth\": 0, \"ticks\": \"\"}, \"colorscale\": [[0.0, \"#0d0887\"], [0.1111111111111111, \"#46039f\"], [0.2222222222222222, \"#7201a8\"], [0.3333333333333333, \"#9c179e\"], [0.4444444444444444, \"#bd3786\"], [0.5555555555555556, \"#d8576b\"], [0.6666666666666666, \"#ed7953\"], [0.7777777777777778, \"#fb9f3a\"], [0.8888888888888888, \"#fdca26\"], [1.0, \"#f0f921\"]], \"type\": \"heatmap\"}], \"heatmapgl\": [{\"colorbar\": {\"outlinewidth\": 0, \"ticks\": \"\"}, \"colorscale\": [[0.0, \"#0d0887\"], [0.1111111111111111, \"#46039f\"], [0.2222222222222222, \"#7201a8\"], [0.3333333333333333, \"#9c179e\"], [0.4444444444444444, \"#bd3786\"], [0.5555555555555556, \"#d8576b\"], [0.6666666666666666, \"#ed7953\"], [0.7777777777777778, \"#fb9f3a\"], [0.8888888888888888, \"#fdca26\"], [1.0, \"#f0f921\"]], \"type\": \"heatmapgl\"}], \"histogram\": [{\"marker\": {\"colorbar\": {\"outlinewidth\": 0, \"ticks\": \"\"}}, \"type\": \"histogram\"}], \"histogram2d\": [{\"colorbar\": {\"outlinewidth\": 0, \"ticks\": \"\"}, \"colorscale\": [[0.0, \"#0d0887\"], [0.1111111111111111, \"#46039f\"], [0.2222222222222222, \"#7201a8\"], [0.3333333333333333, \"#9c179e\"], [0.4444444444444444, \"#bd3786\"], [0.5555555555555556, \"#d8576b\"], [0.6666666666666666, \"#ed7953\"], [0.7777777777777778, \"#fb9f3a\"], [0.8888888888888888, \"#fdca26\"], [1.0, \"#f0f921\"]], \"type\": \"histogram2d\"}], \"histogram2dcontour\": [{\"colorbar\": {\"outlinewidth\": 0, \"ticks\": \"\"}, \"colorscale\": [[0.0, \"#0d0887\"], [0.1111111111111111, \"#46039f\"], [0.2222222222222222, \"#7201a8\"], [0.3333333333333333, \"#9c179e\"], [0.4444444444444444, \"#bd3786\"], [0.5555555555555556, \"#d8576b\"], [0.6666666666666666, \"#ed7953\"], [0.7777777777777778, \"#fb9f3a\"], [0.8888888888888888, \"#fdca26\"], [1.0, \"#f0f921\"]], \"type\": \"histogram2dcontour\"}], \"mesh3d\": [{\"colorbar\": {\"outlinewidth\": 0, \"ticks\": \"\"}, \"type\": \"mesh3d\"}], \"parcoords\": [{\"line\": {\"colorbar\": {\"outlinewidth\": 0, \"ticks\": \"\"}}, \"type\": \"parcoords\"}], \"pie\": [{\"automargin\": true, \"type\": \"pie\"}], \"scatter\": [{\"marker\": {\"colorbar\": {\"outlinewidth\": 0, \"ticks\": \"\"}}, \"type\": \"scatter\"}], \"scatter3d\": [{\"line\": {\"colorbar\": {\"outlinewidth\": 0, \"ticks\": \"\"}}, \"marker\": {\"colorbar\": {\"outlinewidth\": 0, \"ticks\": \"\"}}, \"type\": \"scatter3d\"}], \"scattercarpet\": [{\"marker\": {\"colorbar\": {\"outlinewidth\": 0, \"ticks\": \"\"}}, \"type\": \"scattercarpet\"}], \"scattergeo\": [{\"marker\": {\"colorbar\": {\"outlinewidth\": 0, \"ticks\": \"\"}}, \"type\": \"scattergeo\"}], \"scattergl\": [{\"marker\": {\"colorbar\": {\"outlinewidth\": 0, \"ticks\": \"\"}}, \"type\": \"scattergl\"}], \"scattermapbox\": [{\"marker\": {\"colorbar\": {\"outlinewidth\": 0, \"ticks\": \"\"}}, \"type\": \"scattermapbox\"}], \"scatterpolar\": [{\"marker\": {\"colorbar\": {\"outlinewidth\": 0, \"ticks\": \"\"}}, \"type\": \"scatterpolar\"}], \"scatterpolargl\": [{\"marker\": {\"colorbar\": {\"outlinewidth\": 0, \"ticks\": \"\"}}, \"type\": \"scatterpolargl\"}], \"scatterternary\": [{\"marker\": {\"colorbar\": {\"outlinewidth\": 0, \"ticks\": \"\"}}, \"type\": \"scatterternary\"}], \"surface\": [{\"colorbar\": {\"outlinewidth\": 0, \"ticks\": \"\"}, \"colorscale\": [[0.0, \"#0d0887\"], [0.1111111111111111, \"#46039f\"], [0.2222222222222222, \"#7201a8\"], [0.3333333333333333, \"#9c179e\"], [0.4444444444444444, \"#bd3786\"], [0.5555555555555556, \"#d8576b\"], [0.6666666666666666, \"#ed7953\"], [0.7777777777777778, \"#fb9f3a\"], [0.8888888888888888, \"#fdca26\"], [1.0, \"#f0f921\"]], \"type\": \"surface\"}], \"table\": [{\"cells\": {\"fill\": {\"color\": \"#EBF0F8\"}, \"line\": {\"color\": \"white\"}}, \"header\": {\"fill\": {\"color\": \"#C8D4E3\"}, \"line\": {\"color\": \"white\"}}, \"type\": \"table\"}]}, \"layout\": {\"annotationdefaults\": {\"arrowcolor\": \"#2a3f5f\", \"arrowhead\": 0, \"arrowwidth\": 1}, \"coloraxis\": {\"colorbar\": {\"outlinewidth\": 0, \"ticks\": \"\"}}, \"colorscale\": {\"diverging\": [[0, \"#8e0152\"], [0.1, \"#c51b7d\"], [0.2, \"#de77ae\"], [0.3, \"#f1b6da\"], [0.4, \"#fde0ef\"], [0.5, \"#f7f7f7\"], [0.6, \"#e6f5d0\"], [0.7, \"#b8e186\"], [0.8, \"#7fbc41\"], [0.9, \"#4d9221\"], [1, \"#276419\"]], \"sequential\": [[0.0, \"#0d0887\"], [0.1111111111111111, \"#46039f\"], [0.2222222222222222, \"#7201a8\"], [0.3333333333333333, \"#9c179e\"], [0.4444444444444444, \"#bd3786\"], [0.5555555555555556, \"#d8576b\"], [0.6666666666666666, \"#ed7953\"], [0.7777777777777778, \"#fb9f3a\"], [0.8888888888888888, \"#fdca26\"], [1.0, \"#f0f921\"]], \"sequentialminus\": [[0.0, \"#0d0887\"], [0.1111111111111111, \"#46039f\"], [0.2222222222222222, \"#7201a8\"], [0.3333333333333333, \"#9c179e\"], [0.4444444444444444, \"#bd3786\"], [0.5555555555555556, \"#d8576b\"], [0.6666666666666666, \"#ed7953\"], [0.7777777777777778, \"#fb9f3a\"], [0.8888888888888888, \"#fdca26\"], [1.0, \"#f0f921\"]]}, \"colorway\": [\"#636efa\", \"#EF553B\", \"#00cc96\", \"#ab63fa\", \"#FFA15A\", \"#19d3f3\", \"#FF6692\", \"#B6E880\", \"#FF97FF\", \"#FECB52\"], \"font\": {\"color\": \"#2a3f5f\"}, \"geo\": {\"bgcolor\": \"white\", \"lakecolor\": \"white\", \"landcolor\": \"#E5ECF6\", \"showlakes\": true, \"showland\": true, \"subunitcolor\": \"white\"}, \"hoverlabel\": {\"align\": \"left\"}, \"hovermode\": \"closest\", \"mapbox\": {\"style\": \"light\"}, \"paper_bgcolor\": \"white\", \"plot_bgcolor\": \"#E5ECF6\", \"polar\": {\"angularaxis\": {\"gridcolor\": \"white\", \"linecolor\": \"white\", \"ticks\": \"\"}, \"bgcolor\": \"#E5ECF6\", \"radialaxis\": {\"gridcolor\": \"white\", \"linecolor\": \"white\", \"ticks\": \"\"}}, \"scene\": {\"xaxis\": {\"backgroundcolor\": \"#E5ECF6\", \"gridcolor\": \"white\", \"gridwidth\": 2, \"linecolor\": \"white\", \"showbackground\": true, \"ticks\": \"\", \"zerolinecolor\": \"white\"}, \"yaxis\": {\"backgroundcolor\": \"#E5ECF6\", \"gridcolor\": \"white\", \"gridwidth\": 2, \"linecolor\": \"white\", \"showbackground\": true, \"ticks\": \"\", \"zerolinecolor\": \"white\"}, \"zaxis\": {\"backgroundcolor\": \"#E5ECF6\", \"gridcolor\": \"white\", \"gridwidth\": 2, \"linecolor\": \"white\", \"showbackground\": true, \"ticks\": \"\", \"zerolinecolor\": \"white\"}}, \"shapedefaults\": {\"line\": {\"color\": \"#2a3f5f\"}}, \"ternary\": {\"aaxis\": {\"gridcolor\": \"white\", \"linecolor\": \"white\", \"ticks\": \"\"}, \"baxis\": {\"gridcolor\": \"white\", \"linecolor\": \"white\", \"ticks\": \"\"}, \"bgcolor\": \"#E5ECF6\", \"caxis\": {\"gridcolor\": \"white\", \"linecolor\": \"white\", \"ticks\": \"\"}}, \"title\": {\"x\": 0.05}, \"xaxis\": {\"automargin\": true, \"gridcolor\": \"white\", \"linecolor\": \"white\", \"ticks\": \"\", \"title\": {\"standoff\": 15}, \"zerolinecolor\": \"white\", \"zerolinewidth\": 2}, \"yaxis\": {\"automargin\": true, \"gridcolor\": \"white\", \"linecolor\": \"white\", \"ticks\": \"\", \"title\": {\"standoff\": 15}, \"zerolinecolor\": \"white\", \"zerolinewidth\": 2}}}, \"title\": {\"text\": \"EfficientNet\"}, \"width\": 800, \"xaxis\": {\"anchor\": \"y\", \"domain\": [0.0, 1.0], \"scaleanchor\": \"y\", \"scaleratio\": 1, \"title\": {\"text\": \"emb1\"}}, \"yaxis\": {\"anchor\": \"x\", \"domain\": [0.0, 1.0], \"title\": {\"text\": \"emb2\"}}},\n",
              "                        {\"responsive\": true}\n",
              "                    ).then(function(){\n",
              "                            \n",
              "var gd = document.getElementById('87155fa9-e3ad-4d64-b78e-72c63634dfdc');\n",
              "var x = new MutationObserver(function (mutations, observer) {{\n",
              "        var display = window.getComputedStyle(gd).display;\n",
              "        if (!display || display === 'none') {{\n",
              "            console.log([gd, 'removed!']);\n",
              "            Plotly.purge(gd);\n",
              "            observer.disconnect();\n",
              "        }}\n",
              "}});\n",
              "\n",
              "// Listen for the removal of the full notebook cells\n",
              "var notebookContainer = gd.closest('#notebook-container');\n",
              "if (notebookContainer) {{\n",
              "    x.observe(notebookContainer, {childList: true});\n",
              "}}\n",
              "\n",
              "// Listen for the clearing of the current output cell\n",
              "var outputEl = gd.closest('.output');\n",
              "if (outputEl) {{\n",
              "    x.observe(outputEl, {childList: true});\n",
              "}}\n",
              "\n",
              "                        })\n",
              "                };\n",
              "                \n",
              "            </script>\n",
              "        </div>\n",
              "</body>\n",
              "</html>"
            ]
          },
          "metadata": {}
        }
      ]
    },
    {
      "cell_type": "code",
      "metadata": {
        "colab": {
          "base_uri": "https://localhost:8080/"
        },
        "id": "JOkg2lMUJe2A",
        "outputId": "7300a437-70c3-46f3-bd8d-4fec6a6f5c96"
      },
      "source": [
        "#===================================\n",
        "# 3.2 SC (spectral clustering)\n",
        "#===================================\n",
        "\n",
        "## 3.2.0 SC clustering\n",
        "hparams_SC = Namespace(\n",
        "    n_neighbors = 10,\n",
        "    n_clusters = 20, \n",
        ")\n",
        "\n",
        "# clustering\n",
        "SC_cluster = SpectralClustering(n_clusters = hparams_SC.n_clusters, \n",
        "                             n_neighbors = hparams_SC.n_neighbors, \n",
        "                             affinity = 'nearest_neighbors', \n",
        "                             assign_labels='discretize')\n",
        "initial_labels = SC_cluster.fit_predict(effnet_feat)\n",
        "\n",
        "## 3.2.1 visualization\n",
        "# check accuracy if we have benchmark groundtruth\n",
        "SC_acc, _ = get_Acc(initial_labels, training_labels)\n",
        "print('Accuracy of SimCLR + SC: {}'.format(SC_acc))"
      ],
      "execution_count": null,
      "outputs": [
        {
          "output_type": "stream",
          "name": "stdout",
          "text": [
            "Accuracy of SimCLR + SC: 0.7223\n"
          ]
        }
      ]
    },
    {
      "cell_type": "markdown",
      "metadata": {
        "id": "Lu7oatKIFSuf"
      },
      "source": [
        "**4. Self-supervised clustering**\n",
        "*    SimCLR\n",
        "*    SC (spectral clustering) + linear classifier initialization\n",
        "*    FineTune "
      ]
    },
    {
      "cell_type": "markdown",
      "metadata": {
        "id": "jYdc29eKFk1n"
      },
      "source": [
        "**4.1 SimCLR**"
      ]
    },
    {
      "cell_type": "code",
      "metadata": {
        "colab": {
          "base_uri": "https://localhost:8080/",
          "height": 567,
          "referenced_widgets": [
            "b9c1bfd955a14b12baa35583f5574ba1",
            "8ea276450fab4527b731562b097e7264",
            "a9f12e1181f14915ad03d02ac30eefa6",
            "cac254eb975448099bebf0445b09d92e",
            "bbc1b3f075cf4e12a0455f097efa5079",
            "8d8f3d0de9544b3c84d3cb2668c1dbb9",
            "4843493905f3438fbcb0e3011ae6cbba",
            "3573332ed28547639932fc244b65af5f",
            "725f7a7a82c74630a0a1517fab0a0e96",
            "495b18e9b45d4a969a1d45db0ecb6860",
            "dedf25997ee844ce9ebc32b723be99b6"
          ]
        },
        "id": "q5jvYPXvFPYI",
        "outputId": "4825fbfe-ef06-4ab2-869f-97ed1ddc4845"
      },
      "source": [
        "#===================================\n",
        "# 4.1 SimCLR\n",
        "#===================================\n",
        "\n",
        "# 4.1.0 make output folder for all 3 steps\n",
        "#===================================\n",
        "# time_stamp\n",
        "moment = datetime.now(tz) \n",
        "moment = str(moment.date()) + '_' + str(moment.hour) + '-' + str(moment.minute)\n",
        "# root_folder dir\n",
        "output_folder = 'Self-supervised-clustering__' + moment\n",
        "# make folder for output\n",
        "os.mkdir(output_folder)\n",
        "\n",
        "# 4.1.1 CLR training\n",
        "#===================================\n",
        "# hparams for training module\n",
        "hparams_CLR = Namespace(\n",
        "    data = training_PIL_set,\n",
        "    trans = trans_medium,\n",
        "    lr = 1e-3,\n",
        "    epochs = 50,\n",
        "    batch_size = 183,\n",
        "    train_size = 367                     # the last batch is dropped.\n",
        ")\n",
        "\n",
        "model_CLR, _ = fit_CLR(hparams_CLR, output_folder, verbose=False)\n",
        "\n",
        "# 4.1.2 CLR embedding visualization\n",
        "#===================================\n",
        "# run thru model for embeddings\n",
        "CLR_feat = run_thru_NN(model_CLR, dataloader, 'emb')\n",
        "CLR_feat = CLR_feat.cpu().numpy()\n",
        "\n",
        "# tsne visualizaiton \n",
        "tsne = TSNE()       \n",
        "tsne_CLR = tsne.fit_transform(CLR_feat)\n",
        "plot_2d_scatter(tsne_CLR, training_labels, 'SimCLR') "
      ],
      "execution_count": null,
      "outputs": [
        {
          "output_type": "stream",
          "name": "stdout",
          "text": [
            "Loaded pretrained weights for efficientnet-b0\n"
          ]
        },
        {
          "output_type": "display_data",
          "data": {
            "application/vnd.jupyter.widget-view+json": {
              "model_id": "b9c1bfd955a14b12baa35583f5574ba1",
              "version_minor": 0,
              "version_major": 2
            },
            "text/plain": [
              "  0%|          | 0/50 [00:00<?, ?it/s]"
            ]
          },
          "metadata": {}
        },
        {
          "output_type": "display_data",
          "data": {
            "text/html": [
              "<html>\n",
              "<head><meta charset=\"utf-8\" /></head>\n",
              "<body>\n",
              "    <div>\n",
              "            <script src=\"https://cdnjs.cloudflare.com/ajax/libs/mathjax/2.7.5/MathJax.js?config=TeX-AMS-MML_SVG\"></script><script type=\"text/javascript\">if (window.MathJax) {MathJax.Hub.Config({SVG: {font: \"STIX-Web\"}});}</script>\n",
              "                <script type=\"text/javascript\">window.PlotlyConfig = {MathJaxConfig: 'local'};</script>\n",
              "        <script src=\"https://cdn.plot.ly/plotly-latest.min.js\"></script>    \n",
              "            <div id=\"85856674-3e0f-43af-90f0-2b0fcb65da31\" class=\"plotly-graph-div\" style=\"height:500px; width:800px;\"></div>\n",
              "            <script type=\"text/javascript\">\n",
              "                \n",
              "                    window.PLOTLYENV=window.PLOTLYENV || {};\n",
              "                    \n",
              "                if (document.getElementById(\"85856674-3e0f-43af-90f0-2b0fcb65da31\")) {\n",
              "                    Plotly.newPlot(\n",
              "                        '85856674-3e0f-43af-90f0-2b0fcb65da31',\n",
              "                        [{\"customdata\": [[\"0\", -7.49, -4.3, 0.0], [\"0\", -9.42, -4.22, 242.0], [\"0\", -10.11, -2.75, 244.0], [\"0\", -3.94, -6.02, 249.0], [\"0\", -11.09, -0.85, 60.0], [\"0\", -8.96, -3.36, 277.0], [\"0\", -9.09, -2.84, 176.0], [\"0\", -8.47, -2.52, 72.0], [\"0\", -3.84, -6.08, 303.0], [\"0\", -7.02, -4.99, 171.0], [\"0\", -9.41, -2.43, 49.0], [\"0\", -9.0, -3.97, 158.0], [\"0\", -8.17, -4.09, 21.0], [\"0\", -10.36, -1.93, 85.0], [\"0\", -6.3, -4.6, 18.0], [\"0\", -7.64, -2.6, 155.0], [\"0\", -3.37, -5.77, 79.0], [\"0\", -6.11, -4.43, 14.0], [\"0\", -7.4, -4.96, 339.0], [\"0\", -10.91, -1.08, 1.0], [\"0\", -6.83, -3.99, 112.0], [\"0\", -8.52, -3.23, 16.0], [\"0\", -7.26, -4.75, 348.0], [\"0\", -10.86, -1.43, 100.0], [\"0\", -7.61, -3.04, 122.0], [\"0\", -9.82, -2.19, 94.0]], \"hoverlabel\": {\"namelength\": 0}, \"hovertemplate\": \"labels=%{customdata[0]}<br>emb1=%{customdata[1]}<br>emb2=%{customdata[2]}<br>index=%{customdata[3]}\", \"legendgroup\": \"labels=0\", \"marker\": {\"color\": \"black\", \"opacity\": 0.5, \"symbol\": \"circle\"}, \"mode\": \"markers\", \"name\": \"labels=0\", \"showlegend\": true, \"type\": \"scatter\", \"x\": [-7.49, -9.42, -10.11, -3.94, -11.09, -8.96, -9.09, -8.47, -3.84, -7.02, -9.41, -9.0, -8.17, -10.36, -6.3, -7.64, -3.37, -6.11, -7.4, -10.91, -6.83, -8.52, -7.26, -10.86, -7.61, -9.82], \"xaxis\": \"x\", \"y\": [-4.3, -4.22, -2.75, -6.02, -0.85, -3.36, -2.84, -2.52, -6.08, -4.99, -2.43, -3.97, -4.09, -1.93, -4.6, -2.6, -5.77, -4.43, -4.96, -1.08, -3.99, -3.23, -4.75, -1.43, -3.04, -2.19], \"yaxis\": \"y\"}, {\"customdata\": [[\"1\", 4.99, -9.33, 149.0], [\"1\", -5.08, -16.19, 64.0], [\"1\", -2.11, -13.3, 198.0], [\"1\", 1.9, -9.73, 119.0], [\"1\", 7.35, -12.5, 200.0], [\"1\", 7.13, -11.9, 214.0], [\"1\", 3.61, -9.59, 231.0], [\"1\", 2.12, -14.73, 235.0], [\"1\", 7.08, -11.02, 62.0], [\"1\", -2.85, -13.25, 191.0], [\"1\", 0.87, -12.94, 182.0], [\"1\", 3.84, -9.43, 184.0], [\"1\", -2.56, -16.04, 124.0], [\"1\", 5.64, -9.91, 172.0], [\"1\", 3.62, -8.11, 137.0], [\"1\", -5.11, -15.47, 76.0], [\"1\", -1.05, -15.36, 165.0], [\"1\", 0.21, -16.63, 90.0], [\"1\", 1.86, -14.21, 80.0], [\"1\", 6.51, -14.65, 81.0], [\"1\", -0.48, -12.1, 146.0], [\"1\", -1.61, -15.54, 147.0], [\"1\", 7.26, -11.79, 157.0], [\"1\", 6.7, -10.99, 187.0], [\"1\", -1.65, -12.63, 238.0], [\"1\", 3.62, -8.19, 239.0], [\"1\", 1.53, -9.39, 26.0], [\"1\", 3.27, -8.82, 306.0], [\"1\", 3.62, -8.14, 110.0], [\"1\", 0.34, -16.62, 24.0], [\"1\", -3.36, -14.12, 318.0], [\"1\", 7.17, -11.04, 320.0], [\"1\", 2.97, -8.72, 326.0], [\"1\", -2.99, -15.23, 329.0], [\"1\", 1.58, -9.16, 302.0], [\"1\", 2.54, -9.63, 332.0], [\"1\", 0.64, -14.6, 347.0], [\"1\", -1.27, -15.77, 9.0], [\"1\", -0.34, -12.12, 8.0], [\"1\", 5.81, -10.03, 7.0], [\"1\", 1.7, -14.86, 355.0], [\"1\", 2.63, -10.08, 357.0], [\"1\", -0.16, -15.16, 364.0], [\"1\", -5.76, -15.26, 341.0], [\"1\", 2.07, -11.99, 291.0], [\"1\", -2.02, -14.31, 108.0], [\"1\", 3.71, -9.53, 247.0], [\"1\", 1.03, -14.29, 33.0], [\"1\", -2.85, -14.09, 290.0], [\"1\", -3.24, -15.7, 45.0], [\"1\", 0.95, -15.07, 287.0], [\"1\", 6.32, -14.88, 42.0], [\"1\", 6.74, -10.91, 43.0], [\"1\", 6.9, -13.93, 280.0], [\"1\", 7.16, -12.84, 254.0], [\"1\", 1.22, -12.97, 257.0], [\"1\", 6.66, -14.49, 270.0]], \"hoverlabel\": {\"namelength\": 0}, \"hovertemplate\": \"labels=%{customdata[0]}<br>emb1=%{customdata[1]}<br>emb2=%{customdata[2]}<br>index=%{customdata[3]}\", \"legendgroup\": \"labels=1\", \"marker\": {\"color\": \"gray\", \"opacity\": 0.5, \"symbol\": \"circle\"}, \"mode\": \"markers\", \"name\": \"labels=1\", \"showlegend\": true, \"type\": \"scatter\", \"x\": [4.99, -5.08, -2.11, 1.9, 7.35, 7.13, 3.61, 2.12, 7.08, -2.85, 0.87, 3.84, -2.56, 5.64, 3.62, -5.11, -1.05, 0.21, 1.86, 6.51, -0.48, -1.61, 7.26, 6.7, -1.65, 3.62, 1.53, 3.27, 3.62, 0.34, -3.36, 7.17, 2.97, -2.99, 1.58, 2.54, 0.64, -1.27, -0.34, 5.81, 1.7, 2.63, -0.16, -5.76, 2.07, -2.02, 3.71, 1.03, -2.85, -3.24, 0.95, 6.32, 6.74, 6.9, 7.16, 1.22, 6.66], \"xaxis\": \"x\", \"y\": [-9.33, -16.19, -13.3, -9.73, -12.5, -11.9, -9.59, -14.73, -11.02, -13.25, -12.94, -9.43, -16.04, -9.91, -8.11, -15.47, -15.36, -16.63, -14.21, -14.65, -12.1, -15.54, -11.79, -10.99, -12.63, -8.19, -9.39, -8.82, -8.14, -16.62, -14.12, -11.04, -8.72, -15.23, -9.16, -9.63, -14.6, -15.77, -12.12, -10.03, -14.86, -10.08, -15.16, -15.26, -11.99, -14.31, -9.53, -14.29, -14.09, -15.7, -15.07, -14.88, -10.91, -13.93, -12.84, -12.97, -14.49], \"yaxis\": \"y\"}, {\"customdata\": [[\"2\", -14.97, 2.99, 299.0], [\"2\", -10.42, 9.33, 354.0], [\"2\", -11.53, 2.88, 215.0], [\"2\", -10.31, 1.97, 205.0], [\"2\", -12.5, 2.8, 221.0], [\"2\", -11.17, 7.19, 114.0], [\"2\", -11.43, 6.59, 126.0], [\"2\", -11.01, 8.93, 139.0], [\"2\", -13.81, 4.18, 333.0], [\"2\", -10.06, 8.82, 201.0], [\"2\", -10.4, 8.13, 345.0], [\"2\", -13.08, 4.6, 177.0], [\"2\", -11.73, 2.14, 273.0], [\"2\", -13.62, 4.87, 161.0], [\"2\", -10.99, 8.76, 197.0], [\"2\", -10.43, 9.13, 316.0], [\"2\", -14.7, 5.22, 162.0], [\"2\", -10.69, 2.56, 308.0], [\"2\", -13.38, 3.86, 175.0], [\"2\", -11.26, 8.14, 140.0], [\"2\", -10.58, 2.0, 240.0], [\"2\", -12.8, 3.46, 183.0], [\"2\", -11.03, 3.54, 71.0], [\"2\", -14.82, 3.43, 41.0], [\"2\", -10.15, 9.09, 104.0], [\"2\", -10.33, 8.07, 89.0], [\"2\", -14.73, 5.31, 84.0], [\"2\", -12.29, 3.06, 5.0]], \"hoverlabel\": {\"namelength\": 0}, \"hovertemplate\": \"labels=%{customdata[0]}<br>emb1=%{customdata[1]}<br>emb2=%{customdata[2]}<br>index=%{customdata[3]}\", \"legendgroup\": \"labels=2\", \"marker\": {\"color\": \"silver\", \"opacity\": 0.5, \"symbol\": \"circle\"}, \"mode\": \"markers\", \"name\": \"labels=2\", \"showlegend\": true, \"type\": \"scatter\", \"x\": [-14.97, -10.42, -11.53, -10.31, -12.5, -11.17, -11.43, -11.01, -13.81, -10.06, -10.4, -13.08, -11.73, -13.62, -10.99, -10.43, -14.7, -10.69, -13.38, -11.26, -10.58, -12.8, -11.03, -14.82, -10.15, -10.33, -14.73, -12.29], \"xaxis\": \"x\", \"y\": [2.99, 9.33, 2.88, 1.97, 2.8, 7.19, 6.59, 8.93, 4.18, 8.82, 8.13, 4.6, 2.14, 4.87, 8.76, 9.13, 5.22, 2.56, 3.86, 8.14, 2.0, 3.46, 3.54, 3.43, 9.09, 8.07, 5.31, 3.06], \"yaxis\": \"y\"}, {\"customdata\": [[\"3\", 0.7, 15.51, 134.0], [\"3\", -0.07, 14.73, 325.0], [\"3\", -1.32, 13.62, 283.0], [\"3\", 1.72, 14.2, 23.0], [\"3\", 0.11, 15.7, 275.0], [\"3\", 3.45, 5.63, 88.0], [\"3\", -0.08, 15.61, 87.0], [\"3\", -0.41, 16.25, 75.0], [\"3\", 0.53, 15.14, 311.0], [\"3\", 0.35, 8.9, 167.0], [\"3\", 1.8, 14.14, 178.0], [\"3\", 0.0, 16.33, 262.0], [\"3\", 2.13, 13.61, 82.0], [\"3\", 3.46, 5.64, 213.0], [\"3\", 0.69, 15.59, 117.0], [\"3\", 2.11, 13.61, 6.0]], \"hoverlabel\": {\"namelength\": 0}, \"hovertemplate\": \"labels=%{customdata[0]}<br>emb1=%{customdata[1]}<br>emb2=%{customdata[2]}<br>index=%{customdata[3]}\", \"legendgroup\": \"labels=3\", \"marker\": {\"color\": \"rosybrown\", \"opacity\": 0.5, \"symbol\": \"circle\"}, \"mode\": \"markers\", \"name\": \"labels=3\", \"showlegend\": true, \"type\": \"scatter\", \"x\": [0.7, -0.07, -1.32, 1.72, 0.11, 3.45, -0.08, -0.41, 0.53, 0.35, 1.8, 0.0, 2.13, 3.46, 0.69, 2.11], \"xaxis\": \"x\", \"y\": [15.51, 14.73, 13.62, 14.2, 15.7, 5.63, 15.61, 16.25, 15.14, 8.9, 14.14, 16.33, 13.61, 5.64, 15.59, 13.61], \"yaxis\": \"y\"}, {\"customdata\": [[\"4\", -14.19, -16.29, 286.0], [\"4\", -9.68, -20.1, 44.0], [\"4\", -15.93, -19.39, 52.0], [\"4\", -12.56, -21.63, 224.0], [\"4\", -7.91, -14.23, 74.0], [\"4\", -10.38, -19.78, 236.0], [\"4\", -13.17, -20.93, 227.0], [\"4\", -15.27, -18.55, 293.0], [\"4\", -9.58, 2.11, 228.0], [\"4\", -9.34, -15.37, 232.0], [\"4\", -10.81, -21.02, 234.0], [\"4\", -6.88, -15.77, 295.0], [\"4\", -14.14, -21.66, 31.0], [\"4\", -12.13, -14.16, 57.0], [\"4\", -9.84, -20.52, 285.0], [\"4\", -14.39, -20.48, 256.0], [\"4\", -12.63, -13.86, 284.0], [\"4\", -14.51, -21.29, 282.0], [\"4\", -9.59, 2.09, 279.0], [\"4\", -13.1, -22.52, 37.0], [\"4\", -14.67, -17.38, 210.0], [\"4\", -13.11, -14.52, 209.0], [\"4\", -12.63, -14.27, 188.0], [\"4\", -11.87, -15.44, 189.0], [\"4\", -8.62, -14.79, 66.0], [\"4\", -13.01, -22.4, 192.0], [\"4\", -13.11, -21.78, 195.0], [\"4\", -14.88, -19.64, 63.0], [\"4\", -14.27, -15.37, 265.0], [\"4\", -11.74, -14.44, 61.0], [\"4\", -10.07, -16.16, 258.0], [\"4\", -10.12, -14.93, 105.0], [\"4\", -8.24, -15.13, 168.0], [\"4\", -10.37, -21.22, 15.0], [\"4\", -13.35, -15.2, 22.0], [\"4\", -8.31, -16.28, 129.0], [\"4\", -13.77, -22.04, 159.0], [\"4\", -9.57, -18.32, 338.0], [\"4\", -14.6, -15.92, 13.0], [\"4\", -15.37, 2.27, 340.0], [\"4\", -14.52, -19.18, 344.0], [\"4\", -12.99, -21.76, 10.0], [\"4\", -9.19, -17.15, 116.0], [\"4\", -10.15, -14.7, 115.0], [\"4\", -15.99, -19.42, 4.0], [\"4\", -13.91, -21.19, 356.0], [\"4\", -12.91, -15.92, 358.0], [\"4\", -10.53, -16.45, 102.0], [\"4\", -8.22, -15.9, 359.0], [\"4\", -14.58, -20.56, 319.0], [\"4\", -13.65, -15.85, 142.0], [\"4\", -9.68, -20.89, 54.0], [\"4\", -12.49, -22.3, 148.0], [\"4\", -11.86, -21.73, 83.0], [\"4\", -15.2, -19.29, 317.0], [\"4\", -15.18, 1.68, 156.0], [\"4\", -8.76, -16.51, 28.0], [\"4\", -12.33, -15.0, 301.0]], \"hoverlabel\": {\"namelength\": 0}, \"hovertemplate\": \"labels=%{customdata[0]}<br>emb1=%{customdata[1]}<br>emb2=%{customdata[2]}<br>index=%{customdata[3]}\", \"legendgroup\": \"labels=4\", \"marker\": {\"color\": \"lightcoral\", \"opacity\": 0.5, \"symbol\": \"circle\"}, \"mode\": \"markers\", \"name\": \"labels=4\", \"showlegend\": true, \"type\": \"scatter\", \"x\": [-14.19, -9.68, -15.93, -12.56, -7.91, -10.38, -13.17, -15.27, -9.58, -9.34, -10.81, -6.88, -14.14, -12.13, -9.84, -14.39, -12.63, -14.51, -9.59, -13.1, -14.67, -13.11, -12.63, -11.87, -8.62, -13.01, -13.11, -14.88, -14.27, -11.74, -10.07, -10.12, -8.24, -10.37, -13.35, -8.31, -13.77, -9.57, -14.6, -15.37, -14.52, -12.99, -9.19, -10.15, -15.99, -13.91, -12.91, -10.53, -8.22, -14.58, -13.65, -9.68, -12.49, -11.86, -15.2, -15.18, -8.76, -12.33], \"xaxis\": \"x\", \"y\": [-16.29, -20.1, -19.39, -21.63, -14.23, -19.78, -20.93, -18.55, 2.11, -15.37, -21.02, -15.77, -21.66, -14.16, -20.52, -20.48, -13.86, -21.29, 2.09, -22.52, -17.38, -14.52, -14.27, -15.44, -14.79, -22.4, -21.78, -19.64, -15.37, -14.44, -16.16, -14.93, -15.13, -21.22, -15.2, -16.28, -22.04, -18.32, -15.92, 2.27, -19.18, -21.76, -17.15, -14.7, -19.42, -21.19, -15.92, -16.45, -15.9, -20.56, -15.85, -20.89, -22.3, -21.73, -19.29, 1.68, -16.51, -15.0], \"yaxis\": \"y\"}, {\"customdata\": [[\"5\", -2.52, 11.71, 144.0], [\"5\", -1.51, 7.7, 203.0], [\"5\", -1.81, 12.59, 255.0], [\"5\", -1.35, 7.38, 120.0], [\"5\", 1.42, 4.16, 98.0], [\"5\", -1.49, 12.93, 211.0], [\"5\", 1.37, 3.99, 86.0], [\"5\", 1.15, 2.37, 251.0], [\"5\", 2.7, 5.78, 250.0], [\"5\", -6.53, -5.54, 77.0], [\"5\", -0.15, 8.86, 296.0], [\"5\", -0.51, 6.06, 78.0], [\"5\", 8.81, 11.03, 109.0], [\"5\", 2.9, 4.2, 107.0], [\"5\", -0.4, 9.29, 342.0], [\"5\", -0.84, 7.34, 59.0], [\"5\", 0.08, 8.49, 300.0], [\"5\", -0.84, 8.28, 315.0], [\"5\", -0.09, 4.23, 145.0], [\"5\", 1.05, 2.28, 35.0], [\"5\", 2.29, 4.59, 321.0], [\"5\", 2.28, 4.65, 68.0], [\"5\", 2.39, 4.5, 185.0], [\"5\", -7.86, -13.47, 323.0], [\"5\", 3.62, 5.17, 133.0], [\"5\", 2.98, 4.19, 328.0], [\"5\", -1.73, 12.8, 67.0], [\"5\", -1.86, 9.36, 288.0], [\"5\", 0.17, 7.61, 34.0], [\"5\", 0.28, 8.12, 194.0]], \"hoverlabel\": {\"namelength\": 0}, \"hovertemplate\": \"labels=%{customdata[0]}<br>emb1=%{customdata[1]}<br>emb2=%{customdata[2]}<br>index=%{customdata[3]}\", \"legendgroup\": \"labels=5\", \"marker\": {\"color\": \"firebrick\", \"opacity\": 0.5, \"symbol\": \"circle\"}, \"mode\": \"markers\", \"name\": \"labels=5\", \"showlegend\": true, \"type\": \"scatter\", \"x\": [-2.52, -1.51, -1.81, -1.35, 1.42, -1.49, 1.37, 1.15, 2.7, -6.53, -0.15, -0.51, 8.81, 2.9, -0.4, -0.84, 0.08, -0.84, -0.09, 1.05, 2.29, 2.28, 2.39, -7.86, 3.62, 2.98, -1.73, -1.86, 0.17, 0.28], \"xaxis\": \"x\", \"y\": [11.71, 7.7, 12.59, 7.38, 4.16, 12.93, 3.99, 2.37, 5.78, -5.54, 8.86, 6.06, 11.03, 4.2, 9.29, 7.34, 8.49, 8.28, 4.23, 2.28, 4.59, 4.65, 4.5, -13.47, 5.17, 4.19, 12.8, 9.36, 7.61, 8.12], \"yaxis\": \"y\"}, {\"customdata\": [[\"6\", 24.27, 21.3, 252.0], [\"6\", 21.72, 17.7, 363.0], [\"6\", 21.16, 21.61, 271.0], [\"6\", 21.55, 17.91, 312.0], [\"6\", 21.72, 18.39, 38.0], [\"6\", 21.64, 19.35, 322.0], [\"6\", 16.21, 17.36, 51.0], [\"6\", 23.36, 21.82, 50.0], [\"6\", 22.09, 20.36, 241.0], [\"6\", 22.1, 22.59, 48.0], [\"6\", 20.59, 17.51, 47.0], [\"6\", 22.79, 21.99, 274.0], [\"6\", 21.49, 21.86, 32.0], [\"6\", 23.31, 23.16, 20.0], [\"6\", 22.96, 21.21, 327.0], [\"6\", 21.04, 18.9, 352.0], [\"6\", 22.03, 17.87, 40.0], [\"6\", 20.86, 18.36, 53.0], [\"6\", 21.77, 20.44, 163.0], [\"6\", 21.18, 17.28, 95.0], [\"6\", 20.57, 20.76, 190.0], [\"6\", 20.82, 19.73, 125.0], [\"6\", 21.03, 17.99, 151.0], [\"6\", 22.54, 22.65, 216.0], [\"6\", 22.64, 22.92, 218.0], [\"6\", 21.01, 16.87, 219.0], [\"6\", 22.21, 21.32, 180.0], [\"6\", 23.3, 22.91, 92.0], [\"6\", 18.72, 16.73, 106.0], [\"6\", 22.49, 21.54, 141.0], [\"6\", 23.3, 22.24, 135.0]], \"hoverlabel\": {\"namelength\": 0}, \"hovertemplate\": \"labels=%{customdata[0]}<br>emb1=%{customdata[1]}<br>emb2=%{customdata[2]}<br>index=%{customdata[3]}\", \"legendgroup\": \"labels=6\", \"marker\": {\"color\": \"maroon\", \"opacity\": 0.5, \"symbol\": \"circle\"}, \"mode\": \"markers\", \"name\": \"labels=6\", \"showlegend\": true, \"type\": \"scatter\", \"x\": [24.27, 21.72, 21.16, 21.55, 21.72, 21.64, 16.21, 23.36, 22.09, 22.1, 20.59, 22.79, 21.49, 23.31, 22.96, 21.04, 22.03, 20.86, 21.77, 21.18, 20.57, 20.82, 21.03, 22.54, 22.64, 21.01, 22.21, 23.3, 18.72, 22.49, 23.3], \"xaxis\": \"x\", \"y\": [21.3, 17.7, 21.61, 17.91, 18.39, 19.35, 17.36, 21.82, 20.36, 22.59, 17.51, 21.99, 21.86, 23.16, 21.21, 18.9, 17.87, 18.36, 20.44, 17.28, 20.76, 19.73, 17.99, 22.65, 22.92, 16.87, 21.32, 22.91, 16.73, 21.54, 22.24], \"yaxis\": \"y\"}, {\"customdata\": [[\"7\", 18.63, 14.68, 25.0], [\"7\", 17.62, 13.96, 289.0], [\"7\", 16.04, 14.56, 276.0], [\"7\", 17.87, 14.06, 225.0], [\"7\", 15.56, 16.1, 336.0], [\"7\", 15.73, 15.75, 96.0], [\"7\", 14.25, 15.17, 11.0], [\"7\", 18.2, 14.21, 346.0], [\"7\", 16.06, 13.91, 261.0], [\"7\", 16.87, 14.18, 305.0], [\"7\", 17.04, 15.18, 259.0], [\"7\", 17.64, 14.59, 130.0], [\"7\", 14.81, 16.32, 58.0], [\"7\", 15.3, 14.07, 206.0], [\"7\", 15.37, 17.09, 111.0], [\"7\", 18.31, 15.41, 152.0], [\"7\", 16.86, 15.92, 118.0], [\"7\", 16.88, 14.77, 353.0], [\"7\", 14.15, 15.0, 99.0], [\"7\", 14.68, 16.92, 179.0], [\"7\", 17.61, 15.19, 46.0], [\"7\", 18.04, 14.92, 313.0]], \"hoverlabel\": {\"namelength\": 0}, \"hovertemplate\": \"labels=%{customdata[0]}<br>emb1=%{customdata[1]}<br>emb2=%{customdata[2]}<br>index=%{customdata[3]}\", \"legendgroup\": \"labels=7\", \"marker\": {\"color\": \"red\", \"opacity\": 0.5, \"symbol\": \"circle\"}, \"mode\": \"markers\", \"name\": \"labels=7\", \"showlegend\": true, \"type\": \"scatter\", \"x\": [18.63, 17.62, 16.04, 17.87, 15.56, 15.73, 14.25, 18.2, 16.06, 16.87, 17.04, 17.64, 14.81, 15.3, 15.37, 18.31, 16.86, 16.88, 14.15, 14.68, 17.61, 18.04], \"xaxis\": \"x\", \"y\": [14.68, 13.96, 14.56, 14.06, 16.1, 15.75, 15.17, 14.21, 13.91, 14.18, 15.18, 14.59, 16.32, 14.07, 17.09, 15.41, 15.92, 14.77, 15.0, 16.92, 15.19, 14.92], \"yaxis\": \"y\"}, {\"customdata\": [[\"8\", 8.09, 12.82, 70.0], [\"8\", 9.07, 12.97, 174.0], [\"8\", 4.62, 9.61, 143.0], [\"8\", 8.05, 12.57, 314.0], [\"8\", 8.31, 13.74, 91.0], [\"8\", 5.2, 13.45, 170.0], [\"8\", 4.57, 8.89, 164.0], [\"8\", 4.4, 12.46, 298.0], [\"8\", 9.04, 11.83, 335.0], [\"8\", 3.91, 9.46, 334.0], [\"8\", 8.77, 13.48, 30.0], [\"8\", 7.14, 12.41, 132.0], [\"8\", 5.54, 13.87, 307.0], [\"8\", 4.25, 11.97, 337.0], [\"8\", 9.57, 13.72, 17.0], [\"8\", 4.15, 10.82, 186.0], [\"8\", 4.74, 12.24, 69.0], [\"8\", 4.49, 10.31, 229.0], [\"8\", 6.33, 14.34, 2.0], [\"8\", 6.88, 14.41, 237.0], [\"8\", 4.04, 9.95, 361.0], [\"8\", 2.98, 9.8, 360.0], [\"8\", 3.14, 9.75, 245.0], [\"8\", 8.14, 14.19, 56.0], [\"8\", 6.06, 13.72, 253.0], [\"8\", 9.42, 12.37, 121.0], [\"8\", 8.61, 14.23, 97.0], [\"8\", -4.33, 6.89, 181.0], [\"8\", 2.14, 9.53, 264.0], [\"8\", 6.69, 14.57, 199.0], [\"8\", 4.35, 10.7, 202.0], [\"8\", 3.82, 10.31, 281.0], [\"8\", 6.83, 13.41, 365.0], [\"8\", 7.51, 13.78, 12.0], [\"8\", 4.62, 9.54, 278.0], [\"8\", 9.36, 13.85, 272.0], [\"8\", 5.84, 14.49, 193.0]], \"hoverlabel\": {\"namelength\": 0}, \"hovertemplate\": \"labels=%{customdata[0]}<br>emb1=%{customdata[1]}<br>emb2=%{customdata[2]}<br>index=%{customdata[3]}\", \"legendgroup\": \"labels=8\", \"marker\": {\"color\": \"coral\", \"opacity\": 0.5, \"symbol\": \"circle\"}, \"mode\": \"markers\", \"name\": \"labels=8\", \"showlegend\": true, \"type\": \"scatter\", \"x\": [8.09, 9.07, 4.62, 8.05, 8.31, 5.2, 4.57, 4.4, 9.04, 3.91, 8.77, 7.14, 5.54, 4.25, 9.57, 4.15, 4.74, 4.49, 6.33, 6.88, 4.04, 2.98, 3.14, 8.14, 6.06, 9.42, 8.61, -4.33, 2.14, 6.69, 4.35, 3.82, 6.83, 7.51, 4.62, 9.36, 5.84], \"xaxis\": \"x\", \"y\": [12.82, 12.97, 9.61, 12.57, 13.74, 13.45, 8.89, 12.46, 11.83, 9.46, 13.48, 12.41, 13.87, 11.97, 13.72, 10.82, 12.24, 10.31, 14.34, 14.41, 9.95, 9.8, 9.75, 14.19, 13.72, 12.37, 14.23, 6.89, 9.53, 14.57, 10.7, 10.31, 13.41, 13.78, 9.54, 13.85, 14.49], \"yaxis\": \"y\"}, {\"customdata\": [[\"9\", 2.32, -3.5, 267.0], [\"9\", 2.74, -2.83, 73.0], [\"9\", 1.85, -2.09, 362.0], [\"9\", 0.75, -3.48, 324.0], [\"9\", 1.0, -2.92, 173.0], [\"9\", 2.5, -2.41, 350.0], [\"9\", 1.61, -3.53, 131.0], [\"9\", -3.7, -4.44, 27.0], [\"9\", 2.12, -2.09, 294.0], [\"9\", 1.81, -3.06, 260.0], [\"9\", 1.53, -1.82, 19.0], [\"9\", 1.34, -2.64, 65.0], [\"9\", 2.42, -2.94, 154.0], [\"9\", 1.29, -3.53, 297.0], [\"9\", 1.6, -4.07, 268.0]], \"hoverlabel\": {\"namelength\": 0}, \"hovertemplate\": \"labels=%{customdata[0]}<br>emb1=%{customdata[1]}<br>emb2=%{customdata[2]}<br>index=%{customdata[3]}\", \"legendgroup\": \"labels=9\", \"marker\": {\"color\": \"chocolate\", \"opacity\": 0.5, \"symbol\": \"circle\"}, \"mode\": \"markers\", \"name\": \"labels=9\", \"showlegend\": true, \"type\": \"scatter\", \"x\": [2.32, 2.74, 1.85, 0.75, 1.0, 2.5, 1.61, -3.7, 2.12, 1.81, 1.53, 1.34, 2.42, 1.29, 1.6], \"xaxis\": \"x\", \"y\": [-3.5, -2.83, -2.09, -3.48, -2.92, -2.41, -3.53, -4.44, -2.09, -3.06, -1.82, -2.64, -2.94, -3.53, -4.07], \"yaxis\": \"y\"}, {\"customdata\": [[\"10\", -2.54, -6.83, 127.0], [\"10\", -2.21, -6.99, 113.0], [\"10\", -3.04, -2.82, 136.0], [\"10\", -2.49, -7.06, 233.0], [\"10\", -3.28, -5.0, 266.0], [\"10\", -2.33, -6.1, 196.0], [\"10\", -1.86, -6.9, 230.0], [\"10\", -2.37, -6.0, 29.0], [\"10\", -2.76, -4.05, 160.0], [\"10\", -2.06, -6.84, 223.0], [\"10\", -3.02, -2.42, 150.0]], \"hoverlabel\": {\"namelength\": 0}, \"hovertemplate\": \"labels=%{customdata[0]}<br>emb1=%{customdata[1]}<br>emb2=%{customdata[2]}<br>index=%{customdata[3]}\", \"legendgroup\": \"labels=10\", \"marker\": {\"color\": \"saddlebrown\", \"opacity\": 0.5, \"symbol\": \"circle\"}, \"mode\": \"markers\", \"name\": \"labels=10\", \"showlegend\": true, \"type\": \"scatter\", \"x\": [-2.54, -2.21, -3.04, -2.49, -3.28, -2.33, -1.86, -2.37, -2.76, -2.06, -3.02], \"xaxis\": \"x\", \"y\": [-6.83, -6.99, -2.82, -7.06, -5.0, -6.1, -6.9, -6.0, -4.05, -6.84, -2.42], \"yaxis\": \"y\"}, {\"customdata\": [[\"11\", 10.82, -4.19, 220.0], [\"11\", 7.63, -4.33, 243.0], [\"11\", 9.31, -3.99, 3.0], [\"11\", 11.88, -4.57, 101.0], [\"11\", 11.01, -4.95, 263.0], [\"11\", 10.61, -3.7, 226.0], [\"11\", 10.83, -3.26, 246.0], [\"11\", 11.41, -5.14, 248.0], [\"11\", 11.36, -4.33, 351.0], [\"11\", 10.14, -5.22, 349.0], [\"11\", 9.84, -3.66, 207.0], [\"11\", 10.08, -3.32, 204.0], [\"11\", 10.44, -4.47, 55.0], [\"11\", 8.64, -4.49, 93.0], [\"11\", 10.61, -5.37, 138.0], [\"11\", 9.98, -4.74, 343.0], [\"11\", 9.54, -2.95, 310.0], [\"11\", 10.06, -4.15, 309.0], [\"11\", 10.76, -2.63, 304.0], [\"11\", 11.39, -2.92, 330.0], [\"11\", 8.76, -3.6, 331.0], [\"11\", 9.3, -4.8, 123.0], [\"11\", 11.76, -3.41, 166.0], [\"11\", 10.2, -2.71, 128.0], [\"11\", 11.91, -3.94, 269.0], [\"11\", 11.23, -3.74, 366.0]], \"hoverlabel\": {\"namelength\": 0}, \"hovertemplate\": \"labels=%{customdata[0]}<br>emb1=%{customdata[1]}<br>emb2=%{customdata[2]}<br>index=%{customdata[3]}\", \"legendgroup\": \"labels=11\", \"marker\": {\"color\": \"darkorange\", \"opacity\": 0.5, \"symbol\": \"circle\"}, \"mode\": \"markers\", \"name\": \"labels=11\", \"showlegend\": true, \"type\": \"scatter\", \"x\": [10.82, 7.63, 9.31, 11.88, 11.01, 10.61, 10.83, 11.41, 11.36, 10.14, 9.84, 10.08, 10.44, 8.64, 10.61, 9.98, 9.54, 10.06, 10.76, 11.39, 8.76, 9.3, 11.76, 10.2, 11.91, 11.23], \"xaxis\": \"x\", \"y\": [-4.19, -4.33, -3.99, -4.57, -4.95, -3.7, -3.26, -5.14, -4.33, -5.22, -3.66, -3.32, -4.47, -4.49, -5.37, -4.74, -2.95, -4.15, -2.63, -2.92, -3.6, -4.8, -3.41, -2.71, -3.94, -3.74], \"yaxis\": \"y\"}, {\"customdata\": [[\"12\", -9.83, -3.51, 217.0], [\"12\", -3.95, 1.8, 212.0], [\"12\", -4.39, 1.37, 292.0], [\"12\", -4.75, 1.23, 208.0], [\"12\", -5.9, 1.64, 103.0], [\"12\", -4.33, 2.01, 36.0], [\"12\", -4.36, 1.68, 153.0], [\"12\", -3.96, 1.91, 222.0], [\"12\", -4.82, 1.72, 39.0], [\"12\", -10.15, -0.15, 169.0]], \"hoverlabel\": {\"namelength\": 0}, \"hovertemplate\": \"labels=%{customdata[0]}<br>emb1=%{customdata[1]}<br>emb2=%{customdata[2]}<br>index=%{customdata[3]}\", \"legendgroup\": \"labels=12\", \"marker\": {\"color\": \"orange\", \"opacity\": 0.5, \"symbol\": \"circle\"}, \"mode\": \"markers\", \"name\": \"labels=12\", \"showlegend\": true, \"type\": \"scatter\", \"x\": [-9.83, -3.95, -4.39, -4.75, -5.9, -4.33, -4.36, -3.96, -4.82, -10.15], \"xaxis\": \"x\", \"y\": [-3.51, 1.8, 1.37, 1.23, 1.64, 2.01, 1.68, 1.91, 1.72, -0.15], \"yaxis\": \"y\"}],\n",
              "                        {\"height\": 500, \"legend\": {\"tracegroupgap\": 0}, \"template\": {\"data\": {\"bar\": [{\"error_x\": {\"color\": \"#2a3f5f\"}, \"error_y\": {\"color\": \"#2a3f5f\"}, \"marker\": {\"line\": {\"color\": \"#E5ECF6\", \"width\": 0.5}}, \"type\": \"bar\"}], \"barpolar\": [{\"marker\": {\"line\": {\"color\": \"#E5ECF6\", \"width\": 0.5}}, \"type\": \"barpolar\"}], \"carpet\": [{\"aaxis\": {\"endlinecolor\": \"#2a3f5f\", \"gridcolor\": \"white\", \"linecolor\": \"white\", \"minorgridcolor\": \"white\", \"startlinecolor\": \"#2a3f5f\"}, \"baxis\": {\"endlinecolor\": \"#2a3f5f\", \"gridcolor\": \"white\", \"linecolor\": \"white\", \"minorgridcolor\": \"white\", \"startlinecolor\": \"#2a3f5f\"}, \"type\": \"carpet\"}], \"choropleth\": [{\"colorbar\": {\"outlinewidth\": 0, \"ticks\": \"\"}, \"type\": \"choropleth\"}], \"contour\": [{\"colorbar\": {\"outlinewidth\": 0, \"ticks\": \"\"}, \"colorscale\": [[0.0, \"#0d0887\"], [0.1111111111111111, \"#46039f\"], [0.2222222222222222, \"#7201a8\"], [0.3333333333333333, \"#9c179e\"], [0.4444444444444444, \"#bd3786\"], [0.5555555555555556, \"#d8576b\"], [0.6666666666666666, \"#ed7953\"], [0.7777777777777778, \"#fb9f3a\"], [0.8888888888888888, \"#fdca26\"], [1.0, \"#f0f921\"]], \"type\": \"contour\"}], \"contourcarpet\": [{\"colorbar\": {\"outlinewidth\": 0, \"ticks\": \"\"}, \"type\": \"contourcarpet\"}], \"heatmap\": [{\"colorbar\": {\"outlinewidth\": 0, \"ticks\": \"\"}, \"colorscale\": [[0.0, \"#0d0887\"], [0.1111111111111111, \"#46039f\"], [0.2222222222222222, \"#7201a8\"], [0.3333333333333333, \"#9c179e\"], [0.4444444444444444, \"#bd3786\"], [0.5555555555555556, \"#d8576b\"], [0.6666666666666666, \"#ed7953\"], [0.7777777777777778, \"#fb9f3a\"], [0.8888888888888888, \"#fdca26\"], [1.0, \"#f0f921\"]], \"type\": \"heatmap\"}], \"heatmapgl\": [{\"colorbar\": {\"outlinewidth\": 0, \"ticks\": \"\"}, \"colorscale\": [[0.0, \"#0d0887\"], [0.1111111111111111, \"#46039f\"], [0.2222222222222222, \"#7201a8\"], [0.3333333333333333, \"#9c179e\"], [0.4444444444444444, \"#bd3786\"], [0.5555555555555556, \"#d8576b\"], [0.6666666666666666, \"#ed7953\"], [0.7777777777777778, \"#fb9f3a\"], [0.8888888888888888, \"#fdca26\"], [1.0, \"#f0f921\"]], \"type\": \"heatmapgl\"}], \"histogram\": [{\"marker\": {\"colorbar\": {\"outlinewidth\": 0, \"ticks\": \"\"}}, \"type\": \"histogram\"}], \"histogram2d\": [{\"colorbar\": {\"outlinewidth\": 0, \"ticks\": \"\"}, \"colorscale\": [[0.0, \"#0d0887\"], [0.1111111111111111, \"#46039f\"], [0.2222222222222222, \"#7201a8\"], [0.3333333333333333, \"#9c179e\"], [0.4444444444444444, \"#bd3786\"], [0.5555555555555556, \"#d8576b\"], [0.6666666666666666, \"#ed7953\"], [0.7777777777777778, \"#fb9f3a\"], [0.8888888888888888, \"#fdca26\"], [1.0, \"#f0f921\"]], \"type\": \"histogram2d\"}], \"histogram2dcontour\": [{\"colorbar\": {\"outlinewidth\": 0, \"ticks\": \"\"}, \"colorscale\": [[0.0, \"#0d0887\"], [0.1111111111111111, \"#46039f\"], [0.2222222222222222, \"#7201a8\"], [0.3333333333333333, \"#9c179e\"], [0.4444444444444444, \"#bd3786\"], [0.5555555555555556, \"#d8576b\"], [0.6666666666666666, \"#ed7953\"], [0.7777777777777778, \"#fb9f3a\"], [0.8888888888888888, \"#fdca26\"], [1.0, \"#f0f921\"]], \"type\": \"histogram2dcontour\"}], \"mesh3d\": [{\"colorbar\": {\"outlinewidth\": 0, \"ticks\": \"\"}, \"type\": \"mesh3d\"}], \"parcoords\": [{\"line\": {\"colorbar\": {\"outlinewidth\": 0, \"ticks\": \"\"}}, \"type\": \"parcoords\"}], \"pie\": [{\"automargin\": true, \"type\": \"pie\"}], \"scatter\": [{\"marker\": {\"colorbar\": {\"outlinewidth\": 0, \"ticks\": \"\"}}, \"type\": \"scatter\"}], \"scatter3d\": [{\"line\": {\"colorbar\": {\"outlinewidth\": 0, \"ticks\": \"\"}}, \"marker\": {\"colorbar\": {\"outlinewidth\": 0, \"ticks\": \"\"}}, \"type\": \"scatter3d\"}], \"scattercarpet\": [{\"marker\": {\"colorbar\": {\"outlinewidth\": 0, \"ticks\": \"\"}}, \"type\": \"scattercarpet\"}], \"scattergeo\": [{\"marker\": {\"colorbar\": {\"outlinewidth\": 0, \"ticks\": \"\"}}, \"type\": \"scattergeo\"}], \"scattergl\": [{\"marker\": {\"colorbar\": {\"outlinewidth\": 0, \"ticks\": \"\"}}, \"type\": \"scattergl\"}], \"scattermapbox\": [{\"marker\": {\"colorbar\": {\"outlinewidth\": 0, \"ticks\": \"\"}}, \"type\": \"scattermapbox\"}], \"scatterpolar\": [{\"marker\": {\"colorbar\": {\"outlinewidth\": 0, \"ticks\": \"\"}}, \"type\": \"scatterpolar\"}], \"scatterpolargl\": [{\"marker\": {\"colorbar\": {\"outlinewidth\": 0, \"ticks\": \"\"}}, \"type\": \"scatterpolargl\"}], \"scatterternary\": [{\"marker\": {\"colorbar\": {\"outlinewidth\": 0, \"ticks\": \"\"}}, \"type\": \"scatterternary\"}], \"surface\": [{\"colorbar\": {\"outlinewidth\": 0, \"ticks\": \"\"}, \"colorscale\": [[0.0, \"#0d0887\"], [0.1111111111111111, \"#46039f\"], [0.2222222222222222, \"#7201a8\"], [0.3333333333333333, \"#9c179e\"], [0.4444444444444444, \"#bd3786\"], [0.5555555555555556, \"#d8576b\"], [0.6666666666666666, \"#ed7953\"], [0.7777777777777778, \"#fb9f3a\"], [0.8888888888888888, \"#fdca26\"], [1.0, \"#f0f921\"]], \"type\": \"surface\"}], \"table\": [{\"cells\": {\"fill\": {\"color\": \"#EBF0F8\"}, \"line\": {\"color\": \"white\"}}, \"header\": {\"fill\": {\"color\": \"#C8D4E3\"}, \"line\": {\"color\": \"white\"}}, \"type\": \"table\"}]}, \"layout\": {\"annotationdefaults\": {\"arrowcolor\": \"#2a3f5f\", \"arrowhead\": 0, \"arrowwidth\": 1}, \"coloraxis\": {\"colorbar\": {\"outlinewidth\": 0, \"ticks\": \"\"}}, \"colorscale\": {\"diverging\": [[0, \"#8e0152\"], [0.1, \"#c51b7d\"], [0.2, \"#de77ae\"], [0.3, \"#f1b6da\"], [0.4, \"#fde0ef\"], [0.5, \"#f7f7f7\"], [0.6, \"#e6f5d0\"], [0.7, \"#b8e186\"], [0.8, \"#7fbc41\"], [0.9, \"#4d9221\"], [1, \"#276419\"]], \"sequential\": [[0.0, \"#0d0887\"], [0.1111111111111111, \"#46039f\"], [0.2222222222222222, \"#7201a8\"], [0.3333333333333333, \"#9c179e\"], [0.4444444444444444, \"#bd3786\"], [0.5555555555555556, \"#d8576b\"], [0.6666666666666666, \"#ed7953\"], [0.7777777777777778, \"#fb9f3a\"], [0.8888888888888888, \"#fdca26\"], [1.0, \"#f0f921\"]], \"sequentialminus\": [[0.0, \"#0d0887\"], [0.1111111111111111, \"#46039f\"], [0.2222222222222222, \"#7201a8\"], [0.3333333333333333, \"#9c179e\"], [0.4444444444444444, \"#bd3786\"], [0.5555555555555556, \"#d8576b\"], [0.6666666666666666, \"#ed7953\"], [0.7777777777777778, \"#fb9f3a\"], [0.8888888888888888, \"#fdca26\"], [1.0, \"#f0f921\"]]}, \"colorway\": [\"#636efa\", \"#EF553B\", \"#00cc96\", \"#ab63fa\", \"#FFA15A\", \"#19d3f3\", \"#FF6692\", \"#B6E880\", \"#FF97FF\", \"#FECB52\"], \"font\": {\"color\": \"#2a3f5f\"}, \"geo\": {\"bgcolor\": \"white\", \"lakecolor\": \"white\", \"landcolor\": \"#E5ECF6\", \"showlakes\": true, \"showland\": true, \"subunitcolor\": \"white\"}, \"hoverlabel\": {\"align\": \"left\"}, \"hovermode\": \"closest\", \"mapbox\": {\"style\": \"light\"}, \"paper_bgcolor\": \"white\", \"plot_bgcolor\": \"#E5ECF6\", \"polar\": {\"angularaxis\": {\"gridcolor\": \"white\", \"linecolor\": \"white\", \"ticks\": \"\"}, \"bgcolor\": \"#E5ECF6\", \"radialaxis\": {\"gridcolor\": \"white\", \"linecolor\": \"white\", \"ticks\": \"\"}}, \"scene\": {\"xaxis\": {\"backgroundcolor\": \"#E5ECF6\", \"gridcolor\": \"white\", \"gridwidth\": 2, \"linecolor\": \"white\", \"showbackground\": true, \"ticks\": \"\", \"zerolinecolor\": \"white\"}, \"yaxis\": {\"backgroundcolor\": \"#E5ECF6\", \"gridcolor\": \"white\", \"gridwidth\": 2, \"linecolor\": \"white\", \"showbackground\": true, \"ticks\": \"\", \"zerolinecolor\": \"white\"}, \"zaxis\": {\"backgroundcolor\": \"#E5ECF6\", \"gridcolor\": \"white\", \"gridwidth\": 2, \"linecolor\": \"white\", \"showbackground\": true, \"ticks\": \"\", \"zerolinecolor\": \"white\"}}, \"shapedefaults\": {\"line\": {\"color\": \"#2a3f5f\"}}, \"ternary\": {\"aaxis\": {\"gridcolor\": \"white\", \"linecolor\": \"white\", \"ticks\": \"\"}, \"baxis\": {\"gridcolor\": \"white\", \"linecolor\": \"white\", \"ticks\": \"\"}, \"bgcolor\": \"#E5ECF6\", \"caxis\": {\"gridcolor\": \"white\", \"linecolor\": \"white\", \"ticks\": \"\"}}, \"title\": {\"x\": 0.05}, \"xaxis\": {\"automargin\": true, \"gridcolor\": \"white\", \"linecolor\": \"white\", \"ticks\": \"\", \"title\": {\"standoff\": 15}, \"zerolinecolor\": \"white\", \"zerolinewidth\": 2}, \"yaxis\": {\"automargin\": true, \"gridcolor\": \"white\", \"linecolor\": \"white\", \"ticks\": \"\", \"title\": {\"standoff\": 15}, \"zerolinecolor\": \"white\", \"zerolinewidth\": 2}}}, \"title\": {\"text\": \"SimCLR\"}, \"width\": 800, \"xaxis\": {\"anchor\": \"y\", \"domain\": [0.0, 1.0], \"scaleanchor\": \"y\", \"scaleratio\": 1, \"title\": {\"text\": \"emb1\"}}, \"yaxis\": {\"anchor\": \"x\", \"domain\": [0.0, 1.0], \"title\": {\"text\": \"emb2\"}}},\n",
              "                        {\"responsive\": true}\n",
              "                    ).then(function(){\n",
              "                            \n",
              "var gd = document.getElementById('85856674-3e0f-43af-90f0-2b0fcb65da31');\n",
              "var x = new MutationObserver(function (mutations, observer) {{\n",
              "        var display = window.getComputedStyle(gd).display;\n",
              "        if (!display || display === 'none') {{\n",
              "            console.log([gd, 'removed!']);\n",
              "            Plotly.purge(gd);\n",
              "            observer.disconnect();\n",
              "        }}\n",
              "}});\n",
              "\n",
              "// Listen for the removal of the full notebook cells\n",
              "var notebookContainer = gd.closest('#notebook-container');\n",
              "if (notebookContainer) {{\n",
              "    x.observe(notebookContainer, {childList: true});\n",
              "}}\n",
              "\n",
              "// Listen for the clearing of the current output cell\n",
              "var outputEl = gd.closest('.output');\n",
              "if (outputEl) {{\n",
              "    x.observe(outputEl, {childList: true});\n",
              "}}\n",
              "\n",
              "                        })\n",
              "                };\n",
              "                \n",
              "            </script>\n",
              "        </div>\n",
              "</body>\n",
              "</html>"
            ]
          },
          "metadata": {}
        }
      ]
    },
    {
      "cell_type": "code",
      "metadata": {
        "colab": {
          "base_uri": "https://localhost:8080/",
          "height": 535
        },
        "id": "vVZBj4HhG4YS",
        "outputId": "6ceb195f-298f-4c58-94f8-f2ce0dfae644"
      },
      "source": [
        "#===================================\n",
        "# 4.1b SimCLR (from checkpoint)\n",
        "#===================================\n",
        "\n",
        "# 4.1b.1 load model\n",
        "#===================================\n",
        "model_CLR = CLR()\n",
        "model_CLR.load_state_dict(torch.load('model_CLR.ckpt'))\n",
        "\n",
        "# 4.1b.2 CLR embedding visualization\n",
        "#===================================\n",
        "# run thru model for embeddings\n",
        "CLR_feat = run_thru_NN(model_CLR, dataloader, 'emb')\n",
        "CLR_feat_norm = F.normalize(CLR_feat, dim=1).cpu().numpy()\n",
        "CLR_feat = CLR_feat.cpu().numpy()\n",
        "\n",
        "# # tsne visualizaiton \n",
        "tsne = TSNE()                     \n",
        "tsne_CLR = tsne.fit_transform(CLR_feat)\n",
        "plot_2d_scatter(tsne_CLR, training_labels, 'SimCLR') "
      ],
      "execution_count": null,
      "outputs": [
        {
          "output_type": "stream",
          "name": "stdout",
          "text": [
            "Loaded pretrained weights for efficientnet-b0\n"
          ]
        },
        {
          "output_type": "display_data",
          "data": {
            "text/html": [
              "<html>\n",
              "<head><meta charset=\"utf-8\" /></head>\n",
              "<body>\n",
              "    <div>\n",
              "            <script src=\"https://cdnjs.cloudflare.com/ajax/libs/mathjax/2.7.5/MathJax.js?config=TeX-AMS-MML_SVG\"></script><script type=\"text/javascript\">if (window.MathJax) {MathJax.Hub.Config({SVG: {font: \"STIX-Web\"}});}</script>\n",
              "                <script type=\"text/javascript\">window.PlotlyConfig = {MathJaxConfig: 'local'};</script>\n",
              "        <script src=\"https://cdn.plot.ly/plotly-latest.min.js\"></script>    \n",
              "            <div id=\"e070da89-282e-4132-be3a-b0b5c4f14b85\" class=\"plotly-graph-div\" style=\"height:500px; width:800px;\"></div>\n",
              "            <script type=\"text/javascript\">\n",
              "                \n",
              "                    window.PLOTLYENV=window.PLOTLYENV || {};\n",
              "                    \n",
              "                if (document.getElementById(\"e070da89-282e-4132-be3a-b0b5c4f14b85\")) {\n",
              "                    Plotly.newPlot(\n",
              "                        'e070da89-282e-4132-be3a-b0b5c4f14b85',\n",
              "                        [{\"customdata\": [[\"0\", -5.79, -11.53, 0.0], [\"0\", -8.72, -11.71, 242.0], [\"0\", -7.58, -12.94, 244.0], [\"0\", -4.42, -8.11, 249.0], [\"0\", -9.06, -14.63, 60.0], [\"0\", -6.14, -12.85, 277.0], [\"0\", -7.42, -12.09, 176.0], [\"0\", -7.25, -11.38, 72.0], [\"0\", -4.34, -8.1, 303.0], [\"0\", -4.97, -11.8, 171.0], [\"0\", -6.91, -13.08, 49.0], [\"0\", -8.1, -11.58, 158.0], [\"0\", -6.31, -12.33, 21.0], [\"0\", -8.24, -13.52, 85.0], [\"0\", -5.32, -10.64, 18.0], [\"0\", -8.17, -10.05, 155.0], [\"0\", -5.11, -7.6, 79.0], [\"0\", -5.81, -10.89, 14.0], [\"0\", -4.2, -11.38, 339.0], [\"0\", -8.91, -14.6, 1.0], [\"0\", -7.19, -10.12, 112.0], [\"0\", -7.01, -11.88, 16.0], [\"0\", -5.65, -11.78, 348.0], [\"0\", -8.36, -14.17, 100.0], [\"0\", -7.23, -10.24, 122.0], [\"0\", -7.72, -13.65, 94.0]], \"hoverlabel\": {\"namelength\": 0}, \"hovertemplate\": \"labels=%{customdata[0]}<br>emb1=%{customdata[1]}<br>emb2=%{customdata[2]}<br>index=%{customdata[3]}\", \"legendgroup\": \"labels=0\", \"marker\": {\"color\": \"black\", \"opacity\": 0.5, \"symbol\": \"circle\"}, \"mode\": \"markers\", \"name\": \"labels=0\", \"showlegend\": true, \"type\": \"scatter\", \"x\": [-5.79, -8.72, -7.58, -4.42, -9.06, -6.14, -7.42, -7.25, -4.34, -4.97, -6.91, -8.1, -6.31, -8.24, -5.32, -8.17, -5.11, -5.81, -4.2, -8.91, -7.19, -7.01, -5.65, -8.36, -7.23, -7.72], \"xaxis\": \"x\", \"y\": [-11.53, -11.71, -12.94, -8.11, -14.63, -12.85, -12.09, -11.38, -8.1, -11.8, -13.08, -11.58, -12.33, -13.52, -10.64, -10.05, -7.6, -10.89, -11.38, -14.6, -10.12, -11.88, -11.78, -14.17, -10.24, -13.65], \"yaxis\": \"y\"}, {\"customdata\": [[\"1\", -8.46, 4.96, 149.0], [\"1\", 2.09, -9.59, 64.0], [\"1\", -16.35, 0.13, 198.0], [\"1\", -11.08, 4.69, 119.0], [\"1\", -5.39, 4.91, 200.0], [\"1\", -6.11, 5.22, 214.0], [\"1\", -11.0, 6.28, 231.0], [\"1\", -15.17, 3.67, 235.0], [\"1\", -6.83, 5.29, 62.0], [\"1\", -16.56, -0.13, 191.0], [\"1\", -15.52, 2.86, 182.0], [\"1\", -10.66, 6.04, 184.0], [\"1\", -17.74, 2.01, 124.0], [\"1\", -7.8, 5.09, 172.0], [\"1\", -9.39, 4.84, 137.0], [\"1\", -18.0, -2.06, 76.0], [\"1\", -16.91, 3.28, 165.0], [\"1\", -15.82, 5.74, 90.0], [\"1\", -15.41, 3.6, 80.0], [\"1\", 1.85, -8.75, 81.0], [\"1\", -15.52, 1.22, 146.0], [\"1\", -17.0, 2.92, 147.0], [\"1\", -6.18, 4.88, 157.0], [\"1\", -6.83, 4.77, 187.0], [\"1\", -15.99, 0.23, 238.0], [\"1\", -9.59, 4.83, 239.0], [\"1\", -11.05, 4.28, 26.0], [\"1\", -10.71, 5.58, 306.0], [\"1\", -9.53, 5.15, 110.0], [\"1\", -15.56, 5.85, 24.0], [\"1\", -17.27, -0.56, 318.0], [\"1\", -6.64, 5.46, 320.0], [\"1\", -10.29, 5.07, 326.0], [\"1\", -17.98, 0.53, 329.0], [\"1\", -10.67, 4.01, 302.0], [\"1\", -11.22, 5.39, 332.0], [\"1\", -14.8, 5.4, 347.0], [\"1\", -16.89, 3.44, 9.0], [\"1\", -15.48, 1.45, 8.0], [\"1\", -7.69, 4.85, 7.0], [\"1\", -14.11, 4.66, 355.0], [\"1\", -11.7, 5.3, 357.0], [\"1\", -16.53, 3.5, 364.0], [\"1\", -18.03, -1.81, 341.0], [\"1\", -12.75, 5.43, 291.0], [\"1\", -16.88, 0.54, 108.0], [\"1\", -11.03, 6.4, 247.0], [\"1\", -13.21, 5.38, 33.0], [\"1\", -17.54, -0.84, 290.0], [\"1\", -17.98, 0.22, 45.0], [\"1\", -14.0, 5.3, 287.0], [\"1\", 1.94, -9.07, 42.0], [\"1\", -6.9, 4.74, 43.0], [\"1\", 1.6, -8.08, 280.0], [\"1\", -5.04, 4.72, 254.0], [\"1\", -14.3, 4.13, 257.0], [\"1\", 1.8, -8.57, 270.0]], \"hoverlabel\": {\"namelength\": 0}, \"hovertemplate\": \"labels=%{customdata[0]}<br>emb1=%{customdata[1]}<br>emb2=%{customdata[2]}<br>index=%{customdata[3]}\", \"legendgroup\": \"labels=1\", \"marker\": {\"color\": \"gray\", \"opacity\": 0.5, \"symbol\": \"circle\"}, \"mode\": \"markers\", \"name\": \"labels=1\", \"showlegend\": true, \"type\": \"scatter\", \"x\": [-8.46, 2.09, -16.35, -11.08, -5.39, -6.11, -11.0, -15.17, -6.83, -16.56, -15.52, -10.66, -17.74, -7.8, -9.39, -18.0, -16.91, -15.82, -15.41, 1.85, -15.52, -17.0, -6.18, -6.83, -15.99, -9.59, -11.05, -10.71, -9.53, -15.56, -17.27, -6.64, -10.29, -17.98, -10.67, -11.22, -14.8, -16.89, -15.48, -7.69, -14.11, -11.7, -16.53, -18.03, -12.75, -16.88, -11.03, -13.21, -17.54, -17.98, -14.0, 1.94, -6.9, 1.6, -5.04, -14.3, 1.8], \"xaxis\": \"x\", \"y\": [4.96, -9.59, 0.13, 4.69, 4.91, 5.22, 6.28, 3.67, 5.29, -0.13, 2.86, 6.04, 2.01, 5.09, 4.84, -2.06, 3.28, 5.74, 3.6, -8.75, 1.22, 2.92, 4.88, 4.77, 0.23, 4.83, 4.28, 5.58, 5.15, 5.85, -0.56, 5.46, 5.07, 0.53, 4.01, 5.39, 5.4, 3.44, 1.45, 4.85, 4.66, 5.3, 3.5, -1.81, 5.43, 0.54, 6.4, 5.38, -0.84, 0.22, 5.3, -9.07, 4.74, -8.08, 4.72, 4.13, -8.57], \"yaxis\": \"y\"}, {\"customdata\": [[\"2\", -2.47, 12.39, 299.0], [\"2\", 7.42, 6.54, 354.0], [\"2\", 3.79, 10.6, 215.0], [\"2\", 3.97, 11.45, 205.0], [\"2\", 0.42, 12.05, 221.0], [\"2\", 5.72, 8.32, 114.0], [\"2\", 5.47, 8.25, 126.0], [\"2\", 7.53, 7.37, 139.0], [\"2\", -0.43, 11.81, 333.0], [\"2\", 6.84, 6.2, 201.0], [\"2\", 6.26, 6.71, 345.0], [\"2\", 0.57, 10.89, 177.0], [\"2\", 1.39, 12.4, 273.0], [\"2\", -0.94, 10.93, 161.0], [\"2\", 7.06, 7.54, 197.0], [\"2\", 7.11, 6.88, 316.0], [\"2\", -1.68, 10.78, 162.0], [\"2\", 4.12, 10.43, 308.0], [\"2\", -0.34, 11.95, 175.0], [\"2\", 6.99, 7.99, 140.0], [\"2\", 3.95, 11.27, 240.0], [\"2\", 0.08, 12.19, 183.0], [\"2\", 4.21, 9.46, 71.0], [\"2\", -2.29, 12.26, 41.0], [\"2\", 7.12, 6.46, 104.0], [\"2\", 6.44, 6.85, 89.0], [\"2\", -1.61, 10.83, 84.0], [\"2\", 0.64, 12.36, 5.0]], \"hoverlabel\": {\"namelength\": 0}, \"hovertemplate\": \"labels=%{customdata[0]}<br>emb1=%{customdata[1]}<br>emb2=%{customdata[2]}<br>index=%{customdata[3]}\", \"legendgroup\": \"labels=2\", \"marker\": {\"color\": \"silver\", \"opacity\": 0.5, \"symbol\": \"circle\"}, \"mode\": \"markers\", \"name\": \"labels=2\", \"showlegend\": true, \"type\": \"scatter\", \"x\": [-2.47, 7.42, 3.79, 3.97, 0.42, 5.72, 5.47, 7.53, -0.43, 6.84, 6.26, 0.57, 1.39, -0.94, 7.06, 7.11, -1.68, 4.12, -0.34, 6.99, 3.95, 0.08, 4.21, -2.29, 7.12, 6.44, -1.61, 0.64], \"xaxis\": \"x\", \"y\": [12.39, 6.54, 10.6, 11.45, 12.05, 8.32, 8.25, 7.37, 11.81, 6.2, 6.71, 10.89, 12.4, 10.93, 7.54, 6.88, 10.78, 10.43, 11.95, 7.99, 11.27, 12.19, 9.46, 12.26, 6.46, 6.85, 10.83, 12.36], \"yaxis\": \"y\"}, {\"customdata\": [[\"3\", 8.69, -4.67, 134.0], [\"3\", 9.0, -3.79, 325.0], [\"3\", 10.15, -3.91, 283.0], [\"3\", 8.11, -3.94, 23.0], [\"3\", 9.14, -5.1, 275.0], [\"3\", -0.05, -2.74, 88.0], [\"3\", 9.44, -4.52, 87.0], [\"3\", 9.91, -4.9, 75.0], [\"3\", 9.15, -4.49, 311.0], [\"3\", 4.23, 4.32, 167.0], [\"3\", 8.05, -4.02, 178.0], [\"3\", 9.74, -5.37, 262.0], [\"3\", 7.31, -3.42, 82.0], [\"3\", 0.05, -2.73, 213.0], [\"3\", 8.73, -4.95, 117.0], [\"3\", 7.34, -3.47, 6.0]], \"hoverlabel\": {\"namelength\": 0}, \"hovertemplate\": \"labels=%{customdata[0]}<br>emb1=%{customdata[1]}<br>emb2=%{customdata[2]}<br>index=%{customdata[3]}\", \"legendgroup\": \"labels=3\", \"marker\": {\"color\": \"rosybrown\", \"opacity\": 0.5, \"symbol\": \"circle\"}, \"mode\": \"markers\", \"name\": \"labels=3\", \"showlegend\": true, \"type\": \"scatter\", \"x\": [8.69, 9.0, 10.15, 8.11, 9.14, -0.05, 9.44, 9.91, 9.15, 4.23, 8.05, 9.74, 7.31, 0.05, 8.73, 7.34], \"xaxis\": \"x\", \"y\": [-4.67, -3.79, -3.91, -3.94, -5.1, -2.74, -4.52, -4.9, -4.49, 4.32, -4.02, -5.37, -3.42, -2.73, -4.95, -3.47], \"yaxis\": \"y\"}, {\"customdata\": [[\"4\", 6.98, -13.71, 286.0], [\"4\", 5.98, -20.33, 44.0], [\"4\", 1.32, -15.22, 52.0], [\"4\", 2.03, -19.47, 224.0], [\"4\", 11.25, -16.89, 74.0], [\"4\", 6.98, -18.1, 236.0], [\"4\", 3.29, -18.59, 227.0], [\"4\", 2.59, -15.21, 293.0], [\"4\", 11.68, -13.85, 228.0], [\"4\", 10.09, -16.63, 232.0], [\"4\", 5.17, -19.64, 234.0], [\"4\", 10.71, -19.05, 295.0], [\"4\", 1.53, -18.3, 31.0], [\"4\", 10.08, -13.68, 57.0], [\"4\", 6.53, -19.7, 285.0], [\"4\", 2.54, -18.1, 256.0], [\"4\", 9.8, -13.06, 284.0], [\"4\", 1.75, -17.86, 282.0], [\"4\", 11.68, -13.68, 279.0], [\"4\", 2.77, -19.99, 37.0], [\"4\", 6.21, -14.05, 210.0], [\"4\", 8.65, -13.1, 209.0], [\"4\", 9.37, -13.38, 188.0], [\"4\", 7.58, -15.2, 189.0], [\"4\", 11.14, -16.78, 66.0], [\"4\", 2.47, -19.81, 192.0], [\"4\", 2.88, -19.09, 195.0], [\"4\", 2.16, -16.87, 63.0], [\"4\", 6.53, -12.99, 265.0], [\"4\", 10.19, -15.03, 61.0], [\"4\", 8.69, -17.37, 258.0], [\"4\", 10.3, -15.65, 105.0], [\"4\", 10.54, -17.28, 168.0], [\"4\", 4.86, -19.77, 15.0], [\"4\", 7.86, -13.77, 22.0], [\"4\", 9.22, -18.77, 129.0], [\"4\", 1.69, -18.75, 159.0], [\"4\", 7.48, -18.02, 338.0], [\"4\", 6.43, -13.1, 13.0], [\"4\", 8.03, -16.09, 340.0], [\"4\", 3.0, -16.65, 344.0], [\"4\", 2.59, -19.28, 10.0], [\"4\", 8.55, -17.83, 116.0], [\"4\", 9.67, -15.21, 115.0], [\"4\", 1.22, -15.19, 4.0], [\"4\", 2.0, -18.48, 356.0], [\"4\", 8.25, -14.38, 358.0], [\"4\", 8.27, -17.17, 102.0], [\"4\", 10.09, -17.8, 359.0], [\"4\", 2.58, -18.1, 319.0], [\"4\", 7.75, -13.74, 142.0], [\"4\", 6.56, -20.06, 54.0], [\"4\", 3.01, -19.58, 148.0], [\"4\", 3.82, -19.79, 83.0], [\"4\", 2.38, -15.97, 317.0], [\"4\", 11.03, -13.96, 156.0], [\"4\", 8.9, -18.94, 28.0], [\"4\", 8.98, -14.38, 301.0]], \"hoverlabel\": {\"namelength\": 0}, \"hovertemplate\": \"labels=%{customdata[0]}<br>emb1=%{customdata[1]}<br>emb2=%{customdata[2]}<br>index=%{customdata[3]}\", \"legendgroup\": \"labels=4\", \"marker\": {\"color\": \"lightcoral\", \"opacity\": 0.5, \"symbol\": \"circle\"}, \"mode\": \"markers\", \"name\": \"labels=4\", \"showlegend\": true, \"type\": \"scatter\", \"x\": [6.98, 5.98, 1.32, 2.03, 11.25, 6.98, 3.29, 2.59, 11.68, 10.09, 5.17, 10.71, 1.53, 10.08, 6.53, 2.54, 9.8, 1.75, 11.68, 2.77, 6.21, 8.65, 9.37, 7.58, 11.14, 2.47, 2.88, 2.16, 6.53, 10.19, 8.69, 10.3, 10.54, 4.86, 7.86, 9.22, 1.69, 7.48, 6.43, 8.03, 3.0, 2.59, 8.55, 9.67, 1.22, 2.0, 8.25, 8.27, 10.09, 2.58, 7.75, 6.56, 3.01, 3.82, 2.38, 11.03, 8.9, 8.98], \"xaxis\": \"x\", \"y\": [-13.71, -20.33, -15.22, -19.47, -16.89, -18.1, -18.59, -15.21, -13.85, -16.63, -19.64, -19.05, -18.3, -13.68, -19.7, -18.1, -13.06, -17.86, -13.68, -19.99, -14.05, -13.1, -13.38, -15.2, -16.78, -19.81, -19.09, -16.87, -12.99, -15.03, -17.37, -15.65, -17.28, -19.77, -13.77, -18.77, -18.75, -18.02, -13.1, -16.09, -16.65, -19.28, -17.83, -15.21, -15.19, -18.48, -14.38, -17.17, -17.8, -18.1, -13.74, -20.06, -19.58, -19.79, -15.97, -13.96, -18.94, -14.38], \"yaxis\": \"y\"}, {\"customdata\": [[\"5\", 0.61, 2.0, 144.0], [\"5\", 1.27, 2.71, 203.0], [\"5\", 0.4, 1.04, 255.0], [\"5\", 0.87, 3.15, 120.0], [\"5\", -1.09, -2.46, 98.0], [\"5\", 0.16, 0.27, 211.0], [\"5\", -1.08, -2.92, 86.0], [\"5\", -1.26, -4.16, 251.0], [\"5\", 1.76, -2.13, 250.0], [\"5\", -3.79, -11.26, 77.0], [\"5\", 3.0, 5.36, 296.0], [\"5\", 0.98, 3.66, 78.0], [\"5\", 14.18, 3.13, 109.0], [\"5\", 0.46, -2.12, 107.0], [\"5\", 3.01, 5.52, 342.0], [\"5\", 1.38, 2.86, 59.0], [\"5\", 3.09, 4.56, 300.0], [\"5\", 5.17, 4.15, 315.0], [\"5\", -1.78, -2.64, 145.0], [\"5\", -1.69, -4.55, 35.0], [\"5\", -0.3, -2.14, 321.0], [\"5\", -0.49, -2.02, 68.0], [\"5\", -0.03, -1.69, 185.0], [\"5\", 3.61, 7.93, 323.0], [\"5\", -0.44, -1.25, 133.0], [\"5\", 0.66, -2.43, 328.0], [\"5\", 0.37, 0.9, 67.0], [\"5\", 4.04, 8.38, 288.0], [\"5\", 2.13, 4.31, 34.0], [\"5\", 2.62, 4.31, 194.0]], \"hoverlabel\": {\"namelength\": 0}, \"hovertemplate\": \"labels=%{customdata[0]}<br>emb1=%{customdata[1]}<br>emb2=%{customdata[2]}<br>index=%{customdata[3]}\", \"legendgroup\": \"labels=5\", \"marker\": {\"color\": \"firebrick\", \"opacity\": 0.5, \"symbol\": \"circle\"}, \"mode\": \"markers\", \"name\": \"labels=5\", \"showlegend\": true, \"type\": \"scatter\", \"x\": [0.61, 1.27, 0.4, 0.87, -1.09, 0.16, -1.08, -1.26, 1.76, -3.79, 3.0, 0.98, 14.18, 0.46, 3.01, 1.38, 3.09, 5.17, -1.78, -1.69, -0.3, -0.49, -0.03, 3.61, -0.44, 0.66, 0.37, 4.04, 2.13, 2.62], \"xaxis\": \"x\", \"y\": [2.0, 2.71, 1.04, 3.15, -2.46, 0.27, -2.92, -4.16, -2.13, -11.26, 5.36, 3.66, 3.13, -2.12, 5.52, 2.86, 4.56, 4.15, -2.64, -4.55, -2.14, -2.02, -1.69, 7.93, -1.25, -2.43, 0.9, 8.38, 4.31, 4.31], \"yaxis\": \"y\"}, {\"customdata\": [[\"6\", 10.64, 15.07, 252.0], [\"6\", 16.88, 14.47, 363.0], [\"6\", 12.15, 14.79, 271.0], [\"6\", 16.4, 14.98, 312.0], [\"6\", 16.37, 14.38, 38.0], [\"6\", 15.07, 15.56, 322.0], [\"6\", 12.26, 12.36, 51.0], [\"6\", 11.56, 16.22, 50.0], [\"6\", 13.84, 16.0, 241.0], [\"6\", 12.91, 17.03, 48.0], [\"6\", 17.34, 13.77, 47.0], [\"6\", 12.25, 16.27, 274.0], [\"6\", 12.1, 15.6, 32.0], [\"6\", 10.95, 16.63, 20.0], [\"6\", 13.07, 16.46, 327.0], [\"6\", 14.81, 15.0, 352.0], [\"6\", 16.95, 14.85, 40.0], [\"6\", 14.51, 15.14, 53.0], [\"6\", 14.21, 16.14, 163.0], [\"6\", 16.9, 13.88, 95.0], [\"6\", 12.89, 14.54, 190.0], [\"6\", 12.92, 15.2, 125.0], [\"6\", 15.85, 14.58, 151.0], [\"6\", 12.0, 16.83, 216.0], [\"6\", 11.95, 17.04, 218.0], [\"6\", 16.68, 13.39, 219.0], [\"6\", 13.15, 15.39, 180.0], [\"6\", 11.45, 16.63, 92.0], [\"6\", 15.13, 13.58, 106.0], [\"6\", 12.71, 16.01, 141.0], [\"6\", 10.88, 15.24, 135.0]], \"hoverlabel\": {\"namelength\": 0}, \"hovertemplate\": \"labels=%{customdata[0]}<br>emb1=%{customdata[1]}<br>emb2=%{customdata[2]}<br>index=%{customdata[3]}\", \"legendgroup\": \"labels=6\", \"marker\": {\"color\": \"maroon\", \"opacity\": 0.5, \"symbol\": \"circle\"}, \"mode\": \"markers\", \"name\": \"labels=6\", \"showlegend\": true, \"type\": \"scatter\", \"x\": [10.64, 16.88, 12.15, 16.4, 16.37, 15.07, 12.26, 11.56, 13.84, 12.91, 17.34, 12.25, 12.1, 10.95, 13.07, 14.81, 16.95, 14.51, 14.21, 16.9, 12.89, 12.92, 15.85, 12.0, 11.95, 16.68, 13.15, 11.45, 15.13, 12.71, 10.88], \"xaxis\": \"x\", \"y\": [15.07, 14.47, 14.79, 14.98, 14.38, 15.56, 12.36, 16.22, 16.0, 17.03, 13.77, 16.27, 15.6, 16.63, 16.46, 15.0, 14.85, 15.14, 16.14, 13.88, 14.54, 15.2, 14.58, 16.83, 17.04, 13.39, 15.39, 16.63, 13.58, 16.01, 15.24], \"yaxis\": \"y\"}, {\"customdata\": [[\"7\", 18.14, 8.38, 25.0], [\"7\", 18.14, 7.33, 289.0], [\"7\", 16.1, 6.48, 276.0], [\"7\", 18.37, 7.77, 225.0], [\"7\", 14.93, 7.58, 336.0], [\"7\", 15.39, 7.42, 96.0], [\"7\", 14.35, 5.85, 11.0], [\"7\", 17.97, 7.27, 346.0], [\"7\", 17.01, 6.44, 261.0], [\"7\", 17.37, 6.81, 305.0], [\"7\", 16.13, 7.78, 259.0], [\"7\", 17.69, 8.06, 130.0], [\"7\", 14.11, 6.71, 58.0], [\"7\", 15.31, 5.46, 206.0], [\"7\", 12.07, 11.55, 111.0], [\"7\", 16.84, 8.61, 152.0], [\"7\", 15.85, 8.36, 118.0], [\"7\", 16.6, 7.08, 353.0], [\"7\", 14.08, 5.87, 99.0], [\"7\", 12.0, 11.07, 179.0], [\"7\", 16.9, 7.89, 46.0], [\"7\", 17.28, 7.73, 313.0]], \"hoverlabel\": {\"namelength\": 0}, \"hovertemplate\": \"labels=%{customdata[0]}<br>emb1=%{customdata[1]}<br>emb2=%{customdata[2]}<br>index=%{customdata[3]}\", \"legendgroup\": \"labels=7\", \"marker\": {\"color\": \"red\", \"opacity\": 0.5, \"symbol\": \"circle\"}, \"mode\": \"markers\", \"name\": \"labels=7\", \"showlegend\": true, \"type\": \"scatter\", \"x\": [18.14, 18.14, 16.1, 18.37, 14.93, 15.39, 14.35, 17.97, 17.01, 17.37, 16.13, 17.69, 14.11, 15.31, 12.07, 16.84, 15.85, 16.6, 14.08, 12.0, 16.9, 17.28], \"xaxis\": \"x\", \"y\": [8.38, 7.33, 6.48, 7.77, 7.58, 7.42, 5.85, 7.27, 6.44, 6.81, 7.78, 8.06, 6.71, 5.46, 11.55, 8.61, 8.36, 7.08, 5.87, 11.07, 7.89, 7.73], \"yaxis\": \"y\"}, {\"customdata\": [[\"8\", 10.71, 3.3, 70.0], [\"8\", 12.57, 2.37, 174.0], [\"8\", 4.72, -0.79, 143.0], [\"8\", 7.65, 3.41, 314.0], [\"8\", 11.64, 3.15, 91.0], [\"8\", 7.24, -0.48, 170.0], [\"8\", 4.0, -1.24, 164.0], [\"8\", 6.11, -1.13, 298.0], [\"8\", 13.83, 1.9, 335.0], [\"8\", 4.5, 0.15, 334.0], [\"8\", 12.76, 3.59, 30.0], [\"8\", 7.04, 2.85, 132.0], [\"8\", 7.99, -0.08, 307.0], [\"8\", 5.51, -1.4, 337.0], [\"8\", 13.13, 4.03, 17.0], [\"8\", 5.71, -0.13, 186.0], [\"8\", 6.25, -0.67, 69.0], [\"8\", 5.33, -0.6, 229.0], [\"8\", 10.39, 1.12, 2.0], [\"8\", 10.75, 1.45, 237.0], [\"8\", 5.0, -0.22, 361.0], [\"8\", 5.1, 1.03, 360.0], [\"8\", 5.13, 0.72, 245.0], [\"8\", 11.67, 2.51, 56.0], [\"8\", 10.2, 0.58, 253.0], [\"8\", 14.02, 1.61, 121.0], [\"8\", 12.22, 3.03, 97.0], [\"8\", 14.27, 0.78, 181.0], [\"8\", 6.46, 3.55, 264.0], [\"8\", 10.85, 1.0, 199.0], [\"8\", 5.66, -0.18, 202.0], [\"8\", 4.23, -0.33, 281.0], [\"8\", 11.44, 1.44, 365.0], [\"8\", 11.07, 2.68, 12.0], [\"8\", 4.75, -1.02, 278.0], [\"8\", 13.43, 4.27, 272.0], [\"8\", 9.78, 0.66, 193.0]], \"hoverlabel\": {\"namelength\": 0}, \"hovertemplate\": \"labels=%{customdata[0]}<br>emb1=%{customdata[1]}<br>emb2=%{customdata[2]}<br>index=%{customdata[3]}\", \"legendgroup\": \"labels=8\", \"marker\": {\"color\": \"coral\", \"opacity\": 0.5, \"symbol\": \"circle\"}, \"mode\": \"markers\", \"name\": \"labels=8\", \"showlegend\": true, \"type\": \"scatter\", \"x\": [10.71, 12.57, 4.72, 7.65, 11.64, 7.24, 4.0, 6.11, 13.83, 4.5, 12.76, 7.04, 7.99, 5.51, 13.13, 5.71, 6.25, 5.33, 10.39, 10.75, 5.0, 5.1, 5.13, 11.67, 10.2, 14.02, 12.22, 14.27, 6.46, 10.85, 5.66, 4.23, 11.44, 11.07, 4.75, 13.43, 9.78], \"xaxis\": \"x\", \"y\": [3.3, 2.37, -0.79, 3.41, 3.15, -0.48, -1.24, -1.13, 1.9, 0.15, 3.59, 2.85, -0.08, -1.4, 4.03, -0.13, -0.67, -0.6, 1.12, 1.45, -0.22, 1.03, 0.72, 2.51, 0.58, 1.61, 3.03, 0.78, 3.55, 1.0, -0.18, -0.33, 1.44, 2.68, -1.02, 4.27, 0.66], \"yaxis\": \"y\"}, {\"customdata\": [[\"9\", -12.67, -6.35, 267.0], [\"9\", -14.04, -6.51, 73.0], [\"9\", -14.07, -7.61, 362.0], [\"9\", -11.71, -7.38, 324.0], [\"9\", -12.94, -7.8, 173.0], [\"9\", -14.13, -6.79, 350.0], [\"9\", -12.15, -7.15, 131.0], [\"9\", -6.36, -8.08, 27.0], [\"9\", -13.93, -7.22, 294.0], [\"9\", -12.6, -6.84, 260.0], [\"9\", -14.36, -7.46, 19.0], [\"9\", -12.79, -7.51, 65.0], [\"9\", -13.48, -6.65, 154.0], [\"9\", -12.12, -6.84, 297.0], [\"9\", -11.66, -6.51, 268.0]], \"hoverlabel\": {\"namelength\": 0}, \"hovertemplate\": \"labels=%{customdata[0]}<br>emb1=%{customdata[1]}<br>emb2=%{customdata[2]}<br>index=%{customdata[3]}\", \"legendgroup\": \"labels=9\", \"marker\": {\"color\": \"chocolate\", \"opacity\": 0.5, \"symbol\": \"circle\"}, \"mode\": \"markers\", \"name\": \"labels=9\", \"showlegend\": true, \"type\": \"scatter\", \"x\": [-12.67, -14.04, -14.07, -11.71, -12.94, -14.13, -12.15, -6.36, -13.93, -12.6, -14.36, -12.79, -13.48, -12.12, -11.66], \"xaxis\": \"x\", \"y\": [-6.35, -6.51, -7.61, -7.38, -7.8, -6.79, -7.15, -8.08, -7.22, -6.84, -7.46, -7.51, -6.65, -6.84, -6.51], \"yaxis\": \"y\"}, {\"customdata\": [[\"10\", -2.97, -6.13, 127.0], [\"10\", -3.15, -5.52, 113.0], [\"10\", -11.03, -8.39, 136.0], [\"10\", -2.78, -5.97, 233.0], [\"10\", -6.84, -8.08, 266.0], [\"10\", -3.8, -6.37, 196.0], [\"10\", -2.84, -5.64, 230.0], [\"10\", -3.99, -6.44, 29.0], [\"10\", -10.82, -7.91, 160.0], [\"10\", -3.25, -5.75, 223.0], [\"10\", -11.91, -8.97, 150.0]], \"hoverlabel\": {\"namelength\": 0}, \"hovertemplate\": \"labels=%{customdata[0]}<br>emb1=%{customdata[1]}<br>emb2=%{customdata[2]}<br>index=%{customdata[3]}\", \"legendgroup\": \"labels=10\", \"marker\": {\"color\": \"saddlebrown\", \"opacity\": 0.5, \"symbol\": \"circle\"}, \"mode\": \"markers\", \"name\": \"labels=10\", \"showlegend\": true, \"type\": \"scatter\", \"x\": [-2.97, -3.15, -11.03, -2.78, -6.84, -3.8, -2.84, -3.99, -10.82, -3.25, -11.91], \"xaxis\": \"x\", \"y\": [-6.13, -5.52, -8.39, -5.97, -8.08, -6.37, -5.64, -6.44, -7.91, -5.75, -8.97], \"yaxis\": \"y\"}, {\"customdata\": [[\"11\", -12.77, 27.03, 220.0], [\"11\", -6.09, 0.86, 243.0], [\"11\", -12.76, 25.45, 3.0], [\"11\", -12.9, 28.23, 101.0], [\"11\", -12.25, 26.39, 263.0], [\"11\", -13.1, 26.76, 226.0], [\"11\", -12.44, 27.47, 246.0], [\"11\", -12.1, 26.82, 248.0], [\"11\", -11.27, 27.73, 351.0], [\"11\", -11.44, 26.22, 349.0], [\"11\", -11.91, 27.35, 207.0], [\"11\", -12.04, 25.99, 204.0], [\"11\", -12.8, 26.18, 55.0], [\"11\", -11.41, 24.59, 93.0], [\"11\", -10.91, 27.12, 138.0], [\"11\", -10.94, 26.42, 343.0], [\"11\", -11.21, 25.5, 310.0], [\"11\", -11.49, 26.98, 309.0], [\"11\", -13.71, 26.61, 304.0], [\"11\", -13.12, 27.69, 330.0], [\"11\", -11.19, 24.58, 331.0], [\"11\", -12.03, 25.3, 123.0], [\"11\", -12.27, 28.11, 166.0], [\"11\", -13.37, 25.95, 128.0], [\"11\", -13.58, 27.43, 269.0], [\"11\", -11.73, 28.12, 366.0]], \"hoverlabel\": {\"namelength\": 0}, \"hovertemplate\": \"labels=%{customdata[0]}<br>emb1=%{customdata[1]}<br>emb2=%{customdata[2]}<br>index=%{customdata[3]}\", \"legendgroup\": \"labels=11\", \"marker\": {\"color\": \"darkorange\", \"opacity\": 0.5, \"symbol\": \"circle\"}, \"mode\": \"markers\", \"name\": \"labels=11\", \"showlegend\": true, \"type\": \"scatter\", \"x\": [-12.77, -6.09, -12.76, -12.9, -12.25, -13.1, -12.44, -12.1, -11.27, -11.44, -11.91, -12.04, -12.8, -11.41, -10.91, -10.94, -11.21, -11.49, -13.71, -13.12, -11.19, -12.03, -12.27, -13.37, -13.58, -11.73], \"xaxis\": \"x\", \"y\": [27.03, 0.86, 25.45, 28.23, 26.39, 26.76, 27.47, 26.82, 27.73, 26.22, 27.35, 25.99, 26.18, 24.59, 27.12, 26.42, 25.5, 26.98, 26.61, 27.69, 24.58, 25.3, 28.11, 25.95, 27.43, 28.12], \"yaxis\": \"y\"}, {\"customdata\": [[\"12\", -9.42, -12.65, 217.0], [\"12\", -6.72, 0.22, 212.0], [\"12\", -7.01, -0.59, 292.0], [\"12\", -7.37, -0.2, 208.0], [\"12\", -6.71, -0.95, 103.0], [\"12\", -6.28, -0.41, 36.0], [\"12\", -6.89, -0.21, 153.0], [\"12\", -6.49, 0.19, 222.0], [\"12\", -6.43, -0.57, 39.0], [\"12\", -7.32, -1.18, 169.0]], \"hoverlabel\": {\"namelength\": 0}, \"hovertemplate\": \"labels=%{customdata[0]}<br>emb1=%{customdata[1]}<br>emb2=%{customdata[2]}<br>index=%{customdata[3]}\", \"legendgroup\": \"labels=12\", \"marker\": {\"color\": \"orange\", \"opacity\": 0.5, \"symbol\": \"circle\"}, \"mode\": \"markers\", \"name\": \"labels=12\", \"showlegend\": true, \"type\": \"scatter\", \"x\": [-9.42, -6.72, -7.01, -7.37, -6.71, -6.28, -6.89, -6.49, -6.43, -7.32], \"xaxis\": \"x\", \"y\": [-12.65, 0.22, -0.59, -0.2, -0.95, -0.41, -0.21, 0.19, -0.57, -1.18], \"yaxis\": \"y\"}],\n",
              "                        {\"height\": 500, \"legend\": {\"tracegroupgap\": 0}, \"template\": {\"data\": {\"bar\": [{\"error_x\": {\"color\": \"#2a3f5f\"}, \"error_y\": {\"color\": \"#2a3f5f\"}, \"marker\": {\"line\": {\"color\": \"#E5ECF6\", \"width\": 0.5}}, \"type\": \"bar\"}], \"barpolar\": [{\"marker\": {\"line\": {\"color\": \"#E5ECF6\", \"width\": 0.5}}, \"type\": \"barpolar\"}], \"carpet\": [{\"aaxis\": {\"endlinecolor\": \"#2a3f5f\", \"gridcolor\": \"white\", \"linecolor\": \"white\", \"minorgridcolor\": \"white\", \"startlinecolor\": \"#2a3f5f\"}, \"baxis\": {\"endlinecolor\": \"#2a3f5f\", \"gridcolor\": \"white\", \"linecolor\": \"white\", \"minorgridcolor\": \"white\", \"startlinecolor\": \"#2a3f5f\"}, \"type\": \"carpet\"}], \"choropleth\": [{\"colorbar\": {\"outlinewidth\": 0, \"ticks\": \"\"}, \"type\": \"choropleth\"}], \"contour\": [{\"colorbar\": {\"outlinewidth\": 0, \"ticks\": \"\"}, \"colorscale\": [[0.0, \"#0d0887\"], [0.1111111111111111, \"#46039f\"], [0.2222222222222222, \"#7201a8\"], [0.3333333333333333, \"#9c179e\"], [0.4444444444444444, \"#bd3786\"], [0.5555555555555556, \"#d8576b\"], [0.6666666666666666, \"#ed7953\"], [0.7777777777777778, \"#fb9f3a\"], [0.8888888888888888, \"#fdca26\"], [1.0, \"#f0f921\"]], \"type\": \"contour\"}], \"contourcarpet\": [{\"colorbar\": {\"outlinewidth\": 0, \"ticks\": \"\"}, \"type\": \"contourcarpet\"}], \"heatmap\": [{\"colorbar\": {\"outlinewidth\": 0, \"ticks\": \"\"}, \"colorscale\": [[0.0, \"#0d0887\"], [0.1111111111111111, \"#46039f\"], [0.2222222222222222, \"#7201a8\"], [0.3333333333333333, \"#9c179e\"], [0.4444444444444444, \"#bd3786\"], [0.5555555555555556, \"#d8576b\"], [0.6666666666666666, \"#ed7953\"], [0.7777777777777778, \"#fb9f3a\"], [0.8888888888888888, \"#fdca26\"], [1.0, \"#f0f921\"]], \"type\": \"heatmap\"}], \"heatmapgl\": [{\"colorbar\": {\"outlinewidth\": 0, \"ticks\": \"\"}, \"colorscale\": [[0.0, \"#0d0887\"], [0.1111111111111111, \"#46039f\"], [0.2222222222222222, \"#7201a8\"], [0.3333333333333333, \"#9c179e\"], [0.4444444444444444, \"#bd3786\"], [0.5555555555555556, \"#d8576b\"], [0.6666666666666666, \"#ed7953\"], [0.7777777777777778, \"#fb9f3a\"], [0.8888888888888888, \"#fdca26\"], [1.0, \"#f0f921\"]], \"type\": \"heatmapgl\"}], \"histogram\": [{\"marker\": {\"colorbar\": {\"outlinewidth\": 0, \"ticks\": \"\"}}, \"type\": \"histogram\"}], \"histogram2d\": [{\"colorbar\": {\"outlinewidth\": 0, \"ticks\": \"\"}, \"colorscale\": [[0.0, \"#0d0887\"], [0.1111111111111111, \"#46039f\"], [0.2222222222222222, \"#7201a8\"], [0.3333333333333333, \"#9c179e\"], [0.4444444444444444, \"#bd3786\"], [0.5555555555555556, \"#d8576b\"], [0.6666666666666666, \"#ed7953\"], [0.7777777777777778, \"#fb9f3a\"], [0.8888888888888888, \"#fdca26\"], [1.0, \"#f0f921\"]], \"type\": \"histogram2d\"}], \"histogram2dcontour\": [{\"colorbar\": {\"outlinewidth\": 0, \"ticks\": \"\"}, \"colorscale\": [[0.0, \"#0d0887\"], [0.1111111111111111, \"#46039f\"], [0.2222222222222222, \"#7201a8\"], [0.3333333333333333, \"#9c179e\"], [0.4444444444444444, \"#bd3786\"], [0.5555555555555556, \"#d8576b\"], [0.6666666666666666, \"#ed7953\"], [0.7777777777777778, \"#fb9f3a\"], [0.8888888888888888, \"#fdca26\"], [1.0, \"#f0f921\"]], \"type\": \"histogram2dcontour\"}], \"mesh3d\": [{\"colorbar\": {\"outlinewidth\": 0, \"ticks\": \"\"}, \"type\": \"mesh3d\"}], \"parcoords\": [{\"line\": {\"colorbar\": {\"outlinewidth\": 0, \"ticks\": \"\"}}, \"type\": \"parcoords\"}], \"pie\": [{\"automargin\": true, \"type\": \"pie\"}], \"scatter\": [{\"marker\": {\"colorbar\": {\"outlinewidth\": 0, \"ticks\": \"\"}}, \"type\": \"scatter\"}], \"scatter3d\": [{\"line\": {\"colorbar\": {\"outlinewidth\": 0, \"ticks\": \"\"}}, \"marker\": {\"colorbar\": {\"outlinewidth\": 0, \"ticks\": \"\"}}, \"type\": \"scatter3d\"}], \"scattercarpet\": [{\"marker\": {\"colorbar\": {\"outlinewidth\": 0, \"ticks\": \"\"}}, \"type\": \"scattercarpet\"}], \"scattergeo\": [{\"marker\": {\"colorbar\": {\"outlinewidth\": 0, \"ticks\": \"\"}}, \"type\": \"scattergeo\"}], \"scattergl\": [{\"marker\": {\"colorbar\": {\"outlinewidth\": 0, \"ticks\": \"\"}}, \"type\": \"scattergl\"}], \"scattermapbox\": [{\"marker\": {\"colorbar\": {\"outlinewidth\": 0, \"ticks\": \"\"}}, \"type\": \"scattermapbox\"}], \"scatterpolar\": [{\"marker\": {\"colorbar\": {\"outlinewidth\": 0, \"ticks\": \"\"}}, \"type\": \"scatterpolar\"}], \"scatterpolargl\": [{\"marker\": {\"colorbar\": {\"outlinewidth\": 0, \"ticks\": \"\"}}, \"type\": \"scatterpolargl\"}], \"scatterternary\": [{\"marker\": {\"colorbar\": {\"outlinewidth\": 0, \"ticks\": \"\"}}, \"type\": \"scatterternary\"}], \"surface\": [{\"colorbar\": {\"outlinewidth\": 0, \"ticks\": \"\"}, \"colorscale\": [[0.0, \"#0d0887\"], [0.1111111111111111, \"#46039f\"], [0.2222222222222222, \"#7201a8\"], [0.3333333333333333, \"#9c179e\"], [0.4444444444444444, \"#bd3786\"], [0.5555555555555556, \"#d8576b\"], [0.6666666666666666, \"#ed7953\"], [0.7777777777777778, \"#fb9f3a\"], [0.8888888888888888, \"#fdca26\"], [1.0, \"#f0f921\"]], \"type\": \"surface\"}], \"table\": [{\"cells\": {\"fill\": {\"color\": \"#EBF0F8\"}, \"line\": {\"color\": \"white\"}}, \"header\": {\"fill\": {\"color\": \"#C8D4E3\"}, \"line\": {\"color\": \"white\"}}, \"type\": \"table\"}]}, \"layout\": {\"annotationdefaults\": {\"arrowcolor\": \"#2a3f5f\", \"arrowhead\": 0, \"arrowwidth\": 1}, \"coloraxis\": {\"colorbar\": {\"outlinewidth\": 0, \"ticks\": \"\"}}, \"colorscale\": {\"diverging\": [[0, \"#8e0152\"], [0.1, \"#c51b7d\"], [0.2, \"#de77ae\"], [0.3, \"#f1b6da\"], [0.4, \"#fde0ef\"], [0.5, \"#f7f7f7\"], [0.6, \"#e6f5d0\"], [0.7, \"#b8e186\"], [0.8, \"#7fbc41\"], [0.9, \"#4d9221\"], [1, \"#276419\"]], \"sequential\": [[0.0, \"#0d0887\"], [0.1111111111111111, \"#46039f\"], [0.2222222222222222, \"#7201a8\"], [0.3333333333333333, \"#9c179e\"], [0.4444444444444444, \"#bd3786\"], [0.5555555555555556, \"#d8576b\"], [0.6666666666666666, \"#ed7953\"], [0.7777777777777778, \"#fb9f3a\"], [0.8888888888888888, \"#fdca26\"], [1.0, \"#f0f921\"]], \"sequentialminus\": [[0.0, \"#0d0887\"], [0.1111111111111111, \"#46039f\"], [0.2222222222222222, \"#7201a8\"], [0.3333333333333333, \"#9c179e\"], [0.4444444444444444, \"#bd3786\"], [0.5555555555555556, \"#d8576b\"], [0.6666666666666666, \"#ed7953\"], [0.7777777777777778, \"#fb9f3a\"], [0.8888888888888888, \"#fdca26\"], [1.0, \"#f0f921\"]]}, \"colorway\": [\"#636efa\", \"#EF553B\", \"#00cc96\", \"#ab63fa\", \"#FFA15A\", \"#19d3f3\", \"#FF6692\", \"#B6E880\", \"#FF97FF\", \"#FECB52\"], \"font\": {\"color\": \"#2a3f5f\"}, \"geo\": {\"bgcolor\": \"white\", \"lakecolor\": \"white\", \"landcolor\": \"#E5ECF6\", \"showlakes\": true, \"showland\": true, \"subunitcolor\": \"white\"}, \"hoverlabel\": {\"align\": \"left\"}, \"hovermode\": \"closest\", \"mapbox\": {\"style\": \"light\"}, \"paper_bgcolor\": \"white\", \"plot_bgcolor\": \"#E5ECF6\", \"polar\": {\"angularaxis\": {\"gridcolor\": \"white\", \"linecolor\": \"white\", \"ticks\": \"\"}, \"bgcolor\": \"#E5ECF6\", \"radialaxis\": {\"gridcolor\": \"white\", \"linecolor\": \"white\", \"ticks\": \"\"}}, \"scene\": {\"xaxis\": {\"backgroundcolor\": \"#E5ECF6\", \"gridcolor\": \"white\", \"gridwidth\": 2, \"linecolor\": \"white\", \"showbackground\": true, \"ticks\": \"\", \"zerolinecolor\": \"white\"}, \"yaxis\": {\"backgroundcolor\": \"#E5ECF6\", \"gridcolor\": \"white\", \"gridwidth\": 2, \"linecolor\": \"white\", \"showbackground\": true, \"ticks\": \"\", \"zerolinecolor\": \"white\"}, \"zaxis\": {\"backgroundcolor\": \"#E5ECF6\", \"gridcolor\": \"white\", \"gridwidth\": 2, \"linecolor\": \"white\", \"showbackground\": true, \"ticks\": \"\", \"zerolinecolor\": \"white\"}}, \"shapedefaults\": {\"line\": {\"color\": \"#2a3f5f\"}}, \"ternary\": {\"aaxis\": {\"gridcolor\": \"white\", \"linecolor\": \"white\", \"ticks\": \"\"}, \"baxis\": {\"gridcolor\": \"white\", \"linecolor\": \"white\", \"ticks\": \"\"}, \"bgcolor\": \"#E5ECF6\", \"caxis\": {\"gridcolor\": \"white\", \"linecolor\": \"white\", \"ticks\": \"\"}}, \"title\": {\"x\": 0.05}, \"xaxis\": {\"automargin\": true, \"gridcolor\": \"white\", \"linecolor\": \"white\", \"ticks\": \"\", \"title\": {\"standoff\": 15}, \"zerolinecolor\": \"white\", \"zerolinewidth\": 2}, \"yaxis\": {\"automargin\": true, \"gridcolor\": \"white\", \"linecolor\": \"white\", \"ticks\": \"\", \"title\": {\"standoff\": 15}, \"zerolinecolor\": \"white\", \"zerolinewidth\": 2}}}, \"title\": {\"text\": \"SimCLR\"}, \"width\": 800, \"xaxis\": {\"anchor\": \"y\", \"domain\": [0.0, 1.0], \"scaleanchor\": \"y\", \"scaleratio\": 1, \"title\": {\"text\": \"emb1\"}}, \"yaxis\": {\"anchor\": \"x\", \"domain\": [0.0, 1.0], \"title\": {\"text\": \"emb2\"}}},\n",
              "                        {\"responsive\": true}\n",
              "                    ).then(function(){\n",
              "                            \n",
              "var gd = document.getElementById('e070da89-282e-4132-be3a-b0b5c4f14b85');\n",
              "var x = new MutationObserver(function (mutations, observer) {{\n",
              "        var display = window.getComputedStyle(gd).display;\n",
              "        if (!display || display === 'none') {{\n",
              "            console.log([gd, 'removed!']);\n",
              "            Plotly.purge(gd);\n",
              "            observer.disconnect();\n",
              "        }}\n",
              "}});\n",
              "\n",
              "// Listen for the removal of the full notebook cells\n",
              "var notebookContainer = gd.closest('#notebook-container');\n",
              "if (notebookContainer) {{\n",
              "    x.observe(notebookContainer, {childList: true});\n",
              "}}\n",
              "\n",
              "// Listen for the clearing of the current output cell\n",
              "var outputEl = gd.closest('.output');\n",
              "if (outputEl) {{\n",
              "    x.observe(outputEl, {childList: true});\n",
              "}}\n",
              "\n",
              "                        })\n",
              "                };\n",
              "                \n",
              "            </script>\n",
              "        </div>\n",
              "</body>\n",
              "</html>"
            ]
          },
          "metadata": {}
        }
      ]
    },
    {
      "cell_type": "markdown",
      "metadata": {
        "id": "CiQN6LYaHwp-"
      },
      "source": [
        "**4.2 SC + linear classifier initialization**"
      ]
    },
    {
      "cell_type": "code",
      "metadata": {
        "colab": {
          "base_uri": "https://localhost:8080/",
          "height": 121,
          "referenced_widgets": [
            "8316f05bbb314b55bcc269b75892d9ce",
            "b2dc766b06414d37a4535e5f0d0ae8b0",
            "17810385e86549c38cdb0e7bebe76aeb",
            "fa4418c11c314cb6a017f7736052025b",
            "f1d392b39c584ede84f4d563b9e271ea",
            "334bfec5f9a54de79b12dc725eef629b",
            "32b18348155e4c648bb02c3303340572",
            "88cee4c142e14c33bbe73fb4101895e7",
            "78a0e186cc9e4cd78bac23763ca06011",
            "798c6cda94fb400ba4ad32a124a0c443",
            "312d87fb1f7a45e385c68cb6ba5cb2ab"
          ]
        },
        "id": "zVyHN_3JHwDR",
        "outputId": "6de1f3bc-877b-41b0-b949-dcaa16094079"
      },
      "source": [
        "#===================================\n",
        "# 4.2 SC + meta label training\n",
        "#===================================\n",
        "\n",
        "# 4.2.0 SC\n",
        "#===================================\n",
        "hparams_SC = Namespace(\n",
        "    n_neighbors = 10,\n",
        "    n_clusters = 20, \n",
        ")\n",
        "\n",
        "# clustering\n",
        "SC_cluster = SpectralClustering(n_clusters = hparams_SC.n_clusters, \n",
        "                             n_neighbors = hparams_SC.n_neighbors, \n",
        "                             affinity = 'nearest_neighbors', \n",
        "                             assign_labels='discretize')\n",
        "initial_labels = SC_cluster.fit_predict(CLR_feat)\n",
        "\n",
        "# check accuracy if we have benchmark groundtruth\n",
        "SC_acc, _ = get_Acc(initial_labels, training_labels)\n",
        "print('Accuracy of SimCLR + SC: {}'.format(SC_acc))\n",
        "\n",
        "# 4.2.1 CLR_CLS (frozen SimCLR trained CNN base + active classification layer)\n",
        "#===================================\n",
        "hparams_CLS = Namespace(\n",
        "    data = training_PIL_set,             \n",
        "    labels = initial_labels,\n",
        "    n_classes = hparams_SC.n_clusters,\n",
        "    freeze_base = True,\n",
        "    embeddings_path = output_folder + '/model_CLR.ckpt',\n",
        "    lr = 1e-3,                                             \n",
        "    epochs = 20,\n",
        "    batch_size = 183,                   \n",
        "    train_size = 367,                                       # the last batch is dropped\n",
        "    prob_thre = 0.4\n",
        ")\n",
        "\n",
        "model_CLS, _ = fit_CLS(hparams_CLS, output_folder, verbose=False)\n",
        "\n",
        "# 4.2.1 CLR_CLS follow-up\n",
        "#===================================\n",
        "projections = run_thru_NN(model_CLS, dataloader, 'proj')\n",
        "predictions = torch.argmax(projections, dim = 1)\n",
        "predictions = predictions.cpu().numpy()\n",
        "onehots = F.softmax(projections, dim = 1).cpu().numpy()\n",
        "probs = np.max(onehots, axis=1)\n",
        "CLS_prob_thre = np.quantile(probs, hparams_CLS.prob_thre)  # initially take 60% more confident samples for FineTune\n",
        "\n",
        "# check accuracy if we have benchmark groundtruth\n",
        "CLS_acc, _ = get_Acc(predictions, training_labels)\n",
        "print('Accuracy of SimCLR + Linear classifier: {}'.format(SC_acc))"
      ],
      "execution_count": null,
      "outputs": [
        {
          "output_type": "stream",
          "name": "stdout",
          "text": [
            "Accuracy of SimCLR + SC: 0.9203\n",
            "Loaded pretrained weights for efficientnet-b0\n",
            "During the training of current CLR_CLS model, the CNN base is frozen\n"
          ]
        },
        {
          "output_type": "display_data",
          "data": {
            "application/vnd.jupyter.widget-view+json": {
              "model_id": "8316f05bbb314b55bcc269b75892d9ce",
              "version_minor": 0,
              "version_major": 2
            },
            "text/plain": [
              "  0%|          | 0/20 [00:00<?, ?it/s]"
            ]
          },
          "metadata": {}
        },
        {
          "output_type": "stream",
          "name": "stdout",
          "text": [
            "Accuracy of SimCLR + Linear classifier: 0.9203\n"
          ]
        }
      ]
    },
    {
      "cell_type": "markdown",
      "metadata": {
        "id": "QKn37l8BMe3v"
      },
      "source": [
        "**4.3 FineTune**"
      ]
    },
    {
      "cell_type": "code",
      "metadata": {
        "colab": {
          "base_uri": "https://localhost:8080/",
          "height": 85,
          "referenced_widgets": [
            "ec14aa6a92f541c9a29669a1f3accf8a",
            "79ec554858f24b7dadfb0775f153fdf7",
            "38ecd11b5628482483e40e6039025e85",
            "ede210b40eeb41cd83cb9a336efaacb5",
            "08bd7582b77646d9ae58cb191fa7077f",
            "87128d03635240a480a9ed4405254c7e",
            "0c151d4842034534bde6aed4b9fe40bc",
            "504f1b68b51e4253ad28c54ea780464b",
            "24d4587a91f44456ab3086f08ddacfa1",
            "ccb2f0f11b124fb487ac291d5bd9328f",
            "c6c6b0a250f7457a98f5f0eb51f54cc7"
          ]
        },
        "id": "DP1V5FLtMY0M",
        "outputId": "58d170d4-a05a-4620-ba21-56440aa6f870"
      },
      "source": [
        "#===================================\n",
        "# 4.3 FineTune\n",
        "#===================================\n",
        "\n",
        "# 4.3.0 FineTune\n",
        "#===================================\n",
        "hparams_FineTune = Namespace(\n",
        "    # model\n",
        "    n_classes = hparams_SC.n_clusters,\n",
        "    freeze_base = False,\n",
        "    model_CLR_path = output_folder + '/model_CLR.ckpt',\n",
        "    model_CLS_path = output_folder + '/model_CLS.ckpt',\n",
        "\n",
        "    # confidence based loss parameters\n",
        "    threshold = CLS_prob_thre,\n",
        "    apply_class_balancing = True,   \n",
        "\n",
        "    # dataset\n",
        "    data = training_PIL_set,\n",
        "    trans1 = trans_weak,\n",
        "    trans2 = trans_strong,\n",
        "    \n",
        "    # traning\n",
        "    batch_size = 183,\n",
        "    train_size = 367,\n",
        "    lr = 1e-4,\n",
        "    epochs = 150,\n",
        ")\n",
        "\n",
        "model_FineTune, _, _ = fit_FineTune(hparams_FineTune, output_folder, verbose = False)\n",
        "\n",
        "# 4.3.1 output clustering results\n",
        "#===================================\n",
        "projections = run_thru_NN(model_FineTune, dataloader, 'proj')\n",
        "predictions = torch.argmax(projections, dim = 1)\n",
        "predictions = predictions.cpu().numpy()\n",
        "onehots = F.softmax(projections, dim = 1).cpu().numpy()\n",
        "probs = np.max(onehots, axis=1)\n",
        "\n",
        "# check accuracy if has benchmark groundtruth\n",
        "FineTune_acc, _ = get_Acc(predictions, training_labels)\n",
        "print('Accuracy of SimCLR + SC + FineTune: {}'.format(FineTune_acc))"
      ],
      "execution_count": null,
      "outputs": [
        {
          "output_type": "stream",
          "name": "stdout",
          "text": [
            "Loaded pretrained weights for efficientnet-b0\n"
          ]
        },
        {
          "output_type": "display_data",
          "data": {
            "application/vnd.jupyter.widget-view+json": {
              "model_id": "ec14aa6a92f541c9a29669a1f3accf8a",
              "version_minor": 0,
              "version_major": 2
            },
            "text/plain": [
              "  0%|          | 0/150 [00:00<?, ?it/s]"
            ]
          },
          "metadata": {}
        },
        {
          "output_type": "stream",
          "name": "stdout",
          "text": [
            "Accuracy of SimCLR + SC + FineTune: 0.9456\n"
          ]
        }
      ]
    },
    {
      "cell_type": "code",
      "metadata": {
        "colab": {
          "base_uri": "https://localhost:8080/"
        },
        "id": "IdFJoTjFO50T",
        "outputId": "760922ac-6593-418d-f68a-b6f7767a945c"
      },
      "source": [
        "#===================================\n",
        "# 4.3b FineTune (from checkpoint)\n",
        "#===================================\n",
        "\n",
        "# 4.3b.0 import model (step 2&3 use the same NN model: CLR_CLS)\n",
        "#===================================\n",
        "model_FineTune = CLR_CLS(20, True, 'model_CLR.ckpt')\n",
        "model_FineTune.load_state_dict(torch.load('model_FineTune.ckpt'))\n",
        "\n",
        "# 4.3b.1 output clustering results\n",
        "#===================================\n",
        "projections = run_thru_NN(model_FineTune, dataloader, 'proj')\n",
        "predictions = torch.argmax(projections, dim = 1)\n",
        "predictions = predictions.cpu().numpy()\n",
        "onehots = F.softmax(projections, dim = 1).cpu().numpy()\n",
        "probs = np.max(onehots, axis=1)\n",
        "\n",
        "# check accuracy if has benchmark groundtruth\n",
        "FineTune_acc, _ = get_Acc(predictions, training_labels)\n",
        "print('Accuracy of SimCLR + SC + FineTune: {}'.format(FineTune_acc))"
      ],
      "execution_count": null,
      "outputs": [
        {
          "output_type": "stream",
          "name": "stdout",
          "text": [
            "Loaded pretrained weights for efficientnet-b0\n",
            "During the training of current CLR_CLS model, the CNN base is frozen\n",
            "Accuracy of SimCLR + SC + FineTune: 0.9611\n"
          ]
        }
      ]
    },
    {
      "cell_type": "markdown",
      "metadata": {
        "id": "uf-2FZg7PHPy"
      },
      "source": [
        "**5. Output results**"
      ]
    },
    {
      "cell_type": "code",
      "metadata": {
        "colab": {
          "base_uri": "https://localhost:8080/",
          "height": 85,
          "referenced_widgets": [
            "211f879656604a11b2fa4de489920902",
            "9123e79e5711430aa0eab440cf53516f",
            "b97535f54d5a4ae38563996e8799d83a",
            "8d28c444627a473ca5e020329d353ef8",
            "8a4b6240e9d7472b81b482dced06e349",
            "25192aa8c98a4ae199840dee64c4cd53",
            "32cab6ccdf9e487f896f8ee827b7cae6",
            "995183981b314c8a9f1c222da4a8f009",
            "4db8a0d9e2644b43bfdf8bbac2f435ba",
            "5f53d1ee3aa04a68ac8ec1609dacd693",
            "ed416ccb423245d1a96bfe8e7c9e4d1d"
          ]
        },
        "id": "ZAnYclDSPK-W",
        "outputId": "d3f30e5c-9b3e-4500-f8dc-926f67546fad"
      },
      "source": [
        "output_montage_split(imgs, mzs, predictions, 'hot', 1.1, 1, SaveDir='Self-supervised clustering.png')"
      ],
      "execution_count": null,
      "outputs": [
        {
          "output_type": "stream",
          "name": "stdout",
          "text": [
            "workong on the montage plotting:\n"
          ]
        },
        {
          "output_type": "display_data",
          "data": {
            "application/vnd.jupyter.widget-view+json": {
              "model_id": "211f879656604a11b2fa4de489920902",
              "version_minor": 0,
              "version_major": 2
            },
            "text/plain": [
              "  0%|          | 0/20 [00:00<?, ?it/s]"
            ]
          },
          "metadata": {}
        },
        {
          "output_type": "stream",
          "name": "stdout",
          "text": [
            "all done\n"
          ]
        }
      ]
    }
  ]
}